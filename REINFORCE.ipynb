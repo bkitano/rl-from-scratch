{
 "cells": [
  {
   "cell_type": "code",
   "execution_count": 253,
   "metadata": {},
   "outputs": [
    {
     "data": {
      "text/plain": [
       "'0.29.0'"
      ]
     },
     "execution_count": 253,
     "metadata": {},
     "output_type": "execute_result"
    }
   ],
   "source": [
    "import gymnasium as gym\n",
    "import numpy as np\n",
    "gym.__version__"
   ]
  },
  {
   "cell_type": "code",
   "execution_count": 254,
   "metadata": {},
   "outputs": [],
   "source": [
    "env = gym.make(\"LunarLander-v2\")"
   ]
  },
  {
   "attachments": {},
   "cell_type": "markdown",
   "metadata": {},
   "source": [
    "From [docs](https://gymnasium.farama.org/environments/box2d/lunar_lander/)\n",
    "\n",
    "## Action Space\n",
    "There are four discrete actions available:\n",
    "\n",
    "0: do nothing\n",
    "\n",
    "1: fire left orientation engine\n",
    "\n",
    "2: fire main engine\n",
    "\n",
    "3: fire right orientation engine\n"
   ]
  },
  {
   "cell_type": "code",
   "execution_count": 255,
   "metadata": {},
   "outputs": [
    {
     "data": {
      "text/plain": [
       "Discrete(4)"
      ]
     },
     "execution_count": 255,
     "metadata": {},
     "output_type": "execute_result"
    }
   ],
   "source": [
    "env.action_space"
   ]
  },
  {
   "attachments": {},
   "cell_type": "markdown",
   "metadata": {},
   "source": [
    "\n",
    "## Observation Space\n",
    "The state is an 8-dimensional vector: the coordinates of the lander in x & y, its linear velocities in x & y, its angle, its angular velocity, and two booleans that represent whether each leg is in contact with the ground or not.\n"
   ]
  },
  {
   "cell_type": "code",
   "execution_count": 256,
   "metadata": {},
   "outputs": [
    {
     "name": "stdout",
     "output_type": "stream",
     "text": [
      "(8,)\n"
     ]
    },
    {
     "data": {
      "text/plain": [
       "Box([-1.5       -1.5       -5.        -5.        -3.1415927 -5.\n",
       " -0.        -0.       ], [1.5       1.5       5.        5.        3.1415927 5.        1.\n",
       " 1.       ], (8,), float32)"
      ]
     },
     "execution_count": 256,
     "metadata": {},
     "output_type": "execute_result"
    }
   ],
   "source": [
    "print(env.observation_space.shape)\n",
    "env.observation_space"
   ]
  },
  {
   "attachments": {},
   "cell_type": "markdown",
   "metadata": {},
   "source": [
    "## Rewards\n",
    "After every step a reward is granted. The total reward of an episode is the sum of the rewards for all the steps within that episode.\n",
    "\n",
    "For each step, the reward:\n",
    "\n",
    "- is increased/decreased the closer/further the lander is to the landing pad.\n",
    "- is increased/decreased the slower/faster the lander is moving.\n",
    "- is decreased the more the lander is tilted (angle not horizontal).\n",
    "- is increased by 10 points for each leg that is in contact with the ground.\n",
    "- is decreased by 0.03 points each frame a side engine is firing.\n",
    "- is decreased by 0.3 points each frame the main engine is firing.\n",
    "\n",
    "The episode receive an additional reward of -100 or +100 points for crashing or landing safely respectively.\n",
    "An episode is considered a solution if it scores at least 200 points."
   ]
  },
  {
   "attachments": {},
   "cell_type": "markdown",
   "metadata": {},
   "source": [
    "## Taking a step"
   ]
  },
  {
   "cell_type": "code",
   "execution_count": 257,
   "metadata": {},
   "outputs": [
    {
     "data": {
      "text/plain": [
       "-0.3011512839212571"
      ]
     },
     "execution_count": 257,
     "metadata": {},
     "output_type": "execute_result"
    }
   ],
   "source": [
    "env.reset()\n",
    "observation, reward, terminated, truncated, info = env.step(0)\n",
    "reward"
   ]
  },
  {
   "attachments": {},
   "cell_type": "markdown",
   "metadata": {},
   "source": [
    "## Reinforcement Learning Objective\n",
    "\n",
    "Our performance measure: \n",
    "\n",
    "$$\n",
    "J(\\theta) = \\mathbb{E} \\left[ \\sum_{t=0}^{T-1}r_{t+1} \\right]\n",
    "$$\n",
    "\n",
    "and our update rule:\n",
    "\n",
    "$$\n",
    "\\theta \\leftarrow \\theta + \\frac{\\partial}{\\partial \\theta} J(\\theta)\n",
    "$$"
   ]
  },
  {
   "attachments": {},
   "cell_type": "markdown",
   "metadata": {},
   "source": [
    "The gradient\n",
    "$$\n",
    "\\nabla J (\\theta) = \\mathbb{E}_\\pi \\left[ \\sum_a q_\\pi(S_t, a) \\nabla \\pi (a | S_t, \\theta) \\right]\n",
    "$$\n",
    "$$\n",
    "\\nabla J (\\theta) = \\mathbb{E}_\\pi \\left[ \\sum_a \\pi (a | S_t, \\theta) q_\\pi(S_t, a) \\frac{\\nabla \\pi (a | S_t, \\theta)}{\\pi (a | S_t, \\theta)} \\right]\n",
    "$$\n",
    "\n",
    "If we sample $A_t \\sim \\pi$, then we just replace the expectation over $a$ with the sample $A_t$. So we're doing this swap from expectation to sample:\n",
    "$$\n",
    "\\sum_a \\pi (a | S_t, \\theta) q_\\pi(S_t, a) \\rightarrow q_\\pi(S_t, A_t)\n",
    "$$\n",
    "which then simplifies $\\nabla J(\\theta)$ to\n",
    "\n",
    "$$\n",
    "\\nabla J (\\theta) = \\mathbb{E}_\\pi \\left[ q_\\pi(S_t, A_t) \\frac{\\nabla \\pi (A_t | S_t, \\theta)}{\\pi (A_t | S_t, \\theta)} \\right]\n",
    "$$\n",
    "\n",
    "and by $\\mathbb{E}_\\pi [G_t | S_t, A_t] = q_\\pi (S_t, A_t)$,\n",
    "\n",
    "$$\n",
    "\\nabla J (\\theta) = \\mathbb{E}_\\pi \\left[ G_t \\frac{\\nabla \\pi (A_t | S_t, \\theta)}{\\pi (A_t | S_t, \\theta)} \\right]\n",
    "$$"
   ]
  },
  {
   "attachments": {},
   "cell_type": "markdown",
   "metadata": {},
   "source": [
    "We're going to make one more simplification: note that $\\nabla \\ln x = \\frac{\\nabla x}{x}$, so\n",
    "$$\n",
    "\\nabla J (\\theta) = \\mathbb{E}_\\pi \\left[ G_t \\nabla \\ln \\pi (A_t | S_t, \\theta) \\right]\n",
    "$$"
   ]
  },
  {
   "attachments": {},
   "cell_type": "markdown",
   "metadata": {},
   "source": [
    "Now, we can actually calculate the value in brackets at each time step, and can then use it to update $\\theta$:\n",
    "\n",
    "$$\n",
    "\\theta_{t+1} = \\theta_t + \\alpha G_t \\nabla \\ln \\pi(A_t | S_t, \\theta_t)\n",
    "$$"
   ]
  },
  {
   "attachments": {},
   "cell_type": "markdown",
   "metadata": {},
   "source": [
    "We're now going to generate an episode $S_0, A_0, R_1,...,S_{T-1}, A_{T-1}, R_T$."
   ]
  },
  {
   "cell_type": "code",
   "execution_count": 258,
   "metadata": {},
   "outputs": [],
   "source": [
    "import torch\n",
    "import torch.nn as nn\n",
    "import torch.nn.functional as F\n",
    "\n",
    "# initialize policy network\n",
    "# takes in a state, determines the next action\n",
    "class PolicyNetwork(nn.Module):\n",
    "    def __init__(self, obs_size, action_size):\n",
    "        super().__init__()\n",
    "        self.layer = nn.Sequential(\n",
    "            nn.Linear(obs_size, action_size, bias=False),\n",
    "            nn.ReLU()\n",
    "        )\n",
    "        self.optimizer = torch.optim.Adam(self.parameters(), lr=1e-3)\n",
    "\n",
    "    def forward(self, x):\n",
    "        logits = self.layer(x)\n",
    "        return torch.log(F.softmax(logits, dim=-1) + 1e-9)\n",
    "    \n",
    "    def act(self, state):\n",
    "        state = torch.from_numpy(state).float().unsqueeze(0)\n",
    "        log_probs = self.forward(state).squeeze(0)\n",
    "        probs = torch.exp(log_probs)\n",
    "        action = torch.multinomial(probs, 1)\n",
    "        return action.item(), log_probs[action]\n",
    "    \n",
    "model = PolicyNetwork(env.observation_space.shape[0], (env.action_space.n - env.action_space.start))"
   ]
  },
  {
   "attachments": {},
   "cell_type": "markdown",
   "metadata": {},
   "source": [
    "Here is a full episode of the moon landing."
   ]
  },
  {
   "cell_type": "code",
   "execution_count": 259,
   "metadata": {},
   "outputs": [],
   "source": [
    "def run_episode(model, env=env):\n",
    "    observation, _ = env.reset()\n",
    "\n",
    "    rewards = []\n",
    "    log_probs = []\n",
    "    actions = []\n",
    "    observations = []\n",
    "\n",
    "    while True:\n",
    "        action, _log_probs = model.act(observation)\n",
    "        observation, reward, terminated, truncated, info = env.step(action)\n",
    "\n",
    "        actions.append(action)\n",
    "        rewards.append(reward)\n",
    "        log_probs.append(_log_probs)\n",
    "        observations.append(observation)\n",
    "\n",
    "        if terminated:\n",
    "            break\n",
    "\n",
    "    rewards = torch.tensor(rewards)\n",
    "    \n",
    "    return rewards, log_probs, actions, np.array(observations)\n",
    "\n",
    "model = PolicyNetwork(env.observation_space.shape[0], env.action_space.n)\n",
    "rewards, log_probs, actions, observations = run_episode(model)\n",
    "\n",
    "# print(rewards.shape)\n",
    "# print(len(log_probs))\n",
    "# print(actions)\n",
    "# print(observations)\n",
    "\n",
    "del model, rewards, log_probs, actions, observations"
   ]
  },
  {
   "attachments": {},
   "cell_type": "markdown",
   "metadata": {},
   "source": [
    "Notice how `log_probs` is an array of `torch.tensor`. We need this to be the case, because we have to run `.backward` on it later to calculate the gradients. Without doing this, we can't really use pytorch to do the heavy lifting for us."
   ]
  },
  {
   "attachments": {},
   "cell_type": "markdown",
   "metadata": {},
   "source": [
    "Now, at the end of the episode, we need to determine $G$, the expected reward at each timestep."
   ]
  },
  {
   "cell_type": "code",
   "execution_count": 260,
   "metadata": {},
   "outputs": [],
   "source": [
    "def discount_rewards(rewards, gamma=.99):\n",
    "    G = []\n",
    "    R = 0\n",
    "    for i in reversed(range(len(rewards))):\n",
    "        R = rewards[i] + gamma * R\n",
    "        G.insert(0, R)\n",
    "    return G\n",
    "\n",
    "# test it\n",
    "r = np.array([1,1,1,1,1])\n",
    "g = np.array(discount_rewards(r))\n",
    "t = np.array([4.90099501, 3.940399, 2.9701, 1.99, 1])\n",
    "assert np.allclose(g, t), \"Incorrect sum of discounted rewards\"\n",
    "del r, g, t"
   ]
  },
  {
   "cell_type": "code",
   "execution_count": 261,
   "metadata": {},
   "outputs": [
    {
     "name": "stdout",
     "output_type": "stream",
     "text": [
      "tensor([[-7.8811e-03, -6.5490e-03, -7.1798e-03,  7.3518e-03,  1.0625e-02,\n",
      "          3.9752e-03,  1.9509e-03,  0.0000e+00],\n",
      "        [ 1.9477e-03,  1.9461e-03,  1.9477e-03, -1.9502e-03, -1.9509e-03,\n",
      "         -8.0213e-05,  1.9481e-03,  0.0000e+00],\n",
      "        [ 1.7566e-03, -2.6492e-03, -2.5835e-03,  2.0991e-03, -1.2205e-03,\n",
      "          4.2160e-03,  0.0000e+00,  0.0000e+00],\n",
      "        [ 1.3075e-02,  1.4704e-02,  1.4443e-02, -1.3452e-02, -2.1751e-02,\n",
      "         -2.5636e-02,  1.9965e-04,  0.0000e+00]], grad_fn=<SubBackward0>)\n"
     ]
    }
   ],
   "source": [
    "def update(model, log_probs, rewards, alpha=0.01, gamma=0.99):\n",
    "    # compute the discounted rewards\n",
    "    G = discount_rewards(rewards, gamma)\n",
    "    for t in range(len(G)):\n",
    "        log_prob = log_probs[t]\n",
    "        g = G[t]\n",
    "\n",
    "        model.optimizer.zero_grad() # reset the gradients\n",
    "        log_prob.backward() # compute the gradients of log pi(A_t, S_t, theta) at each timestep\n",
    "        for param in model.parameters():\n",
    "            if param.grad is not None:\n",
    "                param.grad = alpha * gamma**t * g * param.grad # scale the gradients by the reward\n",
    "                param.grad = param.grad * -1. # flip the gradients (maximize the reward)\n",
    "        model.optimizer.step() # update the weights using the gradients\n",
    "\n",
    "# testing the update function\n",
    "model = PolicyNetwork(env.observation_space.shape[0], env.action_space.n)\n",
    "\n",
    "rewards, log_probs, actions, observations = run_episode(model)\n",
    "\n",
    "old = list(model.parameters())[0].clone()\n",
    "update(model, log_probs, rewards, alpha=1., gamma=1.) # no discounting, no scaling\n",
    "new = list(model.parameters())[0].clone()\n",
    "\n",
    "delta = new - old\n",
    "print(delta)\n",
    "\n",
    "left_leg_contact = (observations[:, -2]).sum() > 0\n",
    "right_leg_contact = (observations[:, -1]).sum() > 0\n",
    "\n",
    "left_leg_delta = delta[:, -2].sum(axis=0)\n",
    "right_leg_delta = delta[:, -1].sum(axis=0)\n",
    "\n",
    "# if there was no right leg contact, the right leg should have 0 delta\n",
    "assert left_leg_contact == True or left_leg_delta == 0.\n",
    "assert right_leg_contact == True or right_leg_delta == 0.\n",
    "\n",
    "# del model, rewards, log_probs"
   ]
  },
  {
   "attachments": {},
   "cell_type": "markdown",
   "metadata": {},
   "source": [
    "So the thing that's confusing me about this is: how could we be getting no changes in some of the weights? If we analyze the weight matrix, what we're seeing is the following table of how much each weight is changing:\n",
    "\n",
    "|                      | x-coord | y-coord | x-vel | y-vel | angle | angular-vel | left-leg-contact | right-leg-contact |\n",
    "|----------------------|---------|---------|-------|-------|-------|-------------|------------------|-------------------|\n",
    "| action 0: no-op      |         |         |       |       |       |             |                  |                   |\n",
    "| action 1: fire left  |         |         |       |       |       |             |                  |                   |\n",
    "| action 2: fire main  |         |         |       |       |       |             |                  |                   |\n",
    "| action 3: fire right |         |         |       |       |       |             |                  |                   |\n",
    "\n",
    "It makes sense as to why the policy gradient would be 0 for the left and right leg contact, if in the given episode it never made contact (the lander spun upside-down).\n",
    "\n",
    "Now a policy with no priors will draw from the actions equally, and with 20 steps it's basically certain that we'll choose each of the four actions at least once. So that's what's confusing to me: how is it that we're basically guaranteed to try all the actions but yield 0 delta."
   ]
  },
  {
   "attachments": {},
   "cell_type": "markdown",
   "metadata": {},
   "source": [
    "And now we'll try it for a bunch of episodes."
   ]
  },
  {
   "cell_type": "code",
   "execution_count": 262,
   "metadata": {},
   "outputs": [
    {
     "ename": "KeyboardInterrupt",
     "evalue": "",
     "output_type": "error",
     "traceback": [
      "\u001b[0;31m---------------------------------------------------------------------------\u001b[0m",
      "\u001b[0;31mKeyboardInterrupt\u001b[0m                         Traceback (most recent call last)",
      "Cell \u001b[0;32mIn[262], line 13\u001b[0m\n\u001b[1;32m     11\u001b[0m \u001b[39mfor\u001b[39;00m i \u001b[39min\u001b[39;00m \u001b[39mrange\u001b[39m(\u001b[39m10000\u001b[39m):\n\u001b[1;32m     12\u001b[0m     rewards, log_probs, actions, observations \u001b[39m=\u001b[39m run_episode(model)\n\u001b[0;32m---> 13\u001b[0m     update(model, log_probs, rewards)\n\u001b[1;32m     15\u001b[0m     rewards_track \u001b[39m+\u001b[39m\u001b[39m=\u001b[39m [\u001b[39msum\u001b[39m(rewards)\u001b[39m.\u001b[39mdetach()\u001b[39m.\u001b[39mtolist()]\n\u001b[1;32m     17\u001b[0m     \u001b[39mif\u001b[39;00m i \u001b[39m%\u001b[39m \u001b[39m100\u001b[39m \u001b[39m==\u001b[39m \u001b[39m0\u001b[39m:\n",
      "Cell \u001b[0;32mIn[261], line 9\u001b[0m, in \u001b[0;36mupdate\u001b[0;34m(model, log_probs, rewards, alpha, gamma)\u001b[0m\n\u001b[1;32m      6\u001b[0m g \u001b[39m=\u001b[39m G[t]\n\u001b[1;32m      8\u001b[0m model\u001b[39m.\u001b[39moptimizer\u001b[39m.\u001b[39mzero_grad() \u001b[39m# reset the gradients\u001b[39;00m\n\u001b[0;32m----> 9\u001b[0m log_prob\u001b[39m.\u001b[39;49mbackward() \u001b[39m# compute the gradients of log pi(A_t, S_t, theta) at each timestep\u001b[39;00m\n\u001b[1;32m     10\u001b[0m \u001b[39mfor\u001b[39;00m param \u001b[39min\u001b[39;00m model\u001b[39m.\u001b[39mparameters():\n\u001b[1;32m     11\u001b[0m     \u001b[39mif\u001b[39;00m param\u001b[39m.\u001b[39mgrad \u001b[39mis\u001b[39;00m \u001b[39mnot\u001b[39;00m \u001b[39mNone\u001b[39;00m:\n",
      "File \u001b[0;32m~/Desktop/projects/rl/.rl/lib/python3.11/site-packages/torch/_tensor.py:487\u001b[0m, in \u001b[0;36mTensor.backward\u001b[0;34m(self, gradient, retain_graph, create_graph, inputs)\u001b[0m\n\u001b[1;32m    477\u001b[0m \u001b[39mif\u001b[39;00m has_torch_function_unary(\u001b[39mself\u001b[39m):\n\u001b[1;32m    478\u001b[0m     \u001b[39mreturn\u001b[39;00m handle_torch_function(\n\u001b[1;32m    479\u001b[0m         Tensor\u001b[39m.\u001b[39mbackward,\n\u001b[1;32m    480\u001b[0m         (\u001b[39mself\u001b[39m,),\n\u001b[0;32m   (...)\u001b[0m\n\u001b[1;32m    485\u001b[0m         inputs\u001b[39m=\u001b[39minputs,\n\u001b[1;32m    486\u001b[0m     )\n\u001b[0;32m--> 487\u001b[0m torch\u001b[39m.\u001b[39;49mautograd\u001b[39m.\u001b[39;49mbackward(\n\u001b[1;32m    488\u001b[0m     \u001b[39mself\u001b[39;49m, gradient, retain_graph, create_graph, inputs\u001b[39m=\u001b[39;49minputs\n\u001b[1;32m    489\u001b[0m )\n",
      "File \u001b[0;32m~/Desktop/projects/rl/.rl/lib/python3.11/site-packages/torch/autograd/__init__.py:200\u001b[0m, in \u001b[0;36mbackward\u001b[0;34m(tensors, grad_tensors, retain_graph, create_graph, grad_variables, inputs)\u001b[0m\n\u001b[1;32m    195\u001b[0m     retain_graph \u001b[39m=\u001b[39m create_graph\n\u001b[1;32m    197\u001b[0m \u001b[39m# The reason we repeat same the comment below is that\u001b[39;00m\n\u001b[1;32m    198\u001b[0m \u001b[39m# some Python versions print out the first line of a multi-line function\u001b[39;00m\n\u001b[1;32m    199\u001b[0m \u001b[39m# calls in the traceback and some print out the last line\u001b[39;00m\n\u001b[0;32m--> 200\u001b[0m Variable\u001b[39m.\u001b[39;49m_execution_engine\u001b[39m.\u001b[39;49mrun_backward(  \u001b[39m# Calls into the C++ engine to run the backward pass\u001b[39;49;00m\n\u001b[1;32m    201\u001b[0m     tensors, grad_tensors_, retain_graph, create_graph, inputs,\n\u001b[1;32m    202\u001b[0m     allow_unreachable\u001b[39m=\u001b[39;49m\u001b[39mTrue\u001b[39;49;00m, accumulate_grad\u001b[39m=\u001b[39;49m\u001b[39mTrue\u001b[39;49;00m)\n",
      "\u001b[0;31mKeyboardInterrupt\u001b[0m: "
     ]
    }
   ],
   "source": [
    "from matplotlib import pyplot as plt\n",
    "from IPython.display import display, clear_output\n",
    "\n",
    "network_shape = env.observation_space.shape[0], (env.action_space.n - env.action_space.start)\n",
    "model = PolicyNetwork(*network_shape)\n",
    "\n",
    "rewards_track = []\n",
    "fig = plt.figure()\n",
    "ax = fig.add_subplot(1,1,1)\n",
    "\n",
    "for i in range(10000):\n",
    "    rewards, log_probs, actions, observations = run_episode(model)\n",
    "    update(model, log_probs, rewards)\n",
    "\n",
    "    rewards_track += [sum(rewards).detach().tolist()]\n",
    "\n",
    "    if i % 100 == 0:\n",
    "        ax.clear()\n",
    "        ax.plot(rewards_track)\n",
    "        ax.set_title(\"Reward\")\n",
    "\n",
    "        # add a smoothed version\n",
    "        if len(rewards_track) > 100:\n",
    "            smoothed = [np.mean(rewards_track[i:i+100]) for i in range(len(rewards_track) - 100)]\n",
    "            ax.plot(smoothed)\n",
    "\n",
    "        display(fig)\n",
    "        clear_output(wait=True)\n",
    "        plt.pause(0.001)\n",
    "\n",
    "        if sum(rewards_track[-100:]) / 100 > 195:\n",
    "            print(\"Solved!\")\n",
    "            break"
   ]
  },
  {
   "attachments": {},
   "cell_type": "markdown",
   "metadata": {},
   "source": [
    "So at some point in training, we run an episode which totally goes off the rails, yielding a reward that is many standard deviations from the normal range. I think the sessions are also probably longer too, because the lunar lander is just wizzing around, yielding bad rewards and many timesteps. We can check this easily by plotting the number of steps in an episode."
   ]
  },
  {
   "cell_type": "code",
   "execution_count": 263,
   "metadata": {},
   "outputs": [
    {
     "ename": "KeyboardInterrupt",
     "evalue": "",
     "output_type": "error",
     "traceback": [
      "\u001b[0;31m---------------------------------------------------------------------------\u001b[0m",
      "\u001b[0;31mKeyboardInterrupt\u001b[0m                         Traceback (most recent call last)",
      "Cell \u001b[0;32mIn[263], line 15\u001b[0m\n\u001b[1;32m     13\u001b[0m \u001b[39mfor\u001b[39;00m i \u001b[39min\u001b[39;00m \u001b[39mrange\u001b[39m(\u001b[39m5000\u001b[39m):\n\u001b[1;32m     14\u001b[0m     rewards, log_probs, actions, observations \u001b[39m=\u001b[39m run_episode(model)\n\u001b[0;32m---> 15\u001b[0m     update(model, log_probs, rewards)\n\u001b[1;32m     17\u001b[0m     rewards_track \u001b[39m+\u001b[39m\u001b[39m=\u001b[39m [\u001b[39msum\u001b[39m(rewards)\u001b[39m.\u001b[39mdetach()\u001b[39m.\u001b[39mtolist()]\n\u001b[1;32m     18\u001b[0m     steps_per_episode \u001b[39m+\u001b[39m\u001b[39m=\u001b[39m [\u001b[39mlen\u001b[39m(actions)]\n",
      "Cell \u001b[0;32mIn[261], line 3\u001b[0m, in \u001b[0;36mupdate\u001b[0;34m(model, log_probs, rewards, alpha, gamma)\u001b[0m\n\u001b[1;32m      1\u001b[0m \u001b[39mdef\u001b[39;00m \u001b[39mupdate\u001b[39m(model, log_probs, rewards, alpha\u001b[39m=\u001b[39m\u001b[39m0.01\u001b[39m, gamma\u001b[39m=\u001b[39m\u001b[39m0.99\u001b[39m):\n\u001b[1;32m      2\u001b[0m     \u001b[39m# compute the discounted rewards\u001b[39;00m\n\u001b[0;32m----> 3\u001b[0m     G \u001b[39m=\u001b[39m discount_rewards(rewards, gamma)\n\u001b[1;32m      4\u001b[0m     \u001b[39mfor\u001b[39;00m t \u001b[39min\u001b[39;00m \u001b[39mrange\u001b[39m(\u001b[39mlen\u001b[39m(G)):\n\u001b[1;32m      5\u001b[0m         log_prob \u001b[39m=\u001b[39m log_probs[t]\n",
      "Cell \u001b[0;32mIn[260], line 6\u001b[0m, in \u001b[0;36mdiscount_rewards\u001b[0;34m(rewards, gamma)\u001b[0m\n\u001b[1;32m      4\u001b[0m \u001b[39mfor\u001b[39;00m i \u001b[39min\u001b[39;00m \u001b[39mreversed\u001b[39m(\u001b[39mrange\u001b[39m(\u001b[39mlen\u001b[39m(rewards))):\n\u001b[1;32m      5\u001b[0m     R \u001b[39m=\u001b[39m rewards[i] \u001b[39m+\u001b[39m gamma \u001b[39m*\u001b[39m R\n\u001b[0;32m----> 6\u001b[0m     G\u001b[39m.\u001b[39minsert(\u001b[39m0\u001b[39m, R)\n\u001b[1;32m      7\u001b[0m \u001b[39mreturn\u001b[39;00m G\n",
      "\u001b[0;31mKeyboardInterrupt\u001b[0m: "
     ]
    }
   ],
   "source": [
    "from matplotlib import pyplot as plt\n",
    "from IPython.display import display, clear_output\n",
    "\n",
    "network_shape = env.observation_space.shape[0], (env.action_space.n - env.action_space.start)\n",
    "model = PolicyNetwork(*network_shape)\n",
    "\n",
    "rewards_track = []\n",
    "steps_per_episode = []\n",
    "fig = plt.figure()\n",
    "ax = fig.add_subplot(1,1,1)\n",
    "ax2 = fig.add_subplot(1,2,1)\n",
    "\n",
    "for i in range(5000):\n",
    "    rewards, log_probs, actions, observations = run_episode(model)\n",
    "    update(model, log_probs, rewards)\n",
    "\n",
    "    rewards_track += [sum(rewards).detach().tolist()]\n",
    "    steps_per_episode += [len(actions)]\n",
    "\n",
    "    if i % 100 == 0:\n",
    "        ax.clear()\n",
    "        ax.plot(rewards_track)\n",
    "        ax.set_title(\"Reward\")\n",
    "\n",
    "        # add a smoothed version\n",
    "        if len(rewards_track) > 100:\n",
    "            smoothed = [np.mean(rewards_track[i:i+100]) for i in range(len(rewards_track) - 100)]\n",
    "            ax.plot(smoothed)\n",
    "\n",
    "        # also plot the number of steps\n",
    "        ax2.plot(steps_per_episode, color='red')\n",
    "\n",
    "        display(fig)\n",
    "        clear_output(wait=True)\n",
    "        plt.pause(0.001)\n",
    "\n",
    "        if sum(rewards_track[-100:]) / 100 > 195:\n",
    "            print(\"Solved!\")\n",
    "            break"
   ]
  },
  {
   "attachments": {},
   "cell_type": "markdown",
   "metadata": {},
   "source": [
    "Yep, so we need to cap our episode lengths. If we don't solve within say 1000 steps, it should just be a failure."
   ]
  },
  {
   "cell_type": "code",
   "execution_count": 264,
   "metadata": {},
   "outputs": [],
   "source": [
    "def run_episode(model, env=env, max_steps=1000):\n",
    "    observation, _ = env.reset()\n",
    "\n",
    "    rewards = []\n",
    "    log_probs = []\n",
    "    actions = []\n",
    "    observations = []\n",
    "\n",
    "    steps = 0\n",
    "\n",
    "    while True:\n",
    "        action, _log_probs = model.act(observation)\n",
    "        observation, reward, terminated, truncated, info = env.step(action)\n",
    "        steps += 1\n",
    "\n",
    "        actions.append(action)\n",
    "        rewards.append(reward)\n",
    "        log_probs.append(_log_probs)\n",
    "        observations.append(observation)\n",
    "\n",
    "        if terminated:\n",
    "            break\n",
    "\n",
    "        if steps >= max_steps:\n",
    "            break\n",
    "\n",
    "    rewards = torch.tensor(rewards)\n",
    "    \n",
    "    return rewards, log_probs, actions, np.array(observations)\n",
    "\n",
    "model = PolicyNetwork(env.observation_space.shape[0], env.action_space.n)\n",
    "rewards, log_probs, actions, observations = run_episode(model)\n",
    "\n",
    "# print(rewards.shape)\n",
    "# print(len(log_probs))\n",
    "# print(actions)\n",
    "# print(observations)\n",
    "\n",
    "del model, rewards, log_probs, actions, observations"
   ]
  },
  {
   "cell_type": "code",
   "execution_count": 265,
   "metadata": {},
   "outputs": [
    {
     "ename": "KeyboardInterrupt",
     "evalue": "",
     "output_type": "error",
     "traceback": [
      "\u001b[0;31m---------------------------------------------------------------------------\u001b[0m",
      "\u001b[0;31mKeyboardInterrupt\u001b[0m                         Traceback (most recent call last)",
      "Cell \u001b[0;32mIn[265], line 15\u001b[0m\n\u001b[1;32m     13\u001b[0m \u001b[39mfor\u001b[39;00m i \u001b[39min\u001b[39;00m \u001b[39mrange\u001b[39m(\u001b[39m5000\u001b[39m):\n\u001b[1;32m     14\u001b[0m     rewards, log_probs, actions, observations \u001b[39m=\u001b[39m run_episode(model)\n\u001b[0;32m---> 15\u001b[0m     update(model, log_probs, rewards)\n\u001b[1;32m     17\u001b[0m     rewards_track \u001b[39m+\u001b[39m\u001b[39m=\u001b[39m [\u001b[39msum\u001b[39m(rewards)\u001b[39m.\u001b[39mdetach()\u001b[39m.\u001b[39mtolist()]\n\u001b[1;32m     18\u001b[0m     steps_per_episode \u001b[39m+\u001b[39m\u001b[39m=\u001b[39m [\u001b[39mlen\u001b[39m(actions)]\n",
      "Cell \u001b[0;32mIn[261], line 9\u001b[0m, in \u001b[0;36mupdate\u001b[0;34m(model, log_probs, rewards, alpha, gamma)\u001b[0m\n\u001b[1;32m      6\u001b[0m g \u001b[39m=\u001b[39m G[t]\n\u001b[1;32m      8\u001b[0m model\u001b[39m.\u001b[39moptimizer\u001b[39m.\u001b[39mzero_grad() \u001b[39m# reset the gradients\u001b[39;00m\n\u001b[0;32m----> 9\u001b[0m log_prob\u001b[39m.\u001b[39;49mbackward() \u001b[39m# compute the gradients of log pi(A_t, S_t, theta) at each timestep\u001b[39;00m\n\u001b[1;32m     10\u001b[0m \u001b[39mfor\u001b[39;00m param \u001b[39min\u001b[39;00m model\u001b[39m.\u001b[39mparameters():\n\u001b[1;32m     11\u001b[0m     \u001b[39mif\u001b[39;00m param\u001b[39m.\u001b[39mgrad \u001b[39mis\u001b[39;00m \u001b[39mnot\u001b[39;00m \u001b[39mNone\u001b[39;00m:\n",
      "File \u001b[0;32m~/Desktop/projects/rl/.rl/lib/python3.11/site-packages/torch/_tensor.py:487\u001b[0m, in \u001b[0;36mTensor.backward\u001b[0;34m(self, gradient, retain_graph, create_graph, inputs)\u001b[0m\n\u001b[1;32m    477\u001b[0m \u001b[39mif\u001b[39;00m has_torch_function_unary(\u001b[39mself\u001b[39m):\n\u001b[1;32m    478\u001b[0m     \u001b[39mreturn\u001b[39;00m handle_torch_function(\n\u001b[1;32m    479\u001b[0m         Tensor\u001b[39m.\u001b[39mbackward,\n\u001b[1;32m    480\u001b[0m         (\u001b[39mself\u001b[39m,),\n\u001b[0;32m   (...)\u001b[0m\n\u001b[1;32m    485\u001b[0m         inputs\u001b[39m=\u001b[39minputs,\n\u001b[1;32m    486\u001b[0m     )\n\u001b[0;32m--> 487\u001b[0m torch\u001b[39m.\u001b[39;49mautograd\u001b[39m.\u001b[39;49mbackward(\n\u001b[1;32m    488\u001b[0m     \u001b[39mself\u001b[39;49m, gradient, retain_graph, create_graph, inputs\u001b[39m=\u001b[39;49minputs\n\u001b[1;32m    489\u001b[0m )\n",
      "File \u001b[0;32m~/Desktop/projects/rl/.rl/lib/python3.11/site-packages/torch/autograd/__init__.py:200\u001b[0m, in \u001b[0;36mbackward\u001b[0;34m(tensors, grad_tensors, retain_graph, create_graph, grad_variables, inputs)\u001b[0m\n\u001b[1;32m    195\u001b[0m     retain_graph \u001b[39m=\u001b[39m create_graph\n\u001b[1;32m    197\u001b[0m \u001b[39m# The reason we repeat same the comment below is that\u001b[39;00m\n\u001b[1;32m    198\u001b[0m \u001b[39m# some Python versions print out the first line of a multi-line function\u001b[39;00m\n\u001b[1;32m    199\u001b[0m \u001b[39m# calls in the traceback and some print out the last line\u001b[39;00m\n\u001b[0;32m--> 200\u001b[0m Variable\u001b[39m.\u001b[39;49m_execution_engine\u001b[39m.\u001b[39;49mrun_backward(  \u001b[39m# Calls into the C++ engine to run the backward pass\u001b[39;49;00m\n\u001b[1;32m    201\u001b[0m     tensors, grad_tensors_, retain_graph, create_graph, inputs,\n\u001b[1;32m    202\u001b[0m     allow_unreachable\u001b[39m=\u001b[39;49m\u001b[39mTrue\u001b[39;49;00m, accumulate_grad\u001b[39m=\u001b[39;49m\u001b[39mTrue\u001b[39;49;00m)\n",
      "\u001b[0;31mKeyboardInterrupt\u001b[0m: "
     ]
    }
   ],
   "source": [
    "from matplotlib import pyplot as plt\n",
    "from IPython.display import display, clear_output\n",
    "\n",
    "network_shape = env.observation_space.shape[0], (env.action_space.n - env.action_space.start)\n",
    "model = PolicyNetwork(*network_shape)\n",
    "\n",
    "rewards_track = []\n",
    "steps_per_episode = []\n",
    "fig = plt.figure()\n",
    "ax = fig.add_subplot(1,1,1)\n",
    "ax2 = fig.add_subplot(1,2,1)\n",
    "\n",
    "for i in range(5000):\n",
    "    rewards, log_probs, actions, observations = run_episode(model)\n",
    "    update(model, log_probs, rewards)\n",
    "\n",
    "    rewards_track += [sum(rewards).detach().tolist()]\n",
    "    steps_per_episode += [len(actions)]\n",
    "\n",
    "    if i % 100 == 0:\n",
    "        ax.clear()\n",
    "        ax.plot(rewards_track)\n",
    "        ax.set_title(\"Reward\")\n",
    "\n",
    "        # add a smoothed version\n",
    "        if len(rewards_track) > 100:\n",
    "            smoothed = [np.mean(rewards_track[i:i+100]) for i in range(len(rewards_track) - 100)]\n",
    "            ax.plot(smoothed)\n",
    "\n",
    "        # also plot the number of steps\n",
    "        ax2.plot(steps_per_episode, color='red')\n",
    "\n",
    "        display(fig)\n",
    "        clear_output(wait=True)\n",
    "        plt.pause(0.001)\n",
    "\n",
    "        if sum(rewards_track[-100:]) / 100 > 195:\n",
    "            print(\"Solved!\")\n",
    "            break"
   ]
  },
  {
   "attachments": {},
   "cell_type": "markdown",
   "metadata": {},
   "source": [
    "Interesting: the policy that we're learning is now just learning to fly off without landing. The behavior we're learning is to not actually land, but to not crash. Note how the score is never breaking above 100, so it's likely never learning to land. We can check this as well by plotting the moving average of how many episodes end with both legs in contact."
   ]
  },
  {
   "cell_type": "code",
   "execution_count": 276,
   "metadata": {},
   "outputs": [
    {
     "data": {
      "image/png": "[encoded data removed]",
      "text/plain": [
       "<Figure size 640x480 with 3 Axes>"
      ]
     },
     "metadata": {},
     "output_type": "display_data"
    }
   ],
   "source": [
    "from matplotlib import pyplot as plt\n",
    "from IPython.display import display, clear_output\n",
    "\n",
    "network_shape = env.observation_space.shape[0], (env.action_space.n - env.action_space.start)\n",
    "model = PolicyNetwork(*network_shape)\n",
    "\n",
    "rewards_track = []\n",
    "steps_per_episode = []\n",
    "landed = []\n",
    "\n",
    "fig = plt.figure()\n",
    "ax = fig.add_subplot(1,3,1)\n",
    "ax2 = fig.add_subplot(1,3,2)\n",
    "ax3 = fig.add_subplot(1,3,3)\n",
    "\n",
    "for i in range(4000):\n",
    "    rewards, log_probs, actions, observations = run_episode(model)\n",
    "    update(model, log_probs, rewards)\n",
    "\n",
    "    rewards_track += [sum(rewards).detach().tolist()]\n",
    "    steps_per_episode += [len(actions)]\n",
    "    landed += [observations[-1, -2:].sum() == 2]\n",
    "\n",
    "    if i % 100 == 0:\n",
    "        ax.clear()\n",
    "        ax.plot(rewards_track)\n",
    "        ax.set_title(\"Reward\")\n",
    "\n",
    "        # add a smoothed version\n",
    "        if len(rewards_track) > 100:\n",
    "            smoothed = [np.mean(rewards_track[i:i+100]) for i in range(len(rewards_track) - 100)]\n",
    "            ax.plot(smoothed)\n",
    "\n",
    "        # also plot the number of steps\n",
    "        ax2.plot(steps_per_episode, color='red')\n",
    "        ax2.set_title(\"Steps per episode\")\n",
    "\n",
    "        # and the number of times we landed\n",
    "        ax3.set_title(\"Landed\")\n",
    "        if len(landed) > 20:\n",
    "            smoothed = [np.mean(landed[i:i+20]) for i in range(len(landed) - 20)]\n",
    "            ax3.plot(smoothed, color='green')\n",
    "\n",
    "        display(fig)\n",
    "        clear_output(wait=True)\n",
    "        plt.pause(0.001)\n",
    "\n",
    "        if sum(rewards_track[-100:]) / 100 > 195:\n",
    "            print(\"Solved!\")\n",
    "            break"
   ]
  },
  {
   "cell_type": "code",
   "execution_count": null,
   "metadata": {},
   "outputs": [
    {
     "data": {
      "text/plain": [
       "tensor([-0.0150], grad_fn=<AddBackward0>)"
      ]
     },
     "execution_count": 11,
     "metadata": {},
     "output_type": "execute_result"
    }
   ],
   "source": [
    "import torch\n",
    "import torch.nn as nn\n",
    "\n",
    "# takes in a state, estimates the value of the state v(s)\n",
    "class StateValueNetwork(nn.Module):\n",
    "    def __init__(self, state_size, hidden_size=128):\n",
    "        super().__init__()\n",
    "        self.layer = nn.Sequential(\n",
    "            nn.Linear(state_size, hidden_size),\n",
    "            nn.ReLU(),\n",
    "            nn.Linear(hidden_size, 1)\n",
    "        )\n",
    "        self.optimizer = torch.optim.Adam(self.parameters(), lr=1e-3)\n",
    "\n",
    "    def forward(self, state):\n",
    "        return self.layer(torch.tensor(state))\n",
    "    \n",
    "model = StateValueNetwork(env.observation_space.shape[0])\n",
    "observation, _ = env.reset()\n",
    "model(observation)"
   ]
  },
  {
   "cell_type": "code",
   "execution_count": null,
   "metadata": {},
   "outputs": [],
   "source": [
    "def run_episode(model, env=env):\n",
    "    observation, _ = env.reset()\n",
    "    step = 0\n",
    "\n",
    "    rewards = []\n",
    "    log_probs = []\n",
    "    states = [observation]\n",
    "\n",
    "    while True:\n",
    "        action, _log_probs = model.act(observation)\n",
    "        observation, reward, terminated, truncated, info = env.step(action)\n",
    "\n",
    "        rewards.append(reward)\n",
    "        log_probs.append(_log_probs)\n",
    "        states.append(observation)\n",
    "\n",
    "        if terminated:\n",
    "            observation = env.reset()\n",
    "            break\n",
    "        step += 1\n",
    "\n",
    "    rewards = torch.tensor(rewards)\n",
    "    \n",
    "    return rewards, log_probs, states\n",
    "\n",
    "model = PolicyNetwork(*network_shape)\n",
    "rewards, log_probs, states = run_episode(model)"
   ]
  },
  {
   "cell_type": "code",
   "execution_count": null,
   "metadata": {},
   "outputs": [],
   "source": [
    "def update_with_baseline(policy_model, state_value_model, log_probs, discounted_rewards, states, alpha=0.01):\n",
    "    for (t,(log_prob, reward, state)) in enumerate(zip(log_probs, discounted_rewards, states)):\n",
    "        \n",
    "        # update for the state value model\n",
    "        baseline = state_value_model(state)\n",
    "        state_value_model.optimizer.zero_grad() # reset the gradients\n",
    "        baseline.backward()\n",
    "        for param in state_value_model.parameters():\n",
    "            if param.grad is not None:\n",
    "                alpha = .1 / torch.mean(param.grad**2)\n",
    "                param.grad = alpha * (reward - baseline) * param.grad\n",
    "                param.grad = param.grad * -1. # flip the gradients (maximize the reward)\n",
    "        state_value_model.optimizer.step() # update the weights using the gradients\n",
    "\n",
    "        # updates for the policy model\n",
    "        policy_model.optimizer.zero_grad() # reset the gradients\n",
    "        log_prob.backward() # compute the gradients for each log pi(A_t, S_t, theta)\n",
    "        for param in policy_model.parameters():\n",
    "            if param.grad is not None:\n",
    "                param.grad = alpha * (reward - baseline) * gamma**t * param.grad   # scale the gradients by the reward\n",
    "                param.grad = param.grad * -1. # flip the gradients (maximize the reward)\n",
    "        policy_model.optimizer.step() # update the weights using the gradients\n",
    "\n",
    "policy = PolicyNetwork(env.observation_space.shape[0], env.action_space.n)\n",
    "state_value = StateValueNetwork(env.observation_space.shape[0])\n",
    "update_with_baseline(policy, state_value, log_probs, discount_rewards(rewards, gamma), states)"
   ]
  },
  {
   "cell_type": "code",
   "execution_count": null,
   "metadata": {},
   "outputs": [
    {
     "data": {
      "image/png": "[encoded data removed]",
      "text/plain": [
       "<Figure size 640x480 with 1 Axes>"
      ]
     },
     "metadata": {},
     "output_type": "display_data"
    }
   ],
   "source": [
    "from matplotlib import pyplot as plt\n",
    "from IPython.display import display, clear_output\n",
    "\n",
    "policy = PolicyNetwork(*network_shape)\n",
    "state = StateValueNetwork(env.observation_space.shape[0])\n",
    "\n",
    "rewards_track = []\n",
    "fig = plt.figure()\n",
    "ax = fig.add_subplot(1,1,1)\n",
    "\n",
    "for i in range(3000):\n",
    "    rewards, log_probs, states = run_episode(model)\n",
    "    d_rewards = discount_rewards(rewards, gamma)\n",
    "    update_with_baseline(policy, state, log_probs, d_rewards, states)\n",
    "\n",
    "    rewards_track += [sum(rewards).detach().tolist()]\n",
    "\n",
    "    if i % 100 == 0:\n",
    "\n",
    "        ax.clear()\n",
    "        ax.plot(rewards_track)\n",
    "        ax.set_title(\"Reward\")\n",
    "        # add a smoothed version\n",
    "        if len(rewards_track) > 100:\n",
    "            smoothed = [np.mean(rewards_track[i:i+100]) for i in range(len(rewards_track) - 100)]\n",
    "            ax.plot(smoothed)\n",
    "\n",
    "        display(fig)\n",
    "        clear_output(wait=True)\n",
    "        plt.pause(0.001)\n",
    "\n",
    "        if sum(rewards_track[-100:]) / 100 > 195:\n",
    "            print(\"Solved!\")\n",
    "            break"
   ]
  },
  {
   "attachments": {},
   "cell_type": "markdown",
   "metadata": {},
   "source": [
    "Alright, so something is broken in our implementation of the state value. Let's try to fix it. Good first check is on the gradients. Are they flowing?"
   ]
  },
  {
   "cell_type": "code",
   "execution_count": null,
   "metadata": {},
   "outputs": [
    {
     "data": {
      "text/plain": [
       "[('layer.0.weight', '0.0%'),\n",
       " ('layer.0.bias', '0.0%'),\n",
       " ('layer.2.weight', '0.0%'),\n",
       " ('layer.2.bias', '0.0%')]"
      ]
     },
     "execution_count": 47,
     "metadata": {},
     "output_type": "execute_result"
    }
   ],
   "source": [
    "# print the percentage that are near 0\n",
    "def show_grads(model, tol=1e-2):\n",
    "    return sorted([(name, f\"{100.0 * float(torch.sum(torch.abs(param) <= tol)) / float(param.nelement())}%\") for name, param in model.named_parameters() if param.requires_grad], key=lambda t: t[1], reverse=True)\n",
    "\n",
    "show_grads(state)"
   ]
  },
  {
   "attachments": {},
   "cell_type": "markdown",
   "metadata": {},
   "source": [
    "So none of our gradients are at 0. That's good. Let's check how they're distributed. Ideally, we want them to be centered around 0 and have a small variance. This means that the gradients are neither too big nor too small, and that they're both positive and negative."
   ]
  },
  {
   "cell_type": "code",
   "execution_count": null,
   "metadata": {},
   "outputs": [
    {
     "data": {
      "image/png": "[encoded data removed]",
      "text/plain": [
       "<Figure size 640x480 with 4 Axes>"
      ]
     },
     "metadata": {},
     "output_type": "display_data"
    }
   ],
   "source": [
    "\n",
    "fig, ax = plt.subplots(1, len(list(state.parameters())))\n",
    "for (i, (name, param)) in enumerate(state.named_parameters()):\n",
    "    # set the subplot title to be the parameter name\n",
    "    ax[i].set_title(name)\n",
    "    # plot the parameter values\n",
    "    ax[i].hist(param.flatten().detach().numpy(), bins=20)"
   ]
  },
  {
   "attachments": {},
   "cell_type": "markdown",
   "metadata": {},
   "source": [
    "I think we need to normalize the gradient values, much like batch RMS."
   ]
  },
  {
   "cell_type": "code",
   "execution_count": null,
   "metadata": {},
   "outputs": [
    {
     "ename": "RuntimeError",
     "evalue": "Trying to backward through the graph a second time (or directly access saved tensors after they have already been freed). Saved intermediate values of the graph are freed when you call .backward() or autograd.grad(). Specify retain_graph=True if you need to backward through the graph a second time or if you need to access saved tensors after calling backward.",
     "output_type": "error",
     "traceback": [
      "\u001b[0;31m---------------------------------------------------------------------------\u001b[0m",
      "\u001b[0;31mRuntimeError\u001b[0m                              Traceback (most recent call last)",
      "Cell \u001b[0;32mIn[54], line 24\u001b[0m\n\u001b[1;32m     22\u001b[0m p \u001b[39m=\u001b[39m PolicyNetwork(env\u001b[39m.\u001b[39mobservation_space\u001b[39m.\u001b[39mshape[\u001b[39m0\u001b[39m], env\u001b[39m.\u001b[39maction_space\u001b[39m.\u001b[39mn)\n\u001b[1;32m     23\u001b[0m s \u001b[39m=\u001b[39m StateValueNetwork(env\u001b[39m.\u001b[39mobservation_space\u001b[39m.\u001b[39mshape[\u001b[39m0\u001b[39m])\n\u001b[0;32m---> 24\u001b[0m update_with_baseline(p, s, log_probs, discount_rewards(rewards, gamma), states)\n",
      "Cell \u001b[0;32mIn[54], line 15\u001b[0m, in \u001b[0;36mupdate_with_baseline\u001b[0;34m(pm, sm, log_probs, discounted_rewards, states, alpha)\u001b[0m\n\u001b[1;32m     13\u001b[0m \u001b[39m# updates for the policy model\u001b[39;00m\n\u001b[1;32m     14\u001b[0m pm\u001b[39m.\u001b[39moptimizer\u001b[39m.\u001b[39mzero_grad() \u001b[39m# reset the gradients\u001b[39;00m\n\u001b[0;32m---> 15\u001b[0m log_prob\u001b[39m.\u001b[39;49mbackward() \u001b[39m# compute the gradients for each log pi(A_t, S_t, theta)\u001b[39;00m\n\u001b[1;32m     16\u001b[0m \u001b[39mfor\u001b[39;00m param \u001b[39min\u001b[39;00m pm\u001b[39m.\u001b[39mparameters():\n\u001b[1;32m     17\u001b[0m     \u001b[39mif\u001b[39;00m param\u001b[39m.\u001b[39mgrad \u001b[39mis\u001b[39;00m \u001b[39mnot\u001b[39;00m \u001b[39mNone\u001b[39;00m:\n",
      "File \u001b[0;32m~/Desktop/projects/rl/.rl/lib/python3.11/site-packages/torch/_tensor.py:487\u001b[0m, in \u001b[0;36mTensor.backward\u001b[0;34m(self, gradient, retain_graph, create_graph, inputs)\u001b[0m\n\u001b[1;32m    477\u001b[0m \u001b[39mif\u001b[39;00m has_torch_function_unary(\u001b[39mself\u001b[39m):\n\u001b[1;32m    478\u001b[0m     \u001b[39mreturn\u001b[39;00m handle_torch_function(\n\u001b[1;32m    479\u001b[0m         Tensor\u001b[39m.\u001b[39mbackward,\n\u001b[1;32m    480\u001b[0m         (\u001b[39mself\u001b[39m,),\n\u001b[0;32m   (...)\u001b[0m\n\u001b[1;32m    485\u001b[0m         inputs\u001b[39m=\u001b[39minputs,\n\u001b[1;32m    486\u001b[0m     )\n\u001b[0;32m--> 487\u001b[0m torch\u001b[39m.\u001b[39;49mautograd\u001b[39m.\u001b[39;49mbackward(\n\u001b[1;32m    488\u001b[0m     \u001b[39mself\u001b[39;49m, gradient, retain_graph, create_graph, inputs\u001b[39m=\u001b[39;49minputs\n\u001b[1;32m    489\u001b[0m )\n",
      "File \u001b[0;32m~/Desktop/projects/rl/.rl/lib/python3.11/site-packages/torch/autograd/__init__.py:200\u001b[0m, in \u001b[0;36mbackward\u001b[0;34m(tensors, grad_tensors, retain_graph, create_graph, grad_variables, inputs)\u001b[0m\n\u001b[1;32m    195\u001b[0m     retain_graph \u001b[39m=\u001b[39m create_graph\n\u001b[1;32m    197\u001b[0m \u001b[39m# The reason we repeat same the comment below is that\u001b[39;00m\n\u001b[1;32m    198\u001b[0m \u001b[39m# some Python versions print out the first line of a multi-line function\u001b[39;00m\n\u001b[1;32m    199\u001b[0m \u001b[39m# calls in the traceback and some print out the last line\u001b[39;00m\n\u001b[0;32m--> 200\u001b[0m Variable\u001b[39m.\u001b[39;49m_execution_engine\u001b[39m.\u001b[39;49mrun_backward(  \u001b[39m# Calls into the C++ engine to run the backward pass\u001b[39;49;00m\n\u001b[1;32m    201\u001b[0m     tensors, grad_tensors_, retain_graph, create_graph, inputs,\n\u001b[1;32m    202\u001b[0m     allow_unreachable\u001b[39m=\u001b[39;49m\u001b[39mTrue\u001b[39;49;00m, accumulate_grad\u001b[39m=\u001b[39;49m\u001b[39mTrue\u001b[39;49;00m)\n",
      "\u001b[0;31mRuntimeError\u001b[0m: Trying to backward through the graph a second time (or directly access saved tensors after they have already been freed). Saved intermediate values of the graph are freed when you call .backward() or autograd.grad(). Specify retain_graph=True if you need to backward through the graph a second time or if you need to access saved tensors after calling backward."
     ]
    }
   ],
   "source": [
    "def update_with_baseline(pm, sm, log_probs, discounted_rewards, states, alpha=0.01):\n",
    "    for (t,(log_prob, reward, state)) in enumerate(zip(log_probs, discounted_rewards, states)):\n",
    "        # update for the state value model\n",
    "        baseline = sm(state)\n",
    "        sm.optimizer.zero_grad() # reset the gradients\n",
    "        baseline.backward()\n",
    "        for param in sm.parameters():\n",
    "            if param.grad is not None:\n",
    "                param.grad = alpha * (reward - baseline) * param.grad\n",
    "                param.grad = param.grad * -1. # flip the gradients (maximize the reward)\n",
    "        sm.optimizer.step() # update the weights using the gradients\n",
    "\n",
    "        # updates for the policy model\n",
    "        pm.optimizer.zero_grad() # reset the gradients\n",
    "        log_prob.backward() # compute the gradients for each log pi(A_t, S_t, theta)\n",
    "        for param in pm.parameters():\n",
    "            if param.grad is not None:\n",
    "                param.grad = alpha * (reward - baseline) * gamma**t * param.grad   # scale the gradients by the reward\n",
    "                param.grad = param.grad * -1. # flip the gradients (maximize the reward)\n",
    "        pm.optimizer.step() # update the weights using the gradients\n",
    "\n",
    "p = PolicyNetwork(env.observation_space.shape[0], env.action_space.n)\n",
    "s = StateValueNetwork(env.observation_space.shape[0])\n",
    "update_with_baseline(p, s, log_probs, discount_rewards(rewards, gamma), states)"
   ]
  },
  {
   "attachments": {},
   "cell_type": "markdown",
   "metadata": {},
   "source": [
    "The values network should be converging to the true values of the states. The way in which we can determine this is by looking at the difference between the reward for the state and the value for the state, and they should get closer."
   ]
  },
  {
   "cell_type": "code",
   "execution_count": null,
   "metadata": {},
   "outputs": [
    {
     "data": {
      "image/png": "[encoded data removed]",
      "text/plain": [
       "<Figure size 640x480 with 2 Axes>"
      ]
     },
     "metadata": {},
     "output_type": "display_data"
    }
   ],
   "source": [
    "from matplotlib import pyplot as plt\n",
    "from IPython.display import display, clear_output\n",
    "\n",
    "policy = PolicyNetwork(*network_shape)\n",
    "state = StateValueNetwork(env.observation_space.shape[0])\n",
    "\n",
    "diffs = []\n",
    "rewards_track = []\n",
    "\n",
    "# fig = plt.figure()\n",
    "# ax1 = fig.add_subplot(1,1,1)\n",
    "# ax2 = fig.add_subplot(1,2,1)\n",
    "\n",
    "for i in range(2000):\n",
    "    rewards, log_probs, states = run_episode(model)\n",
    "    d_rewards = discount_rewards(rewards, gamma)\n",
    "    update_with_baseline(policy, state, log_probs, d_rewards, states)\n",
    "\n",
    "    rewards_track += [sum(rewards).detach().tolist()]\n",
    "\n",
    "    v_hat = state(states)[:-1]\n",
    "    diffs += [((d_rewards - v_hat)**2).mean().detach().tolist()]\n",
    "\n",
    "    if i % 100 == 0:\n",
    "        ax1.clear()\n",
    "        ax1.plot(rewards_track)\n",
    "        ax1.set_title(\"Reward\")\n",
    "        # add a smoothed version\n",
    "        if len(rewards_track) > 100:\n",
    "            smoothed = [np.mean(rewards_track[i:i+100]) for i in range(len(rewards_track) - 100)]\n",
    "            ax1.plot(smoothed)\n",
    "        \n",
    "        ax2.clear()\n",
    "        ax2.plot(diffs)\n",
    "\n",
    "        display(fig)\n",
    "        clear_output(wait=True)\n",
    "        plt.pause(0.001)\n",
    "\n",
    "        if sum(rewards_track[-100:]) / 100 > 195:\n",
    "            print(\"Solved!\")\n",
    "            break"
   ]
  },
  {
   "cell_type": "code",
   "execution_count": null,
   "metadata": {},
   "outputs": [],
   "source": []
  }
 ],
 "metadata": {
  "kernelspec": {
   "display_name": ".rl",
   "language": "python",
   "name": "python3"
  },
  "language_info": {
   "codemirror_mode": {
    "name": "ipython",
    "version": 3
   },
   "file_extension": ".py",
   "mimetype": "text/x-python",
   "name": "python",
   "nbconvert_exporter": "python",
   "pygments_lexer": "ipython3",
   "version": "3.11.4"
  },
  "orig_nbformat": 4
 },
 "nbformat": 4,
 "nbformat_minor": 2
}
