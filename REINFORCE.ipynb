{
 "cells": [
  {
   "attachments": {},
   "cell_type": "markdown",
   "metadata": {},
   "source": [
    "# RL from Scratch (with less crying)\n",
    "\n",
    "Hi everyone! My last post on [Llama from scratch]() got a decent bit of attention (pun intended), so I've decided to keep going and try a field of ML which is becoming increasingly important: reinforcement learning. \n",
    "\n",
    "## Motivation \n",
    "RL is what has succeeded in tasks like games (backgammon, chess, go, Atari), and is also used for more mundane tasks like stock trading. It's also, crazily enough, a core part of how OpenAI created ChatGPT.\n",
    "\n",
    "The genealogy of ChatGPT is intricate: it was developed off of [InstructGPT](https://openai.com/research/instruction-following), which itself is the combination of [seemingly unrelated advances in reinforcement learning](https://openai.com/research/learning-from-human-preferences) as well as [dramatic scale improvements in natural language processing](https://arxiv.org/abs/2005.14165). To me, that thread is as elegant as some of the landmark achievements in mathematics, like [Godel's Incompleteness Theorem](https://www.youtube.com/watch?v=HeQX2HjkcNo) and the [Spectral Theorem](https://www.youtube.com/watch?v=ADwsk9G5s_8), and I want to piece together that story for others to appreciate.\n",
    "\n",
    "Over the next few series of posts, together we're going to try to work our way up to the landmark AI projects from the last few years, from scratch, on your local machine when possible, with the mistakes you might see while implementing. I aim to make these stories intuitive, digestible, and hopefully helpful for both makers making, as well as for people who are just entertained by this stuff. Think 3Blue1Brown, but for ML, and interactive."
   ]
  },
  {
   "attachments": {},
   "cell_type": "markdown",
   "metadata": {},
   "source": [
    "## 1. The mental switch from vanilla ML to RL\n",
    "\n",
    "To be frank, there was definitely a psychological hurdle for me going from the mental frameworks used for vanilla ML to reinforcement learning. When I say vanilla ML here, I mean the kinds of projects where you're given a dataset (MNIST, Titanic, even TinyShakespeare) and asked to learn classifiers/regressors/predictors. \n",
    "\n",
    "My mental framework for vanilla ML is:\n",
    "1. Get a dataset\n",
    "1. Map a single example to its label\n",
    "1. Define a loss function\n",
    "1. Figure out how to train it in batches\n",
    "1. Profit.\n",
    "\n",
    "And throughout my education, I've unknowingly made a lot of simplifying assumptions about vanilla ML, namely:\n",
    "1. with a big enough dataset and well-parametrized model, learning will *just work*\n",
    "2. training in batches can *happen*\n",
    "3. We are learning *functions*, which map given inputs to labeled outputs\n",
    "\n",
    "Re 1, Ilya Sutskever just gave [a great talk](https://www.youtube.com/watch?v=AKMuA_TVz3A&t=2298s) on why supervised learning \"just works\": given a model, the class of functions our model belongs to, and a dataset, we can prove claims about our model's ability to learn on the dataset via [generalization error bounds](https://en.wikipedia.org/wiki/Generalization_error). So we can feel pretty confident going in that with a beefy enough neural net, we'll get a small enough test error to make ourselves feel good. Of course there's a lot to be said about [overfitting and model scale](https://blog.research.google/2019/07/predicting-generalization-gap-in-deep.html) and the difference between theory and observation, but I'm going to gloss over a lot of that for now.\n",
    "\n",
    "Re 2, even in school you learn that there are many successful algorithms from the last few decades that don't train in batches, like most expectation-maximization algorithms. But in practice, the algorithms that set benchmarks and state-of-the-art results are almost always configured in batches. So I've always had this mental model that training in batches is a necessary condition for success, and that if I can't figure out how to train in batches, I'm not going to get anywhere.\n",
    "\n",
    "Re 3, of course unsupervised learning is valuable. \n",
    "\n",
    "### Why are we using the word *agent* at all?\n",
    "Well, that's probably one of the things that makes RL harder the vanilla ML: vanilla ML has basically no interactivity with its training environment. The dataset is made and frozen, and the model relies on the unchanging dataset to learn. In fact, concept drift or distribution drift, a notorious problem for deploying ML models where model performance continously degrades over time, happens because we train our vanilla ML models on unchanging data. In short though, while we treat vanilla ML as learning *functions*, we treat RL models as learning *behavior*, which ends up personifying RL algorithms.\n",
    "\n",
    "### okay, back to the fear\n",
    "So what makes RL scary to me? Well for one thing, *there's not always a dataset*. That's like table stakes. How are you supposed to learn without data....bonkers. There goes framework principle number one.\n",
    "\n",
    "1. ~~Get a dataset~~\n",
    "1. Map a single example to its label\n",
    "1. Define a loss function\n",
    "1. Figure out how to train it in batches\n",
    "1. Profit.\n",
    "\n",
    "Instead, we have to generate a dataset, which we do by running simulations of our agent in an environment. The agent receives an *observation*, a set of information about the current state of the environment. It then makes an *action* based on the observation, which changes the state of the environment. Eventually, it takes an action the results in a terminal state, resulting in the end of the simulation. Now there are two kinds of environments, *episodic* (eg a game) or *continuous* (eg stock trading), but for the purpose of simplicity I'm not going to go into detail here on that. Another characteristic is when an agent receives reward: sometimes they'll get it after each step (think Pacman, you accrue points the whole time), other times only all the way at the end when they reach the terminal state (think Go, you win/lose/draw).\n",
    "\n",
    "So episodic vs continuous and sparse rewards makes points 2 and 3 much more complicated: we can't necessarily label any given action as good or bad because we don't necessarily know until our simulation is complete. On top of that, we usually frame RL as maximizing a reward function, rather than minimizing a loss. \n",
    "\n",
    "1. ~~Get a dataset~~\n",
    "1. ~~Map a single example to its label~~\n",
    "1. ~~Define a loss function~~\n",
    "1. Figure out how to train it in batches\n",
    "1. Profit.\n",
    "\n",
    "And now I will seal the nail in the coffin of vanilla ML brain: it's not obvious how to train in batches. I might be in over my head, so please send me corrections. PPO "
   ]
  },
  {
   "attachments": {},
   "cell_type": "markdown",
   "metadata": {},
   "source": [
    "Explain OpenAI Gym"
   ]
  },
  {
   "cell_type": "code",
   "execution_count": 1,
   "metadata": {},
   "outputs": [
    {
     "data": {
      "text/plain": [
       "'0.29.0'"
      ]
     },
     "execution_count": 1,
     "metadata": {},
     "output_type": "execute_result"
    }
   ],
   "source": [
    "import gymnasium as gym\n",
    "import numpy as np\n",
    "gym.__version__"
   ]
  },
  {
   "attachments": {},
   "cell_type": "markdown",
   "metadata": {},
   "source": [
    "# Understanding the environment"
   ]
  },
  {
   "cell_type": "code",
   "execution_count": 2,
   "metadata": {},
   "outputs": [],
   "source": [
    "env = gym.make(\"LunarLander-v2\")"
   ]
  },
  {
   "attachments": {},
   "cell_type": "markdown",
   "metadata": {},
   "source": [
    "\n",
    "## Observation Space\n",
    "The state is an 8-dimensional vector: the coordinates of the lander in x & y, its linear velocities in x & y, its angle, its angular velocity, and two booleans that represent whether each leg is in contact with the ground or not.\n"
   ]
  },
  {
   "cell_type": "code",
   "execution_count": 3,
   "metadata": {},
   "outputs": [
    {
     "name": "stdout",
     "output_type": "stream",
     "text": [
      "(8,)\n"
     ]
    },
    {
     "data": {
      "text/plain": [
       "Box([-1.5       -1.5       -5.        -5.        -3.1415927 -5.\n",
       " -0.        -0.       ], [1.5       1.5       5.        5.        3.1415927 5.        1.\n",
       " 1.       ], (8,), float32)"
      ]
     },
     "execution_count": 3,
     "metadata": {},
     "output_type": "execute_result"
    }
   ],
   "source": [
    "print(env.observation_space.shape)\n",
    "env.observation_space"
   ]
  },
  {
   "attachments": {},
   "cell_type": "markdown",
   "metadata": {},
   "source": [
    "From [docs](https://gymnasium.farama.org/environments/box2d/lunar_lander/)\n",
    "\n",
    "## Action Space\n",
    "There are four discrete actions available:\n",
    "\n",
    "0: do nothing\n",
    "\n",
    "1: fire left orientation engine\n",
    "\n",
    "2: fire main engine\n",
    "\n",
    "3: fire right orientation engine\n"
   ]
  },
  {
   "cell_type": "code",
   "execution_count": 4,
   "metadata": {},
   "outputs": [
    {
     "data": {
      "text/plain": [
       "Discrete(4)"
      ]
     },
     "execution_count": 4,
     "metadata": {},
     "output_type": "execute_result"
    }
   ],
   "source": [
    "env.action_space"
   ]
  },
  {
   "attachments": {},
   "cell_type": "markdown",
   "metadata": {},
   "source": [
    "For a single layer policy network, we can interpret the layer weights as the following matrix: \n",
    "\n",
    "|                      | x-coord | y-coord | x-vel | y-vel | angle | angular-vel | left-leg-contact | right-leg-contact |\n",
    "|----------------------|---------|---------|-------|-------|-------|-------------|------------------|-------------------|\n",
    "| action 0: no-op      |         |         |       |       |       |             |                  |                   |\n",
    "| action 1: fire left  |         |         |       |       |       |             |                  |                   |\n",
    "| action 2: fire main  |         |         |       |       |       |             |                  |                   |\n",
    "| action 3: fire right |         |         |       |       |       |             |                  |                   |\n",
    "\n",
    "\n",
    "Some scenarios we might see in our environment:\n",
    "- if in the given episode it never made contact (the lander spun upside-down), then the policy gradient would be 0 for the left/right leg contact."
   ]
  },
  {
   "attachments": {},
   "cell_type": "markdown",
   "metadata": {},
   "source": [
    "## Rewards\n",
    "After every step a reward is granted. The total reward of an episode is the sum of the rewards for all the steps within that episode.\n",
    "\n",
    "For each step, the reward:\n",
    "\n",
    "- is increased/decreased the closer/further the lander is to the landing pad.\n",
    "- is increased/decreased the slower/faster the lander is moving.\n",
    "- is decreased the more the lander is tilted (angle not horizontal).\n",
    "- is increased by 10 points for each leg that is in contact with the ground.\n",
    "- is decreased by 0.03 points each frame a side engine is firing.\n",
    "- is decreased by 0.3 points each frame the main engine is firing.\n",
    "\n",
    "The episode receive an additional reward of -100 or +100 points for crashing or landing safely respectively.\n",
    "An episode is considered a solution if it scores at least 200 points."
   ]
  },
  {
   "attachments": {},
   "cell_type": "markdown",
   "metadata": {},
   "source": [
    "## Taking a step"
   ]
  },
  {
   "cell_type": "code",
   "execution_count": 5,
   "metadata": {},
   "outputs": [
    {
     "data": {
      "text/plain": [
       "-2.0771614591574235"
      ]
     },
     "execution_count": 5,
     "metadata": {},
     "output_type": "execute_result"
    }
   ],
   "source": [
    "env.reset()\n",
    "observation, reward, terminated, truncated, info = env.step(0)\n",
    "reward"
   ]
  },
  {
   "attachments": {},
   "cell_type": "markdown",
   "metadata": {},
   "source": [
    "## Reinforcement Learning Objective\n",
    "\n",
    "Our performance measure: \n",
    "\n",
    "$$\n",
    "J(\\theta) = \\mathbb{E} \\left[ \\sum_{t=0}^{T-1}r_{t+1} \\right]\n",
    "$$\n",
    "\n",
    "and our update rule:\n",
    "\n",
    "$$\n",
    "\\theta \\leftarrow \\theta + \\frac{\\partial}{\\partial \\theta} J(\\theta)\n",
    "$$"
   ]
  },
  {
   "attachments": {},
   "cell_type": "markdown",
   "metadata": {},
   "source": [
    "The gradient\n",
    "$$\n",
    "\\nabla J (\\theta) = \\mathbb{E}_\\pi \\left[ \\sum_a q_\\pi(S_t, a) \\nabla \\pi (a | S_t, \\theta) \\right]\n",
    "$$\n",
    "$$\n",
    "\\nabla J (\\theta) = \\mathbb{E}_\\pi \\left[ \\sum_a \\pi (a | S_t, \\theta) q_\\pi(S_t, a) \\frac{\\nabla \\pi (a | S_t, \\theta)}{\\pi (a | S_t, \\theta)} \\right]\n",
    "$$\n",
    "\n",
    "If we sample $A_t \\sim \\pi$, then we just replace the expectation over $a$ with the sample $A_t$. So we're doing this swap from expectation to sample:\n",
    "$$\n",
    "\\sum_a \\pi (a | S_t, \\theta) q_\\pi(S_t, a) \\rightarrow q_\\pi(S_t, A_t)\n",
    "$$\n",
    "which then simplifies $\\nabla J(\\theta)$ to\n",
    "\n",
    "$$\n",
    "\\nabla J (\\theta) = \\mathbb{E}_\\pi \\left[ q_\\pi(S_t, A_t) \\frac{\\nabla \\pi (A_t | S_t, \\theta)}{\\pi (A_t | S_t, \\theta)} \\right]\n",
    "$$\n",
    "\n",
    "and by $\\mathbb{E}_\\pi [G_t | S_t, A_t] = q_\\pi (S_t, A_t)$, (add note to explain how we get G_t)\n",
    "\n",
    "$$\n",
    "\\nabla J (\\theta) = \\mathbb{E}_\\pi \\left[ G_t \\frac{\\nabla \\pi (A_t | S_t, \\theta)}{\\pi (A_t | S_t, \\theta)} \\right]\n",
    "$$"
   ]
  },
  {
   "attachments": {},
   "cell_type": "markdown",
   "metadata": {},
   "source": [
    "We're going to make one more simplification: note that $\\nabla \\ln x = \\frac{\\nabla x}{x}$, so\n",
    "$$\n",
    "\\nabla J (\\theta) = \\mathbb{E}_\\pi \\left[ G_t \\nabla \\ln \\pi (A_t | S_t, \\theta) \\right]\n",
    "$$"
   ]
  },
  {
   "attachments": {},
   "cell_type": "markdown",
   "metadata": {},
   "source": [
    "Now, we can actually calculate the value in brackets at each time step, and can then use it to update $\\theta$:\n",
    "\n",
    "$$\n",
    "\\theta_{t+1} = \\theta_t + \\alpha G_t \\nabla \\ln \\pi(A_t | S_t, \\theta_t)\n",
    "$$"
   ]
  },
  {
   "attachments": {},
   "cell_type": "markdown",
   "metadata": {},
   "source": [
    "We're now going to generate an episode $S_0, A_0, R_1,...,S_{T-1}, A_{T-1}, R_T$."
   ]
  },
  {
   "cell_type": "code",
   "execution_count": 6,
   "metadata": {},
   "outputs": [],
   "source": [
    "import torch\n",
    "import torch.nn as nn\n",
    "import torch.nn.functional as F\n",
    "\n",
    "# initialize policy network\n",
    "# takes in a state, determines the next action\n",
    "class PolicyNetwork(nn.Module):\n",
    "    def __init__(self, obs_size, action_size):\n",
    "        super().__init__()\n",
    "        self.layer = nn.Sequential(\n",
    "            nn.Linear(obs_size, action_size, bias=False),\n",
    "            nn.ReLU()\n",
    "        )\n",
    "        self.optimizer = torch.optim.Adam(self.parameters(), lr=1e-3)\n",
    "\n",
    "    def forward(self, x):\n",
    "        logits = self.layer(x)\n",
    "        return torch.log(F.softmax(logits, dim=-1) + 1e-9)\n",
    "    \n",
    "    def act(self, state):\n",
    "        state = torch.from_numpy(state).float().unsqueeze(0)\n",
    "        log_probs = self.forward(state).squeeze(0)\n",
    "        probs = torch.exp(log_probs)\n",
    "        action = torch.multinomial(probs, 1)\n",
    "        return action.item(), log_probs[action]\n",
    "    \n",
    "model = PolicyNetwork(env.observation_space.shape[0], (env.action_space.n - env.action_space.start))"
   ]
  },
  {
   "attachments": {},
   "cell_type": "markdown",
   "metadata": {},
   "source": [
    "Here is a full episode of the moon landing."
   ]
  },
  {
   "cell_type": "code",
   "execution_count": 7,
   "metadata": {},
   "outputs": [],
   "source": [
    "def run_episode(model, env=env):\n",
    "    observation, _ = env.reset()\n",
    "\n",
    "    rewards = []\n",
    "    log_probs = []\n",
    "    actions = []\n",
    "    observations = []\n",
    "\n",
    "    while True:\n",
    "        action, _log_probs = model.act(observation)\n",
    "        observation, reward, terminated, truncated, info = env.step(action)\n",
    "\n",
    "        actions.append(action)\n",
    "        rewards.append(reward)\n",
    "        log_probs.append(_log_probs)\n",
    "        observations.append(observation)\n",
    "\n",
    "        if terminated:\n",
    "            break\n",
    "\n",
    "    rewards = torch.tensor(rewards)\n",
    "    \n",
    "    return rewards, log_probs, actions, np.array(observations)\n",
    "\n",
    "model = PolicyNetwork(env.observation_space.shape[0], env.action_space.n)\n",
    "rewards, log_probs, actions, observations = run_episode(model)\n",
    "\n",
    "# print(rewards.shape)\n",
    "# print(len(log_probs))\n",
    "# print(actions)\n",
    "# print(observations)\n",
    "\n",
    "del model, rewards, log_probs, actions, observations"
   ]
  },
  {
   "attachments": {},
   "cell_type": "markdown",
   "metadata": {},
   "source": [
    "Notice how `log_probs` is an array of `torch.tensor`. We need this to be the case, because we have to run `.backward` on it later to calculate the gradients. Without doing this, we can't really use pytorch to do the heavy lifting for us."
   ]
  },
  {
   "attachments": {},
   "cell_type": "markdown",
   "metadata": {},
   "source": [
    "Now, at the end of the episode, we need to determine $G$, the expected reward at each timestep."
   ]
  },
  {
   "cell_type": "code",
   "execution_count": 8,
   "metadata": {},
   "outputs": [],
   "source": [
    "def discount_rewards(rewards, gamma=.99):\n",
    "    G = []\n",
    "    R = 0\n",
    "    for i in reversed(range(len(rewards))):\n",
    "        R = rewards[i] + gamma * R\n",
    "        G.insert(0, R)\n",
    "    return G\n",
    "\n",
    "# test it\n",
    "r = np.array([1,1,1,1,1])\n",
    "g = np.array(discount_rewards(r))\n",
    "t = np.array([4.90099501, 3.940399, 2.9701, 1.99, 1])\n",
    "assert np.allclose(g, t), \"Incorrect sum of discounted rewards\"\n",
    "del r, g, t"
   ]
  },
  {
   "cell_type": "code",
   "execution_count": 9,
   "metadata": {},
   "outputs": [
    {
     "name": "stdout",
     "output_type": "stream",
     "text": [
      "tensor([[ 0.0012, -0.0011,  0.0012,  0.0011, -0.0012, -0.0001,  0.0000,  0.0023],\n",
      "        [-0.0023,  0.0023, -0.0023, -0.0023,  0.0023,  0.0023,  0.0000,  0.0023],\n",
      "        [ 0.0238, -0.0230,  0.0241,  0.0236, -0.0239, -0.0240,  0.0000,  0.0023],\n",
      "        [ 0.0000,  0.0000,  0.0000,  0.0000,  0.0000,  0.0000,  0.0000,  0.0000]],\n",
      "       grad_fn=<SubBackward0>)\n"
     ]
    }
   ],
   "source": [
    "def update(model, log_probs, rewards, alpha=0.01, gamma=0.99):\n",
    "    # compute the discounted rewards\n",
    "    G = discount_rewards(rewards, gamma)\n",
    "    for t in range(len(G)):\n",
    "        log_prob = log_probs[t]\n",
    "        g = G[t]\n",
    "\n",
    "        model.optimizer.zero_grad() # reset the gradients\n",
    "        log_prob.backward() # compute the gradients of log pi(A_t, S_t, theta) at each timestep\n",
    "        for param in model.parameters():\n",
    "            if param.grad is not None:\n",
    "                param.grad = alpha * gamma**t * g * param.grad # scale the gradients by the reward\n",
    "                param.grad = param.grad * -1. # flip the gradients (maximize the reward)\n",
    "        model.optimizer.step() # update the weights using the gradients\n",
    "\n",
    "# testing the update function\n",
    "model = PolicyNetwork(env.observation_space.shape[0], env.action_space.n)\n",
    "\n",
    "rewards, log_probs, actions, observations = run_episode(model)\n",
    "\n",
    "old = list(model.parameters())[0].clone()\n",
    "update(model, log_probs, rewards, alpha=1., gamma=1.) # no discounting, no scaling\n",
    "new = list(model.parameters())[0].clone()\n",
    "\n",
    "delta = new - old\n",
    "print(delta)\n",
    "\n",
    "left_leg_contact = (observations[:, -2]).sum() > 0\n",
    "right_leg_contact = (observations[:, -1]).sum() > 0\n",
    "\n",
    "left_leg_delta = delta[:, -2].sum(axis=0)\n",
    "right_leg_delta = delta[:, -1].sum(axis=0)\n",
    "\n",
    "# if there was no right leg contact, the right leg should have 0 delta\n",
    "assert left_leg_contact == True or left_leg_delta == 0.\n",
    "assert right_leg_contact == True or right_leg_delta == 0.\n",
    "\n",
    "# del model, rewards, log_probs"
   ]
  },
  {
   "attachments": {},
   "cell_type": "markdown",
   "metadata": {},
   "source": [
    "And now we'll try it for a bunch of episodes."
   ]
  },
  {
   "cell_type": "code",
   "execution_count": 10,
   "metadata": {},
   "outputs": [
    {
     "ename": "KeyboardInterrupt",
     "evalue": "",
     "output_type": "error",
     "traceback": [
      "\u001b[0;31m---------------------------------------------------------------------------\u001b[0m",
      "\u001b[0;31mKeyboardInterrupt\u001b[0m                         Traceback (most recent call last)",
      "Cell \u001b[0;32mIn[10], line 27\u001b[0m\n\u001b[1;32m     24\u001b[0m     smoothed \u001b[39m=\u001b[39m [np\u001b[39m.\u001b[39mmean(rewards_track[i:i\u001b[39m+\u001b[39m\u001b[39m100\u001b[39m]) \u001b[39mfor\u001b[39;00m i \u001b[39min\u001b[39;00m \u001b[39mrange\u001b[39m(\u001b[39mlen\u001b[39m(rewards_track) \u001b[39m-\u001b[39m \u001b[39m100\u001b[39m)]\n\u001b[1;32m     25\u001b[0m     ax\u001b[39m.\u001b[39mplot(smoothed)\n\u001b[0;32m---> 27\u001b[0m display(fig)\n\u001b[1;32m     28\u001b[0m clear_output(wait\u001b[39m=\u001b[39m\u001b[39mTrue\u001b[39;00m)\n\u001b[1;32m     29\u001b[0m plt\u001b[39m.\u001b[39mpause(\u001b[39m0.001\u001b[39m)\n",
      "File \u001b[0;32m~/Desktop/projects/rl/.rl/lib/python3.11/site-packages/IPython/core/display_functions.py:298\u001b[0m, in \u001b[0;36mdisplay\u001b[0;34m(include, exclude, metadata, transient, display_id, raw, clear, *objs, **kwargs)\u001b[0m\n\u001b[1;32m    296\u001b[0m     publish_display_data(data\u001b[39m=\u001b[39mobj, metadata\u001b[39m=\u001b[39mmetadata, \u001b[39m*\u001b[39m\u001b[39m*\u001b[39mkwargs)\n\u001b[1;32m    297\u001b[0m \u001b[39melse\u001b[39;00m:\n\u001b[0;32m--> 298\u001b[0m     format_dict, md_dict \u001b[39m=\u001b[39m \u001b[39mformat\u001b[39;49m(obj, include\u001b[39m=\u001b[39;49minclude, exclude\u001b[39m=\u001b[39;49mexclude)\n\u001b[1;32m    299\u001b[0m     \u001b[39mif\u001b[39;00m \u001b[39mnot\u001b[39;00m format_dict:\n\u001b[1;32m    300\u001b[0m         \u001b[39m# nothing to display (e.g. _ipython_display_ took over)\u001b[39;00m\n\u001b[1;32m    301\u001b[0m         \u001b[39mcontinue\u001b[39;00m\n",
      "File \u001b[0;32m~/Desktop/projects/rl/.rl/lib/python3.11/site-packages/IPython/core/formatters.py:179\u001b[0m, in \u001b[0;36mDisplayFormatter.format\u001b[0;34m(self, obj, include, exclude)\u001b[0m\n\u001b[1;32m    177\u001b[0m md \u001b[39m=\u001b[39m \u001b[39mNone\u001b[39;00m\n\u001b[1;32m    178\u001b[0m \u001b[39mtry\u001b[39;00m:\n\u001b[0;32m--> 179\u001b[0m     data \u001b[39m=\u001b[39m formatter(obj)\n\u001b[1;32m    180\u001b[0m \u001b[39mexcept\u001b[39;00m:\n\u001b[1;32m    181\u001b[0m     \u001b[39m# FIXME: log the exception\u001b[39;00m\n\u001b[1;32m    182\u001b[0m     \u001b[39mraise\u001b[39;00m\n",
      "File \u001b[0;32m~/Desktop/projects/rl/.rl/lib/python3.11/site-packages/decorator.py:232\u001b[0m, in \u001b[0;36mdecorate.<locals>.fun\u001b[0;34m(*args, **kw)\u001b[0m\n\u001b[1;32m    230\u001b[0m \u001b[39mif\u001b[39;00m \u001b[39mnot\u001b[39;00m kwsyntax:\n\u001b[1;32m    231\u001b[0m     args, kw \u001b[39m=\u001b[39m fix(args, kw, sig)\n\u001b[0;32m--> 232\u001b[0m \u001b[39mreturn\u001b[39;00m caller(func, \u001b[39m*\u001b[39;49m(extras \u001b[39m+\u001b[39;49m args), \u001b[39m*\u001b[39;49m\u001b[39m*\u001b[39;49mkw)\n",
      "File \u001b[0;32m~/Desktop/projects/rl/.rl/lib/python3.11/site-packages/IPython/core/formatters.py:223\u001b[0m, in \u001b[0;36mcatch_format_error\u001b[0;34m(method, self, *args, **kwargs)\u001b[0m\n\u001b[1;32m    221\u001b[0m \u001b[39m\u001b[39m\u001b[39m\"\"\"show traceback on failed format call\"\"\"\u001b[39;00m\n\u001b[1;32m    222\u001b[0m \u001b[39mtry\u001b[39;00m:\n\u001b[0;32m--> 223\u001b[0m     r \u001b[39m=\u001b[39m method(\u001b[39mself\u001b[39;49m, \u001b[39m*\u001b[39;49margs, \u001b[39m*\u001b[39;49m\u001b[39m*\u001b[39;49mkwargs)\n\u001b[1;32m    224\u001b[0m \u001b[39mexcept\u001b[39;00m \u001b[39mNotImplementedError\u001b[39;00m:\n\u001b[1;32m    225\u001b[0m     \u001b[39m# don't warn on NotImplementedErrors\u001b[39;00m\n\u001b[1;32m    226\u001b[0m     \u001b[39mreturn\u001b[39;00m \u001b[39mself\u001b[39m\u001b[39m.\u001b[39m_check_return(\u001b[39mNone\u001b[39;00m, args[\u001b[39m0\u001b[39m])\n",
      "File \u001b[0;32m~/Desktop/projects/rl/.rl/lib/python3.11/site-packages/IPython/core/formatters.py:340\u001b[0m, in \u001b[0;36mBaseFormatter.__call__\u001b[0;34m(self, obj)\u001b[0m\n\u001b[1;32m    338\u001b[0m     \u001b[39mpass\u001b[39;00m\n\u001b[1;32m    339\u001b[0m \u001b[39melse\u001b[39;00m:\n\u001b[0;32m--> 340\u001b[0m     \u001b[39mreturn\u001b[39;00m printer(obj)\n\u001b[1;32m    341\u001b[0m \u001b[39m# Finally look for special method names\u001b[39;00m\n\u001b[1;32m    342\u001b[0m method \u001b[39m=\u001b[39m get_real_method(obj, \u001b[39mself\u001b[39m\u001b[39m.\u001b[39mprint_method)\n",
      "File \u001b[0;32m~/Desktop/projects/rl/.rl/lib/python3.11/site-packages/IPython/core/pylabtools.py:152\u001b[0m, in \u001b[0;36mprint_figure\u001b[0;34m(fig, fmt, bbox_inches, base64, **kwargs)\u001b[0m\n\u001b[1;32m    149\u001b[0m     \u001b[39mfrom\u001b[39;00m \u001b[39mmatplotlib\u001b[39;00m\u001b[39m.\u001b[39;00m\u001b[39mbackend_bases\u001b[39;00m \u001b[39mimport\u001b[39;00m FigureCanvasBase\n\u001b[1;32m    150\u001b[0m     FigureCanvasBase(fig)\n\u001b[0;32m--> 152\u001b[0m fig\u001b[39m.\u001b[39;49mcanvas\u001b[39m.\u001b[39;49mprint_figure(bytes_io, \u001b[39m*\u001b[39;49m\u001b[39m*\u001b[39;49mkw)\n\u001b[1;32m    153\u001b[0m data \u001b[39m=\u001b[39m bytes_io\u001b[39m.\u001b[39mgetvalue()\n\u001b[1;32m    154\u001b[0m \u001b[39mif\u001b[39;00m fmt \u001b[39m==\u001b[39m \u001b[39m'\u001b[39m\u001b[39msvg\u001b[39m\u001b[39m'\u001b[39m:\n",
      "File \u001b[0;32m~/Desktop/projects/rl/.rl/lib/python3.11/site-packages/matplotlib/backend_bases.py:2366\u001b[0m, in \u001b[0;36mFigureCanvasBase.print_figure\u001b[0;34m(self, filename, dpi, facecolor, edgecolor, orientation, format, bbox_inches, pad_inches, bbox_extra_artists, backend, **kwargs)\u001b[0m\n\u001b[1;32m   2362\u001b[0m \u001b[39mtry\u001b[39;00m:\n\u001b[1;32m   2363\u001b[0m     \u001b[39m# _get_renderer may change the figure dpi (as vector formats\u001b[39;00m\n\u001b[1;32m   2364\u001b[0m     \u001b[39m# force the figure dpi to 72), so we need to set it again here.\u001b[39;00m\n\u001b[1;32m   2365\u001b[0m     \u001b[39mwith\u001b[39;00m cbook\u001b[39m.\u001b[39m_setattr_cm(\u001b[39mself\u001b[39m\u001b[39m.\u001b[39mfigure, dpi\u001b[39m=\u001b[39mdpi):\n\u001b[0;32m-> 2366\u001b[0m         result \u001b[39m=\u001b[39m print_method(\n\u001b[1;32m   2367\u001b[0m             filename,\n\u001b[1;32m   2368\u001b[0m             facecolor\u001b[39m=\u001b[39;49mfacecolor,\n\u001b[1;32m   2369\u001b[0m             edgecolor\u001b[39m=\u001b[39;49medgecolor,\n\u001b[1;32m   2370\u001b[0m             orientation\u001b[39m=\u001b[39;49morientation,\n\u001b[1;32m   2371\u001b[0m             bbox_inches_restore\u001b[39m=\u001b[39;49m_bbox_inches_restore,\n\u001b[1;32m   2372\u001b[0m             \u001b[39m*\u001b[39;49m\u001b[39m*\u001b[39;49mkwargs)\n\u001b[1;32m   2373\u001b[0m \u001b[39mfinally\u001b[39;00m:\n\u001b[1;32m   2374\u001b[0m     \u001b[39mif\u001b[39;00m bbox_inches \u001b[39mand\u001b[39;00m restore_bbox:\n",
      "File \u001b[0;32m~/Desktop/projects/rl/.rl/lib/python3.11/site-packages/matplotlib/backend_bases.py:2232\u001b[0m, in \u001b[0;36mFigureCanvasBase._switch_canvas_and_return_print_method.<locals>.<lambda>\u001b[0;34m(*args, **kwargs)\u001b[0m\n\u001b[1;32m   2228\u001b[0m     optional_kws \u001b[39m=\u001b[39m {  \u001b[39m# Passed by print_figure for other renderers.\u001b[39;00m\n\u001b[1;32m   2229\u001b[0m         \u001b[39m\"\u001b[39m\u001b[39mdpi\u001b[39m\u001b[39m\"\u001b[39m, \u001b[39m\"\u001b[39m\u001b[39mfacecolor\u001b[39m\u001b[39m\"\u001b[39m, \u001b[39m\"\u001b[39m\u001b[39medgecolor\u001b[39m\u001b[39m\"\u001b[39m, \u001b[39m\"\u001b[39m\u001b[39morientation\u001b[39m\u001b[39m\"\u001b[39m,\n\u001b[1;32m   2230\u001b[0m         \u001b[39m\"\u001b[39m\u001b[39mbbox_inches_restore\u001b[39m\u001b[39m\"\u001b[39m}\n\u001b[1;32m   2231\u001b[0m     skip \u001b[39m=\u001b[39m optional_kws \u001b[39m-\u001b[39m {\u001b[39m*\u001b[39minspect\u001b[39m.\u001b[39msignature(meth)\u001b[39m.\u001b[39mparameters}\n\u001b[0;32m-> 2232\u001b[0m     print_method \u001b[39m=\u001b[39m functools\u001b[39m.\u001b[39mwraps(meth)(\u001b[39mlambda\u001b[39;00m \u001b[39m*\u001b[39margs, \u001b[39m*\u001b[39m\u001b[39m*\u001b[39mkwargs: meth(\n\u001b[1;32m   2233\u001b[0m         \u001b[39m*\u001b[39;49margs, \u001b[39m*\u001b[39;49m\u001b[39m*\u001b[39;49m{k: v \u001b[39mfor\u001b[39;49;00m k, v \u001b[39min\u001b[39;49;00m kwargs\u001b[39m.\u001b[39;49mitems() \u001b[39mif\u001b[39;49;00m k \u001b[39mnot\u001b[39;49;00m \u001b[39min\u001b[39;49;00m skip}))\n\u001b[1;32m   2234\u001b[0m \u001b[39melse\u001b[39;00m:  \u001b[39m# Let third-parties do as they see fit.\u001b[39;00m\n\u001b[1;32m   2235\u001b[0m     print_method \u001b[39m=\u001b[39m meth\n",
      "File \u001b[0;32m~/Desktop/projects/rl/.rl/lib/python3.11/site-packages/matplotlib/backends/backend_agg.py:509\u001b[0m, in \u001b[0;36mFigureCanvasAgg.print_png\u001b[0;34m(self, filename_or_obj, metadata, pil_kwargs)\u001b[0m\n\u001b[1;32m    462\u001b[0m \u001b[39mdef\u001b[39;00m \u001b[39mprint_png\u001b[39m(\u001b[39mself\u001b[39m, filename_or_obj, \u001b[39m*\u001b[39m, metadata\u001b[39m=\u001b[39m\u001b[39mNone\u001b[39;00m, pil_kwargs\u001b[39m=\u001b[39m\u001b[39mNone\u001b[39;00m):\n\u001b[1;32m    463\u001b[0m \u001b[39m    \u001b[39m\u001b[39m\"\"\"\u001b[39;00m\n\u001b[1;32m    464\u001b[0m \u001b[39m    Write the figure to a PNG file.\u001b[39;00m\n\u001b[1;32m    465\u001b[0m \n\u001b[0;32m   (...)\u001b[0m\n\u001b[1;32m    507\u001b[0m \u001b[39m        *metadata*, including the default 'Software' key.\u001b[39;00m\n\u001b[1;32m    508\u001b[0m \u001b[39m    \"\"\"\u001b[39;00m\n\u001b[0;32m--> 509\u001b[0m     \u001b[39mself\u001b[39;49m\u001b[39m.\u001b[39;49m_print_pil(filename_or_obj, \u001b[39m\"\u001b[39;49m\u001b[39mpng\u001b[39;49m\u001b[39m\"\u001b[39;49m, pil_kwargs, metadata)\n",
      "File \u001b[0;32m~/Desktop/projects/rl/.rl/lib/python3.11/site-packages/matplotlib/backends/backend_agg.py:457\u001b[0m, in \u001b[0;36mFigureCanvasAgg._print_pil\u001b[0;34m(self, filename_or_obj, fmt, pil_kwargs, metadata)\u001b[0m\n\u001b[1;32m    452\u001b[0m \u001b[39mdef\u001b[39;00m \u001b[39m_print_pil\u001b[39m(\u001b[39mself\u001b[39m, filename_or_obj, fmt, pil_kwargs, metadata\u001b[39m=\u001b[39m\u001b[39mNone\u001b[39;00m):\n\u001b[1;32m    453\u001b[0m \u001b[39m    \u001b[39m\u001b[39m\"\"\"\u001b[39;00m\n\u001b[1;32m    454\u001b[0m \u001b[39m    Draw the canvas, then save it using `.image.imsave` (to which\u001b[39;00m\n\u001b[1;32m    455\u001b[0m \u001b[39m    *pil_kwargs* and *metadata* are forwarded).\u001b[39;00m\n\u001b[1;32m    456\u001b[0m \u001b[39m    \"\"\"\u001b[39;00m\n\u001b[0;32m--> 457\u001b[0m     FigureCanvasAgg\u001b[39m.\u001b[39;49mdraw(\u001b[39mself\u001b[39;49m)\n\u001b[1;32m    458\u001b[0m     mpl\u001b[39m.\u001b[39mimage\u001b[39m.\u001b[39mimsave(\n\u001b[1;32m    459\u001b[0m         filename_or_obj, \u001b[39mself\u001b[39m\u001b[39m.\u001b[39mbuffer_rgba(), \u001b[39mformat\u001b[39m\u001b[39m=\u001b[39mfmt, origin\u001b[39m=\u001b[39m\u001b[39m\"\u001b[39m\u001b[39mupper\u001b[39m\u001b[39m\"\u001b[39m,\n\u001b[1;32m    460\u001b[0m         dpi\u001b[39m=\u001b[39m\u001b[39mself\u001b[39m\u001b[39m.\u001b[39mfigure\u001b[39m.\u001b[39mdpi, metadata\u001b[39m=\u001b[39mmetadata, pil_kwargs\u001b[39m=\u001b[39mpil_kwargs)\n",
      "File \u001b[0;32m~/Desktop/projects/rl/.rl/lib/python3.11/site-packages/matplotlib/backends/backend_agg.py:400\u001b[0m, in \u001b[0;36mFigureCanvasAgg.draw\u001b[0;34m(self)\u001b[0m\n\u001b[1;32m    396\u001b[0m \u001b[39m# Acquire a lock on the shared font cache.\u001b[39;00m\n\u001b[1;32m    397\u001b[0m \u001b[39mwith\u001b[39;00m RendererAgg\u001b[39m.\u001b[39mlock, \\\n\u001b[1;32m    398\u001b[0m      (\u001b[39mself\u001b[39m\u001b[39m.\u001b[39mtoolbar\u001b[39m.\u001b[39m_wait_cursor_for_draw_cm() \u001b[39mif\u001b[39;00m \u001b[39mself\u001b[39m\u001b[39m.\u001b[39mtoolbar\n\u001b[1;32m    399\u001b[0m       \u001b[39melse\u001b[39;00m nullcontext()):\n\u001b[0;32m--> 400\u001b[0m     \u001b[39mself\u001b[39;49m\u001b[39m.\u001b[39;49mfigure\u001b[39m.\u001b[39;49mdraw(\u001b[39mself\u001b[39;49m\u001b[39m.\u001b[39;49mrenderer)\n\u001b[1;32m    401\u001b[0m     \u001b[39m# A GUI class may be need to update a window using this draw, so\u001b[39;00m\n\u001b[1;32m    402\u001b[0m     \u001b[39m# don't forget to call the superclass.\u001b[39;00m\n\u001b[1;32m    403\u001b[0m     \u001b[39msuper\u001b[39m()\u001b[39m.\u001b[39mdraw()\n",
      "File \u001b[0;32m~/Desktop/projects/rl/.rl/lib/python3.11/site-packages/matplotlib/artist.py:95\u001b[0m, in \u001b[0;36m_finalize_rasterization.<locals>.draw_wrapper\u001b[0;34m(artist, renderer, *args, **kwargs)\u001b[0m\n\u001b[1;32m     93\u001b[0m \u001b[39m@wraps\u001b[39m(draw)\n\u001b[1;32m     94\u001b[0m \u001b[39mdef\u001b[39;00m \u001b[39mdraw_wrapper\u001b[39m(artist, renderer, \u001b[39m*\u001b[39margs, \u001b[39m*\u001b[39m\u001b[39m*\u001b[39mkwargs):\n\u001b[0;32m---> 95\u001b[0m     result \u001b[39m=\u001b[39m draw(artist, renderer, \u001b[39m*\u001b[39;49margs, \u001b[39m*\u001b[39;49m\u001b[39m*\u001b[39;49mkwargs)\n\u001b[1;32m     96\u001b[0m     \u001b[39mif\u001b[39;00m renderer\u001b[39m.\u001b[39m_rasterizing:\n\u001b[1;32m     97\u001b[0m         renderer\u001b[39m.\u001b[39mstop_rasterizing()\n",
      "File \u001b[0;32m~/Desktop/projects/rl/.rl/lib/python3.11/site-packages/matplotlib/artist.py:72\u001b[0m, in \u001b[0;36mallow_rasterization.<locals>.draw_wrapper\u001b[0;34m(artist, renderer)\u001b[0m\n\u001b[1;32m     69\u001b[0m     \u001b[39mif\u001b[39;00m artist\u001b[39m.\u001b[39mget_agg_filter() \u001b[39mis\u001b[39;00m \u001b[39mnot\u001b[39;00m \u001b[39mNone\u001b[39;00m:\n\u001b[1;32m     70\u001b[0m         renderer\u001b[39m.\u001b[39mstart_filter()\n\u001b[0;32m---> 72\u001b[0m     \u001b[39mreturn\u001b[39;00m draw(artist, renderer)\n\u001b[1;32m     73\u001b[0m \u001b[39mfinally\u001b[39;00m:\n\u001b[1;32m     74\u001b[0m     \u001b[39mif\u001b[39;00m artist\u001b[39m.\u001b[39mget_agg_filter() \u001b[39mis\u001b[39;00m \u001b[39mnot\u001b[39;00m \u001b[39mNone\u001b[39;00m:\n",
      "File \u001b[0;32m~/Desktop/projects/rl/.rl/lib/python3.11/site-packages/matplotlib/figure.py:3175\u001b[0m, in \u001b[0;36mFigure.draw\u001b[0;34m(self, renderer)\u001b[0m\n\u001b[1;32m   3172\u001b[0m         \u001b[39m# ValueError can occur when resizing a window.\u001b[39;00m\n\u001b[1;32m   3174\u001b[0m \u001b[39mself\u001b[39m\u001b[39m.\u001b[39mpatch\u001b[39m.\u001b[39mdraw(renderer)\n\u001b[0;32m-> 3175\u001b[0m mimage\u001b[39m.\u001b[39;49m_draw_list_compositing_images(\n\u001b[1;32m   3176\u001b[0m     renderer, \u001b[39mself\u001b[39;49m, artists, \u001b[39mself\u001b[39;49m\u001b[39m.\u001b[39;49msuppressComposite)\n\u001b[1;32m   3178\u001b[0m \u001b[39mfor\u001b[39;00m sfig \u001b[39min\u001b[39;00m \u001b[39mself\u001b[39m\u001b[39m.\u001b[39msubfigs:\n\u001b[1;32m   3179\u001b[0m     sfig\u001b[39m.\u001b[39mdraw(renderer)\n",
      "File \u001b[0;32m~/Desktop/projects/rl/.rl/lib/python3.11/site-packages/matplotlib/image.py:131\u001b[0m, in \u001b[0;36m_draw_list_compositing_images\u001b[0;34m(renderer, parent, artists, suppress_composite)\u001b[0m\n\u001b[1;32m    129\u001b[0m \u001b[39mif\u001b[39;00m not_composite \u001b[39mor\u001b[39;00m \u001b[39mnot\u001b[39;00m has_images:\n\u001b[1;32m    130\u001b[0m     \u001b[39mfor\u001b[39;00m a \u001b[39min\u001b[39;00m artists:\n\u001b[0;32m--> 131\u001b[0m         a\u001b[39m.\u001b[39;49mdraw(renderer)\n\u001b[1;32m    132\u001b[0m \u001b[39melse\u001b[39;00m:\n\u001b[1;32m    133\u001b[0m     \u001b[39m# Composite any adjacent images together\u001b[39;00m\n\u001b[1;32m    134\u001b[0m     image_group \u001b[39m=\u001b[39m []\n",
      "File \u001b[0;32m~/Desktop/projects/rl/.rl/lib/python3.11/site-packages/matplotlib/artist.py:72\u001b[0m, in \u001b[0;36mallow_rasterization.<locals>.draw_wrapper\u001b[0;34m(artist, renderer)\u001b[0m\n\u001b[1;32m     69\u001b[0m     \u001b[39mif\u001b[39;00m artist\u001b[39m.\u001b[39mget_agg_filter() \u001b[39mis\u001b[39;00m \u001b[39mnot\u001b[39;00m \u001b[39mNone\u001b[39;00m:\n\u001b[1;32m     70\u001b[0m         renderer\u001b[39m.\u001b[39mstart_filter()\n\u001b[0;32m---> 72\u001b[0m     \u001b[39mreturn\u001b[39;00m draw(artist, renderer)\n\u001b[1;32m     73\u001b[0m \u001b[39mfinally\u001b[39;00m:\n\u001b[1;32m     74\u001b[0m     \u001b[39mif\u001b[39;00m artist\u001b[39m.\u001b[39mget_agg_filter() \u001b[39mis\u001b[39;00m \u001b[39mnot\u001b[39;00m \u001b[39mNone\u001b[39;00m:\n",
      "File \u001b[0;32m~/Desktop/projects/rl/.rl/lib/python3.11/site-packages/matplotlib/axes/_base.py:3028\u001b[0m, in \u001b[0;36m_AxesBase.draw\u001b[0;34m(self, renderer)\u001b[0m\n\u001b[1;32m   3025\u001b[0m     \u001b[39mfor\u001b[39;00m spine \u001b[39min\u001b[39;00m \u001b[39mself\u001b[39m\u001b[39m.\u001b[39mspines\u001b[39m.\u001b[39mvalues():\n\u001b[1;32m   3026\u001b[0m         artists\u001b[39m.\u001b[39mremove(spine)\n\u001b[0;32m-> 3028\u001b[0m \u001b[39mself\u001b[39;49m\u001b[39m.\u001b[39;49m_update_title_position(renderer)\n\u001b[1;32m   3030\u001b[0m \u001b[39mif\u001b[39;00m \u001b[39mnot\u001b[39;00m \u001b[39mself\u001b[39m\u001b[39m.\u001b[39maxison:\n\u001b[1;32m   3031\u001b[0m     \u001b[39mfor\u001b[39;00m _axis \u001b[39min\u001b[39;00m \u001b[39mself\u001b[39m\u001b[39m.\u001b[39m_axis_map\u001b[39m.\u001b[39mvalues():\n",
      "File \u001b[0;32m~/Desktop/projects/rl/.rl/lib/python3.11/site-packages/matplotlib/axes/_base.py:2972\u001b[0m, in \u001b[0;36m_AxesBase._update_title_position\u001b[0;34m(self, renderer)\u001b[0m\n\u001b[1;32m   2970\u001b[0m top \u001b[39m=\u001b[39m \u001b[39mmax\u001b[39m(top, bb\u001b[39m.\u001b[39mymax)\n\u001b[1;32m   2971\u001b[0m \u001b[39mif\u001b[39;00m title\u001b[39m.\u001b[39mget_text():\n\u001b[0;32m-> 2972\u001b[0m     ax\u001b[39m.\u001b[39;49myaxis\u001b[39m.\u001b[39;49mget_tightbbox(renderer)  \u001b[39m# update offsetText\u001b[39;00m\n\u001b[1;32m   2973\u001b[0m     \u001b[39mif\u001b[39;00m ax\u001b[39m.\u001b[39myaxis\u001b[39m.\u001b[39moffsetText\u001b[39m.\u001b[39mget_text():\n\u001b[1;32m   2974\u001b[0m         bb \u001b[39m=\u001b[39m ax\u001b[39m.\u001b[39myaxis\u001b[39m.\u001b[39moffsetText\u001b[39m.\u001b[39mget_tightbbox(renderer)\n",
      "File \u001b[0;32m~/Desktop/projects/rl/.rl/lib/python3.11/site-packages/matplotlib/axis.py:1323\u001b[0m, in \u001b[0;36mAxis.get_tightbbox\u001b[0;34m(self, renderer, for_layout_only)\u001b[0m\n\u001b[1;32m   1321\u001b[0m \u001b[39mif\u001b[39;00m renderer \u001b[39mis\u001b[39;00m \u001b[39mNone\u001b[39;00m:\n\u001b[1;32m   1322\u001b[0m     renderer \u001b[39m=\u001b[39m \u001b[39mself\u001b[39m\u001b[39m.\u001b[39mfigure\u001b[39m.\u001b[39m_get_renderer()\n\u001b[0;32m-> 1323\u001b[0m ticks_to_draw \u001b[39m=\u001b[39m \u001b[39mself\u001b[39;49m\u001b[39m.\u001b[39;49m_update_ticks()\n\u001b[1;32m   1325\u001b[0m \u001b[39mself\u001b[39m\u001b[39m.\u001b[39m_update_label_position(renderer)\n\u001b[1;32m   1327\u001b[0m \u001b[39m# go back to just this axis's tick labels\u001b[39;00m\n",
      "File \u001b[0;32m~/Desktop/projects/rl/.rl/lib/python3.11/site-packages/matplotlib/axis.py:1257\u001b[0m, in \u001b[0;36mAxis._update_ticks\u001b[0;34m(self)\u001b[0m\n\u001b[1;32m   1254\u001b[0m         bbox2 \u001b[39m=\u001b[39m mtransforms\u001b[39m.\u001b[39mBbox\u001b[39m.\u001b[39mfrom_extents(\u001b[39m0\u001b[39m, \u001b[39m0\u001b[39m, \u001b[39m0\u001b[39m, \u001b[39m0\u001b[39m)\n\u001b[1;32m   1255\u001b[0m     \u001b[39mreturn\u001b[39;00m bbox1, bbox2\n\u001b[0;32m-> 1257\u001b[0m \u001b[39mdef\u001b[39;00m \u001b[39m_update_ticks\u001b[39m(\u001b[39mself\u001b[39m):\n\u001b[1;32m   1258\u001b[0m \u001b[39m    \u001b[39m\u001b[39m\"\"\"\u001b[39;00m\n\u001b[1;32m   1259\u001b[0m \u001b[39m    Update ticks (position and labels) using the current data interval of\u001b[39;00m\n\u001b[1;32m   1260\u001b[0m \u001b[39m    the axes.  Return the list of ticks that will be drawn.\u001b[39;00m\n\u001b[1;32m   1261\u001b[0m \u001b[39m    \"\"\"\u001b[39;00m\n\u001b[1;32m   1262\u001b[0m     major_locs \u001b[39m=\u001b[39m \u001b[39mself\u001b[39m\u001b[39m.\u001b[39mget_majorticklocs()\n",
      "\u001b[0;31mKeyboardInterrupt\u001b[0m: "
     ]
    }
   ],
   "source": [
    "from matplotlib import pyplot as plt\n",
    "from IPython.display import display, clear_output\n",
    "\n",
    "network_shape = env.observation_space.shape[0], (env.action_space.n - env.action_space.start)\n",
    "model = PolicyNetwork(*network_shape)\n",
    "\n",
    "rewards_track = []\n",
    "fig = plt.figure()\n",
    "ax = fig.add_subplot(1,1,1)\n",
    "\n",
    "for i in range(1500):\n",
    "    rewards, log_probs, actions, observations = run_episode(model)\n",
    "    update(model, log_probs, rewards)\n",
    "\n",
    "    rewards_track += [sum(rewards).detach().tolist()]\n",
    "\n",
    "    if i % 100 == 0:\n",
    "        ax.clear()\n",
    "        ax.plot(rewards_track)\n",
    "        ax.set_title(\"Reward\")\n",
    "\n",
    "        # add a smoothed version\n",
    "        if len(rewards_track) > 100:\n",
    "            smoothed = [np.mean(rewards_track[i:i+100]) for i in range(len(rewards_track) - 100)]\n",
    "            ax.plot(smoothed)\n",
    "\n",
    "        display(fig)\n",
    "        clear_output(wait=True)\n",
    "        plt.pause(0.001)\n",
    "\n",
    "        if sum(rewards_track[-100:]) / 100 > 195:\n",
    "            print(\"Solved!\")\n",
    "            break"
   ]
  },
  {
   "attachments": {},
   "cell_type": "markdown",
   "metadata": {},
   "source": [
    "So at some point in training, we run an episode which totally goes off the rails, yielding a reward that is many standard deviations from the normal range. I think the sessions are also probably longer too, because the lunar lander is just wizzing around, yielding bad rewards and many timesteps. We can check this easily by plotting the number of steps in an episode."
   ]
  },
  {
   "cell_type": "code",
   "execution_count": 13,
   "metadata": {},
   "outputs": [
    {
     "ename": "KeyboardInterrupt",
     "evalue": "",
     "output_type": "error",
     "traceback": [
      "\u001b[0;31m---------------------------------------------------------------------------\u001b[0m",
      "\u001b[0;31mKeyboardInterrupt\u001b[0m                         Traceback (most recent call last)",
      "Cell \u001b[0;32mIn[13], line 15\u001b[0m\n\u001b[1;32m     13\u001b[0m \u001b[39mfor\u001b[39;00m i \u001b[39min\u001b[39;00m \u001b[39mrange\u001b[39m(\u001b[39m1500\u001b[39m):\n\u001b[1;32m     14\u001b[0m     rewards, log_probs, actions, observations \u001b[39m=\u001b[39m run_episode(model)\n\u001b[0;32m---> 15\u001b[0m     update(model, log_probs, rewards)\n\u001b[1;32m     17\u001b[0m     rewards_track \u001b[39m+\u001b[39m\u001b[39m=\u001b[39m [\u001b[39msum\u001b[39m(rewards)\u001b[39m.\u001b[39mdetach()\u001b[39m.\u001b[39mtolist()]\n\u001b[1;32m     18\u001b[0m     steps_per_episode \u001b[39m+\u001b[39m\u001b[39m=\u001b[39m [\u001b[39mlen\u001b[39m(actions)]\n",
      "Cell \u001b[0;32mIn[10], line 9\u001b[0m, in \u001b[0;36mupdate\u001b[0;34m(model, log_probs, rewards, alpha, gamma)\u001b[0m\n\u001b[1;32m      6\u001b[0m g \u001b[39m=\u001b[39m G[t]\n\u001b[1;32m      8\u001b[0m model\u001b[39m.\u001b[39moptimizer\u001b[39m.\u001b[39mzero_grad() \u001b[39m# reset the gradients\u001b[39;00m\n\u001b[0;32m----> 9\u001b[0m log_prob\u001b[39m.\u001b[39;49mbackward() \u001b[39m# compute the gradients of log pi(A_t, S_t, theta) at each timestep\u001b[39;00m\n\u001b[1;32m     10\u001b[0m \u001b[39mfor\u001b[39;00m param \u001b[39min\u001b[39;00m model\u001b[39m.\u001b[39mparameters():\n\u001b[1;32m     11\u001b[0m     \u001b[39mif\u001b[39;00m param\u001b[39m.\u001b[39mgrad \u001b[39mis\u001b[39;00m \u001b[39mnot\u001b[39;00m \u001b[39mNone\u001b[39;00m:\n",
      "File \u001b[0;32m~/Desktop/projects/rl/.rl/lib/python3.11/site-packages/torch/_tensor.py:487\u001b[0m, in \u001b[0;36mTensor.backward\u001b[0;34m(self, gradient, retain_graph, create_graph, inputs)\u001b[0m\n\u001b[1;32m    477\u001b[0m \u001b[39mif\u001b[39;00m has_torch_function_unary(\u001b[39mself\u001b[39m):\n\u001b[1;32m    478\u001b[0m     \u001b[39mreturn\u001b[39;00m handle_torch_function(\n\u001b[1;32m    479\u001b[0m         Tensor\u001b[39m.\u001b[39mbackward,\n\u001b[1;32m    480\u001b[0m         (\u001b[39mself\u001b[39m,),\n\u001b[0;32m   (...)\u001b[0m\n\u001b[1;32m    485\u001b[0m         inputs\u001b[39m=\u001b[39minputs,\n\u001b[1;32m    486\u001b[0m     )\n\u001b[0;32m--> 487\u001b[0m torch\u001b[39m.\u001b[39;49mautograd\u001b[39m.\u001b[39;49mbackward(\n\u001b[1;32m    488\u001b[0m     \u001b[39mself\u001b[39;49m, gradient, retain_graph, create_graph, inputs\u001b[39m=\u001b[39;49minputs\n\u001b[1;32m    489\u001b[0m )\n",
      "File \u001b[0;32m~/Desktop/projects/rl/.rl/lib/python3.11/site-packages/torch/autograd/__init__.py:200\u001b[0m, in \u001b[0;36mbackward\u001b[0;34m(tensors, grad_tensors, retain_graph, create_graph, grad_variables, inputs)\u001b[0m\n\u001b[1;32m    195\u001b[0m     retain_graph \u001b[39m=\u001b[39m create_graph\n\u001b[1;32m    197\u001b[0m \u001b[39m# The reason we repeat same the comment below is that\u001b[39;00m\n\u001b[1;32m    198\u001b[0m \u001b[39m# some Python versions print out the first line of a multi-line function\u001b[39;00m\n\u001b[1;32m    199\u001b[0m \u001b[39m# calls in the traceback and some print out the last line\u001b[39;00m\n\u001b[0;32m--> 200\u001b[0m Variable\u001b[39m.\u001b[39;49m_execution_engine\u001b[39m.\u001b[39;49mrun_backward(  \u001b[39m# Calls into the C++ engine to run the backward pass\u001b[39;49;00m\n\u001b[1;32m    201\u001b[0m     tensors, grad_tensors_, retain_graph, create_graph, inputs,\n\u001b[1;32m    202\u001b[0m     allow_unreachable\u001b[39m=\u001b[39;49m\u001b[39mTrue\u001b[39;49;00m, accumulate_grad\u001b[39m=\u001b[39;49m\u001b[39mTrue\u001b[39;49;00m)\n",
      "\u001b[0;31mKeyboardInterrupt\u001b[0m: "
     ]
    }
   ],
   "source": [
    "from matplotlib import pyplot as plt\n",
    "from IPython.display import display, clear_output\n",
    "\n",
    "network_shape = env.observation_space.shape[0], (env.action_space.n - env.action_space.start)\n",
    "model = PolicyNetwork(*network_shape)\n",
    "\n",
    "rewards_track = []\n",
    "steps_per_episode = []\n",
    "fig = plt.figure()\n",
    "ax = fig.add_subplot(1,2,1)\n",
    "ax2 = fig.add_subplot(1,2,2)\n",
    "\n",
    "for i in range(1500):\n",
    "    rewards, log_probs, actions, observations = run_episode(model)\n",
    "    update(model, log_probs, rewards)\n",
    "\n",
    "    rewards_track += [sum(rewards).detach().tolist()]\n",
    "    steps_per_episode += [len(actions)]\n",
    "\n",
    "    if i % 100 == 0:\n",
    "        ax.clear()\n",
    "        ax.plot(rewards_track)\n",
    "        ax.set_title(\"Reward\")\n",
    "\n",
    "        # add a smoothed version\n",
    "        if len(rewards_track) > 100:\n",
    "            smoothed = [np.mean(rewards_track[i:i+100]) for i in range(len(rewards_track) - 100)]\n",
    "            ax.plot(smoothed)\n",
    "\n",
    "        # also plot the number of steps\n",
    "        ax2.plot(steps_per_episode, color='red')\n",
    "\n",
    "        display(fig)\n",
    "        clear_output(wait=True)\n",
    "        plt.pause(0.001)\n",
    "\n",
    "        if sum(rewards_track[-100:]) / 100 > 195:\n",
    "            print(\"Solved!\")\n",
    "            break"
   ]
  },
  {
   "attachments": {},
   "cell_type": "markdown",
   "metadata": {},
   "source": [
    "Yep, so we need to cap our episode lengths. If we don't solve within say 1000 steps, it should just be a failure."
   ]
  },
  {
   "cell_type": "code",
   "execution_count": 14,
   "metadata": {},
   "outputs": [],
   "source": [
    "def run_episode(model, env=env, max_steps=1000):\n",
    "    observation, _ = env.reset()\n",
    "\n",
    "    rewards = []\n",
    "    log_probs = []\n",
    "    actions = []\n",
    "    observations = []\n",
    "\n",
    "    steps = 0\n",
    "\n",
    "    while True:\n",
    "        action, _log_probs = model.act(observation)\n",
    "        observation, reward, terminated, truncated, info = env.step(action)\n",
    "        steps += 1\n",
    "\n",
    "        actions.append(action)\n",
    "        rewards.append(reward)\n",
    "        log_probs.append(_log_probs)\n",
    "        observations.append(observation)\n",
    "\n",
    "        if terminated:\n",
    "            break\n",
    "\n",
    "        if steps >= max_steps:\n",
    "            break\n",
    "\n",
    "    rewards = torch.tensor(rewards)\n",
    "    \n",
    "    return rewards, log_probs, actions, np.array(observations)\n",
    "\n",
    "model = PolicyNetwork(env.observation_space.shape[0], env.action_space.n)\n",
    "rewards, log_probs, actions, observations = run_episode(model)\n",
    "\n",
    "# print(rewards.shape)\n",
    "# print(len(log_probs))\n",
    "# print(actions)\n",
    "# print(observations)\n",
    "\n",
    "del model, rewards, log_probs, actions, observations"
   ]
  },
  {
   "cell_type": "code",
   "execution_count": 15,
   "metadata": {},
   "outputs": [
    {
     "ename": "KeyboardInterrupt",
     "evalue": "",
     "output_type": "error",
     "traceback": [
      "\u001b[0;31m---------------------------------------------------------------------------\u001b[0m",
      "\u001b[0;31mKeyboardInterrupt\u001b[0m                         Traceback (most recent call last)",
      "Cell \u001b[0;32mIn[15], line 14\u001b[0m\n\u001b[1;32m     11\u001b[0m ax2 \u001b[39m=\u001b[39m fig\u001b[39m.\u001b[39madd_subplot(\u001b[39m1\u001b[39m,\u001b[39m2\u001b[39m,\u001b[39m2\u001b[39m)\n\u001b[1;32m     13\u001b[0m \u001b[39mfor\u001b[39;00m i \u001b[39min\u001b[39;00m \u001b[39mrange\u001b[39m(\u001b[39m5000\u001b[39m):\n\u001b[0;32m---> 14\u001b[0m     rewards, log_probs, actions, observations \u001b[39m=\u001b[39m run_episode(model)\n\u001b[1;32m     15\u001b[0m     update(model, log_probs, rewards)\n\u001b[1;32m     17\u001b[0m     rewards_track \u001b[39m+\u001b[39m\u001b[39m=\u001b[39m [\u001b[39msum\u001b[39m(rewards)\u001b[39m.\u001b[39mdetach()\u001b[39m.\u001b[39mtolist()]\n",
      "Cell \u001b[0;32mIn[14], line 12\u001b[0m, in \u001b[0;36mrun_episode\u001b[0;34m(model, env, max_steps)\u001b[0m\n\u001b[1;32m      9\u001b[0m steps \u001b[39m=\u001b[39m \u001b[39m0\u001b[39m\n\u001b[1;32m     11\u001b[0m \u001b[39mwhile\u001b[39;00m \u001b[39mTrue\u001b[39;00m:\n\u001b[0;32m---> 12\u001b[0m     action, _log_probs \u001b[39m=\u001b[39m model\u001b[39m.\u001b[39;49mact(observation)\n\u001b[1;32m     13\u001b[0m     observation, reward, terminated, truncated, info \u001b[39m=\u001b[39m env\u001b[39m.\u001b[39mstep(action)\n\u001b[1;32m     14\u001b[0m     steps \u001b[39m+\u001b[39m\u001b[39m=\u001b[39m \u001b[39m1\u001b[39m\n",
      "Cell \u001b[0;32mIn[7], line 22\u001b[0m, in \u001b[0;36mPolicyNetwork.act\u001b[0;34m(self, state)\u001b[0m\n\u001b[1;32m     20\u001b[0m \u001b[39mdef\u001b[39;00m \u001b[39mact\u001b[39m(\u001b[39mself\u001b[39m, state):\n\u001b[1;32m     21\u001b[0m     state \u001b[39m=\u001b[39m torch\u001b[39m.\u001b[39mfrom_numpy(state)\u001b[39m.\u001b[39mfloat()\u001b[39m.\u001b[39munsqueeze(\u001b[39m0\u001b[39m)\n\u001b[0;32m---> 22\u001b[0m     log_probs \u001b[39m=\u001b[39m \u001b[39mself\u001b[39;49m\u001b[39m.\u001b[39;49mforward(state)\u001b[39m.\u001b[39msqueeze(\u001b[39m0\u001b[39m)\n\u001b[1;32m     23\u001b[0m     probs \u001b[39m=\u001b[39m torch\u001b[39m.\u001b[39mexp(log_probs)\n\u001b[1;32m     24\u001b[0m     action \u001b[39m=\u001b[39m torch\u001b[39m.\u001b[39mmultinomial(probs, \u001b[39m1\u001b[39m)\n",
      "Cell \u001b[0;32mIn[7], line 18\u001b[0m, in \u001b[0;36mPolicyNetwork.forward\u001b[0;34m(self, x)\u001b[0m\n\u001b[1;32m     16\u001b[0m \u001b[39mdef\u001b[39;00m \u001b[39mforward\u001b[39m(\u001b[39mself\u001b[39m, x):\n\u001b[1;32m     17\u001b[0m     logits \u001b[39m=\u001b[39m \u001b[39mself\u001b[39m\u001b[39m.\u001b[39mlayer(x)\n\u001b[0;32m---> 18\u001b[0m     \u001b[39mreturn\u001b[39;00m torch\u001b[39m.\u001b[39;49mlog(F\u001b[39m.\u001b[39;49msoftmax(logits, dim\u001b[39m=\u001b[39;49m\u001b[39m-\u001b[39;49m\u001b[39m1\u001b[39;49m) \u001b[39m+\u001b[39;49m \u001b[39m1e-9\u001b[39;49m)\n",
      "\u001b[0;31mKeyboardInterrupt\u001b[0m: "
     ]
    }
   ],
   "source": [
    "from matplotlib import pyplot as plt\n",
    "from IPython.display import display, clear_output\n",
    "\n",
    "network_shape = env.observation_space.shape[0], (env.action_space.n - env.action_space.start)\n",
    "model = PolicyNetwork(*network_shape)\n",
    "\n",
    "rewards_track = []\n",
    "steps_per_episode = []\n",
    "fig = plt.figure()\n",
    "ax = fig.add_subplot(1,2,1)\n",
    "ax2 = fig.add_subplot(1,2,2)\n",
    "\n",
    "for i in range(5000):\n",
    "    rewards, log_probs, actions, observations = run_episode(model)\n",
    "    update(model, log_probs, rewards)\n",
    "\n",
    "    rewards_track += [sum(rewards).detach().tolist()]\n",
    "    steps_per_episode += [len(actions)]\n",
    "\n",
    "    if i % 100 == 0:\n",
    "        ax.clear()\n",
    "        ax.plot(rewards_track)\n",
    "        ax.set_title(\"Reward\")\n",
    "\n",
    "        # add a smoothed version\n",
    "        if len(rewards_track) > 100:\n",
    "            smoothed = [np.mean(rewards_track[i:i+100]) for i in range(len(rewards_track) - 100)]\n",
    "            ax.plot(smoothed)\n",
    "\n",
    "        # also plot the number of steps\n",
    "        ax2.plot(steps_per_episode, color='red')\n",
    "\n",
    "        display(fig)\n",
    "        clear_output(wait=True)\n",
    "        plt.pause(0.001)\n",
    "\n",
    "        if sum(rewards_track[-100:]) / 100 > 195:\n",
    "            print(\"Solved!\")\n",
    "            break"
   ]
  },
  {
   "attachments": {},
   "cell_type": "markdown",
   "metadata": {},
   "source": [
    "Interesting: the policy that we're learning is now just learning to fly off without landing. The behavior we're learning is to not actually land, but to not crash. Note how the score is never breaking above 100, so it's likely never learning to land. We can check this as well by plotting the moving average of how many episodes end with both legs in contact."
   ]
  },
  {
   "cell_type": "code",
   "execution_count": 16,
   "metadata": {},
   "outputs": [
    {
     "data": {
      "image/png": "[encoded data removed]",
      "text/plain": [
       "<Figure size 1500x500 with 3 Axes>"
      ]
     },
     "metadata": {},
     "output_type": "display_data"
    }
   ],
   "source": [
    "from matplotlib import pyplot as plt\n",
    "from IPython.display import display, clear_output\n",
    "\n",
    "network_shape = env.observation_space.shape[0], (env.action_space.n - env.action_space.start)\n",
    "model = PolicyNetwork(*network_shape)\n",
    "\n",
    "rewards_track = []\n",
    "steps_per_episode = []\n",
    "landed = []\n",
    "\n",
    "fig = plt.figure(figsize=(15,5))\n",
    "ax = fig.add_subplot(1,3,1)\n",
    "ax2 = fig.add_subplot(1,3,2)\n",
    "ax3 = fig.add_subplot(1,3,3)\n",
    "\n",
    "for i in range(5000):\n",
    "    rewards, log_probs, actions, observations = run_episode(model)\n",
    "    update(model, log_probs, rewards)\n",
    "\n",
    "    rewards_track += [sum(rewards).detach().tolist()]\n",
    "    steps_per_episode += [len(actions)]\n",
    "    landed += [observations[-1, -2:].sum() == 2]\n",
    "\n",
    "    if i % 100 == 0:\n",
    "        ax.clear()\n",
    "        ax.plot(rewards_track)\n",
    "        ax.set_title(\"Reward\")\n",
    "\n",
    "        # add a smoothed version\n",
    "        if len(rewards_track) > 100:\n",
    "            smoothed = [np.mean(rewards_track[i:i+100]) for i in range(len(rewards_track) - 100)]\n",
    "            ax.plot(smoothed)\n",
    "\n",
    "        # also plot the number of steps\n",
    "        ax2.plot(steps_per_episode, color='red')\n",
    "        ax2.set_title(\"Steps per episode\")\n",
    "\n",
    "        # and the number of times we landed\n",
    "        ax3.set_title(\"Landed\")\n",
    "        if len(landed) > 20:\n",
    "            smoothed = [np.mean(landed[i:i+20]) for i in range(len(landed) - 20)]\n",
    "            ax3.plot(smoothed, color='green')\n",
    "\n",
    "        display(fig)\n",
    "        clear_output(wait=True)\n",
    "        plt.pause(0.001)\n",
    "\n",
    "        if sum(rewards_track[-100:]) / 100 > 195:\n",
    "            print(\"Solved!\")\n",
    "            break\n",
    "\n",
    "ax.clear()\n",
    "ax.plot(rewards_track)\n",
    "ax.set_title(\"Reward\")\n",
    "\n",
    "# add a smoothed version\n",
    "if len(rewards_track) > 100:\n",
    "    smoothed = [np.mean(rewards_track[i:i+100]) for i in range(len(rewards_track) - 100)]\n",
    "    ax.plot(smoothed)\n",
    "\n",
    "# also plot the number of steps\n",
    "ax2.plot(steps_per_episode, color='red')\n",
    "ax2.set_title(\"Steps per episode\")\n",
    "\n",
    "# and the number of times we landed\n",
    "ax3.set_title(\"Landed\")\n",
    "if len(landed) > 20:\n",
    "    smoothed = [np.mean(landed[i:i+20]) for i in range(len(landed) - 20)]\n",
    "    ax3.plot(smoothed, color='green')\n",
    "\n",
    "display(fig)"
   ]
  },
  {
   "attachments": {},
   "cell_type": "markdown",
   "metadata": {},
   "source": [
    "Okay, so it is working now! I speculate that if we add a large negative reward if we don't land in time, then we'll also train faster."
   ]
  },
  {
   "cell_type": "code",
   "execution_count": 17,
   "metadata": {},
   "outputs": [],
   "source": [
    "def run_episode(model, env=env, max_steps=1000, overstep_penalty=-100):\n",
    "    observation, _ = env.reset()\n",
    "\n",
    "    rewards = []\n",
    "    log_probs = []\n",
    "    actions = []\n",
    "    observations = []\n",
    "\n",
    "    steps = 0\n",
    "\n",
    "    while True:\n",
    "        action, _log_probs = model.act(observation)\n",
    "        observation, reward, terminated, truncated, info = env.step(action)\n",
    "        steps += 1\n",
    "\n",
    "        actions.append(action)\n",
    "        rewards.append(reward)\n",
    "        log_probs.append(_log_probs)\n",
    "        observations.append(observation)\n",
    "\n",
    "        if terminated:\n",
    "            break\n",
    "\n",
    "        if steps >= max_steps:\n",
    "            rewards[-1] += overstep_penalty\n",
    "            break\n",
    "\n",
    "    rewards = torch.tensor(rewards)\n",
    "    \n",
    "    return rewards, log_probs, actions, np.array(observations)\n",
    "\n",
    "model = PolicyNetwork(env.observation_space.shape[0], env.action_space.n)\n",
    "rewards, log_probs, actions, observations = run_episode(model)\n",
    "\n",
    "# print(rewards.shape)\n",
    "# print(len(log_probs))\n",
    "# print(actions)\n",
    "# print(observations)\n",
    "\n",
    "del model, rewards, log_probs, actions, observations"
   ]
  },
  {
   "cell_type": "code",
   "execution_count": 21,
   "metadata": {},
   "outputs": [
    {
     "data": {
      "image/png": "[encoded data removed]",
      "text/plain": [
       "<Figure size 1500x500 with 3 Axes>"
      ]
     },
     "metadata": {},
     "output_type": "display_data"
    }
   ],
   "source": [
    "from matplotlib import pyplot as plt\n",
    "from IPython.display import display, clear_output\n",
    "\n",
    "network_shape = env.observation_space.shape[0], (env.action_space.n - env.action_space.start)\n",
    "model = PolicyNetwork(*network_shape)\n",
    "\n",
    "rewards_track = []\n",
    "steps_per_episode = []\n",
    "landed = []\n",
    "\n",
    "fig = plt.figure(figsize=(15,5))\n",
    "ax = fig.add_subplot(1,3,1)\n",
    "ax2 = fig.add_subplot(1,3,2)\n",
    "ax3 = fig.add_subplot(1,3,3)\n",
    "\n",
    "for i in range(5000):\n",
    "    rewards, log_probs, actions, observations = run_episode(model)\n",
    "    update(model, log_probs, rewards)\n",
    "\n",
    "    rewards_track += [sum(rewards).detach().tolist()]\n",
    "    steps_per_episode += [len(actions)]\n",
    "    landed += [observations[-1, -2:].sum() == 2]\n",
    "\n",
    "    if i % 100 == 0:\n",
    "        ax.clear()\n",
    "        ax.plot(rewards_track)\n",
    "        ax.set_title(\"Reward\")\n",
    "\n",
    "        # add a smoothed version\n",
    "        if len(rewards_track) > 100:\n",
    "            smoothed = [np.mean(rewards_track[i:i+100]) for i in range(len(rewards_track) - 100)]\n",
    "            ax.plot(smoothed)\n",
    "\n",
    "        # also plot the number of steps\n",
    "        ax2.plot(steps_per_episode, color='red')\n",
    "        ax2.set_title(\"Steps per episode\")\n",
    "\n",
    "        # and the number of times we landed\n",
    "        ax3.set_title(\"Landed\")\n",
    "        if len(landed) > 20:\n",
    "            smoothed = [np.mean(landed[i:i+20]) for i in range(len(landed) - 20)]\n",
    "            ax3.plot(smoothed, color='green')\n",
    "\n",
    "        display(fig)\n",
    "        clear_output(wait=True)\n",
    "        plt.pause(0.001)\n",
    "\n",
    "        if sum(rewards_track[-100:]) / 100 > 195:\n",
    "            print(\"Solved!\")\n",
    "            break\n",
    "\n",
    "ax.clear()\n",
    "ax.plot(rewards_track)\n",
    "ax.set_title(\"Reward\")\n",
    "\n",
    "# add a smoothed version\n",
    "if len(rewards_track) > 100:\n",
    "    smoothed = [np.mean(rewards_track[i:i+100]) for i in range(len(rewards_track) - 100)]\n",
    "    ax.plot(smoothed)\n",
    "\n",
    "# also plot the number of steps\n",
    "ax2.plot(steps_per_episode, color='red')\n",
    "ax2.set_title(\"Steps per episode\")\n",
    "\n",
    "# and the number of times we landed\n",
    "ax3.set_title(\"Landed\")\n",
    "if len(landed) > 20:\n",
    "    smoothed = [np.mean(landed[i:i+20]) for i in range(len(landed) - 20)]\n",
    "    ax3.plot(smoothed, color='green')\n",
    "\n",
    "display(fig)"
   ]
  },
  {
   "attachments": {},
   "cell_type": "markdown",
   "metadata": {},
   "source": [
    "Now let's try a larger network, with more than one hidden layer."
   ]
  },
  {
   "cell_type": "code",
   "execution_count": 18,
   "metadata": {},
   "outputs": [
    {
     "data": {
      "text/plain": [
       "tensor([[ 0.0000e+00,  0.0000e+00,  0.0000e+00,  ...,  0.0000e+00,\n",
       "          0.0000e+00,  0.0000e+00],\n",
       "        [ 6.5863e-03,  5.1790e-03, -2.9792e-04,  ..., -9.6691e-05,\n",
       "          8.9327e-03,  5.1622e-03],\n",
       "        [-2.5627e-03, -2.0151e-03,  1.1592e-04,  ...,  3.7621e-05,\n",
       "         -3.4756e-03, -2.0086e-03],\n",
       "        ...,\n",
       "        [-2.7561e-02, -2.1672e-02,  1.2467e-03,  ...,  4.0461e-04,\n",
       "         -3.7380e-02, -2.1602e-02],\n",
       "        [-4.3869e-03, -3.4495e-03,  1.9843e-04,  ...,  6.4401e-05,\n",
       "         -5.9496e-03, -3.4383e-03],\n",
       "        [ 0.0000e+00,  0.0000e+00,  0.0000e+00,  ...,  0.0000e+00,\n",
       "          0.0000e+00,  0.0000e+00]])"
      ]
     },
     "execution_count": 18,
     "metadata": {},
     "output_type": "execute_result"
    }
   ],
   "source": [
    "import torch\n",
    "import torch.nn as nn\n",
    "import torch.nn.functional as F\n",
    "\n",
    "# initialize policy network\n",
    "# takes in a state, determines the next action\n",
    "class BeefyPolicyNetwork(nn.Module):\n",
    "    def __init__(self, obs_size, action_size, hidden_size=128):\n",
    "        super().__init__()\n",
    "        self.layer = nn.Sequential(\n",
    "            nn.Linear(obs_size, hidden_size, bias=False),\n",
    "            nn.ReLU(),\n",
    "            nn.Linear(hidden_size, action_size, bias=False),\n",
    "            nn.ReLU()\n",
    "        )\n",
    "        self.optimizer = torch.optim.Adam(self.parameters(), lr=1e-3)\n",
    "\n",
    "    def forward(self, x):\n",
    "        logits = self.layer(x)\n",
    "        return torch.log(F.softmax(logits, dim=-1) + 1e-9)\n",
    "    \n",
    "    def act(self, state):\n",
    "        state = torch.from_numpy(state).float().unsqueeze(0)\n",
    "        log_probs = self.forward(state).squeeze(0)\n",
    "        probs = torch.exp(log_probs)\n",
    "        action = torch.multinomial(probs, 1)\n",
    "        return action.item(), log_probs[action]\n",
    "    \n",
    "model = BeefyPolicyNetwork(env.observation_space.shape[0], (env.action_space.n - env.action_space.start))\n",
    "model.act(np.random.randn(8))[1].backward()\n",
    "list(model.parameters())[0].grad"
   ]
  },
  {
   "cell_type": "code",
   "execution_count": 19,
   "metadata": {},
   "outputs": [
    {
     "ename": "RuntimeError",
     "evalue": "one of the variables needed for gradient computation has been modified by an inplace operation: [torch.FloatTensor [128, 4]], which is output 0 of AsStridedBackward0, is at version 2; expected version 1 instead. Hint: enable anomaly detection to find the operation that failed to compute its gradient, with torch.autograd.set_detect_anomaly(True).",
     "output_type": "error",
     "traceback": [
      "\u001b[0;31m---------------------------------------------------------------------------\u001b[0m",
      "\u001b[0;31mRuntimeError\u001b[0m                              Traceback (most recent call last)",
      "Cell \u001b[0;32mIn[19], line 18\u001b[0m\n\u001b[1;32m     16\u001b[0m \u001b[39mfor\u001b[39;00m i \u001b[39min\u001b[39;00m \u001b[39mrange\u001b[39m(\u001b[39m5000\u001b[39m):\n\u001b[1;32m     17\u001b[0m     rewards, log_probs, actions, observations \u001b[39m=\u001b[39m run_episode(model)\n\u001b[0;32m---> 18\u001b[0m     update(model, log_probs, rewards)\n\u001b[1;32m     20\u001b[0m     rewards_track \u001b[39m+\u001b[39m\u001b[39m=\u001b[39m [\u001b[39msum\u001b[39m(rewards)\u001b[39m.\u001b[39mdetach()\u001b[39m.\u001b[39mtolist()]\n\u001b[1;32m     21\u001b[0m     steps_per_episode \u001b[39m+\u001b[39m\u001b[39m=\u001b[39m [\u001b[39mlen\u001b[39m(actions)]\n",
      "Cell \u001b[0;32mIn[10], line 9\u001b[0m, in \u001b[0;36mupdate\u001b[0;34m(model, log_probs, rewards, alpha, gamma)\u001b[0m\n\u001b[1;32m      6\u001b[0m g \u001b[39m=\u001b[39m G[t]\n\u001b[1;32m      8\u001b[0m model\u001b[39m.\u001b[39moptimizer\u001b[39m.\u001b[39mzero_grad() \u001b[39m# reset the gradients\u001b[39;00m\n\u001b[0;32m----> 9\u001b[0m log_prob\u001b[39m.\u001b[39;49mbackward() \u001b[39m# compute the gradients of log pi(A_t, S_t, theta) at each timestep\u001b[39;00m\n\u001b[1;32m     10\u001b[0m \u001b[39mfor\u001b[39;00m param \u001b[39min\u001b[39;00m model\u001b[39m.\u001b[39mparameters():\n\u001b[1;32m     11\u001b[0m     \u001b[39mif\u001b[39;00m param\u001b[39m.\u001b[39mgrad \u001b[39mis\u001b[39;00m \u001b[39mnot\u001b[39;00m \u001b[39mNone\u001b[39;00m:\n",
      "File \u001b[0;32m~/Desktop/projects/rl/.rl/lib/python3.11/site-packages/torch/_tensor.py:487\u001b[0m, in \u001b[0;36mTensor.backward\u001b[0;34m(self, gradient, retain_graph, create_graph, inputs)\u001b[0m\n\u001b[1;32m    477\u001b[0m \u001b[39mif\u001b[39;00m has_torch_function_unary(\u001b[39mself\u001b[39m):\n\u001b[1;32m    478\u001b[0m     \u001b[39mreturn\u001b[39;00m handle_torch_function(\n\u001b[1;32m    479\u001b[0m         Tensor\u001b[39m.\u001b[39mbackward,\n\u001b[1;32m    480\u001b[0m         (\u001b[39mself\u001b[39m,),\n\u001b[0;32m   (...)\u001b[0m\n\u001b[1;32m    485\u001b[0m         inputs\u001b[39m=\u001b[39minputs,\n\u001b[1;32m    486\u001b[0m     )\n\u001b[0;32m--> 487\u001b[0m torch\u001b[39m.\u001b[39;49mautograd\u001b[39m.\u001b[39;49mbackward(\n\u001b[1;32m    488\u001b[0m     \u001b[39mself\u001b[39;49m, gradient, retain_graph, create_graph, inputs\u001b[39m=\u001b[39;49minputs\n\u001b[1;32m    489\u001b[0m )\n",
      "File \u001b[0;32m~/Desktop/projects/rl/.rl/lib/python3.11/site-packages/torch/autograd/__init__.py:200\u001b[0m, in \u001b[0;36mbackward\u001b[0;34m(tensors, grad_tensors, retain_graph, create_graph, grad_variables, inputs)\u001b[0m\n\u001b[1;32m    195\u001b[0m     retain_graph \u001b[39m=\u001b[39m create_graph\n\u001b[1;32m    197\u001b[0m \u001b[39m# The reason we repeat same the comment below is that\u001b[39;00m\n\u001b[1;32m    198\u001b[0m \u001b[39m# some Python versions print out the first line of a multi-line function\u001b[39;00m\n\u001b[1;32m    199\u001b[0m \u001b[39m# calls in the traceback and some print out the last line\u001b[39;00m\n\u001b[0;32m--> 200\u001b[0m Variable\u001b[39m.\u001b[39;49m_execution_engine\u001b[39m.\u001b[39;49mrun_backward(  \u001b[39m# Calls into the C++ engine to run the backward pass\u001b[39;49;00m\n\u001b[1;32m    201\u001b[0m     tensors, grad_tensors_, retain_graph, create_graph, inputs,\n\u001b[1;32m    202\u001b[0m     allow_unreachable\u001b[39m=\u001b[39;49m\u001b[39mTrue\u001b[39;49;00m, accumulate_grad\u001b[39m=\u001b[39;49m\u001b[39mTrue\u001b[39;49;00m)\n",
      "\u001b[0;31mRuntimeError\u001b[0m: one of the variables needed for gradient computation has been modified by an inplace operation: [torch.FloatTensor [128, 4]], which is output 0 of AsStridedBackward0, is at version 2; expected version 1 instead. Hint: enable anomaly detection to find the operation that failed to compute its gradient, with torch.autograd.set_detect_anomaly(True)."
     ]
    },
    {
     "data": {
      "image/png": "[encoded data removed]",
      "text/plain": [
       "<Figure size 1500x500 with 3 Axes>"
      ]
     },
     "metadata": {},
     "output_type": "display_data"
    }
   ],
   "source": [
    "from matplotlib import pyplot as plt\n",
    "from IPython.display import display, clear_output\n",
    "\n",
    "network_shape = env.observation_space.shape[0], (env.action_space.n - env.action_space.start)\n",
    "model = BeefyPolicyNetwork(*network_shape)\n",
    "\n",
    "rewards_track = []\n",
    "steps_per_episode = []\n",
    "landed = []\n",
    "\n",
    "fig = plt.figure(figsize=(15,5))\n",
    "ax = fig.add_subplot(1,3,1)\n",
    "ax2 = fig.add_subplot(1,3,2)\n",
    "ax3 = fig.add_subplot(1,3,3)\n",
    "\n",
    "for i in range(5000):\n",
    "    rewards, log_probs, actions, observations = run_episode(model)\n",
    "    update(model, log_probs, rewards)\n",
    "\n",
    "    rewards_track += [sum(rewards).detach().tolist()]\n",
    "    steps_per_episode += [len(actions)]\n",
    "    landed += [observations[-1, -2:].sum() == 2]\n",
    "\n",
    "    if i % 100 == 0:\n",
    "        ax.clear()\n",
    "        ax.plot(rewards_track)\n",
    "        ax.set_title(\"Reward\")\n",
    "\n",
    "        # add a smoothed version\n",
    "        if len(rewards_track) > 100:\n",
    "            smoothed = [np.mean(rewards_track[i:i+100]) for i in range(len(rewards_track) - 100)]\n",
    "            ax.plot(smoothed)\n",
    "\n",
    "        # also plot the number of steps\n",
    "        ax2.plot(steps_per_episode, color='red')\n",
    "        ax2.set_title(\"Steps per episode\")\n",
    "\n",
    "        # and the number of times we landed\n",
    "        ax3.set_title(\"Landed\")\n",
    "        if len(landed) > 30:\n",
    "            smoothed = [np.mean(landed[i:i+30]) for i in range(len(landed) - 30)]\n",
    "            ax3.plot(smoothed, color='green')\n",
    "\n",
    "        display(fig)\n",
    "        clear_output(wait=True)\n",
    "        plt.pause(0.001)\n",
    "\n",
    "        if sum(rewards_track[-100:]) / 100 > 195:\n",
    "            print(\"Solved!\")\n",
    "            break"
   ]
  },
  {
   "attachments": {},
   "cell_type": "markdown",
   "metadata": {},
   "source": [
    "Oh man, so getting a deeper policy network to back propagate is going to be not as straightforward. We'll work on this in the next post."
   ]
  },
  {
   "attachments": {},
   "cell_type": "markdown",
   "metadata": {},
   "source": []
  }
 ],
 "metadata": {
  "kernelspec": {
   "display_name": ".rl",
   "language": "python",
   "name": "python3"
  },
  "language_info": {
   "codemirror_mode": {
    "name": "ipython",
    "version": 3
   },
   "file_extension": ".py",
   "mimetype": "text/x-python",
   "name": "python",
   "nbconvert_exporter": "python",
   "pygments_lexer": "ipython3",
   "version": "3.11.5"
  },
  "orig_nbformat": 4
 },
 "nbformat": 4,
 "nbformat_minor": 2
}
