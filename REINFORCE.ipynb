{
 "cells": [
  {
   "cell_type": "code",
   "execution_count": 1,
   "metadata": {},
   "outputs": [
    {
     "data": {
      "text/plain": [
       "'0.29.0'"
      ]
     },
     "execution_count": 1,
     "metadata": {},
     "output_type": "execute_result"
    }
   ],
   "source": [
    "import gymnasium as gym\n",
    "import numpy as np\n",
    "gym.__version__"
   ]
  },
  {
   "cell_type": "code",
   "execution_count": 2,
   "metadata": {},
   "outputs": [],
   "source": [
    "env = gym.make(\"LunarLander-v2\")"
   ]
  },
  {
   "attachments": {},
   "cell_type": "markdown",
   "metadata": {},
   "source": [
    "From [docs](https://gymnasium.farama.org/environments/box2d/lunar_lander/)\n",
    "\n",
    "## Action Space\n",
    "There are four discrete actions available:\n",
    "\n",
    "0: do nothing\n",
    "\n",
    "1: fire left orientation engine\n",
    "\n",
    "2: fire main engine\n",
    "\n",
    "3: fire right orientation engine\n"
   ]
  },
  {
   "cell_type": "code",
   "execution_count": 3,
   "metadata": {},
   "outputs": [
    {
     "data": {
      "text/plain": [
       "Discrete(4)"
      ]
     },
     "execution_count": 3,
     "metadata": {},
     "output_type": "execute_result"
    }
   ],
   "source": [
    "env.action_space"
   ]
  },
  {
   "attachments": {},
   "cell_type": "markdown",
   "metadata": {},
   "source": [
    "\n",
    "## Observation Space\n",
    "The state is an 8-dimensional vector: the coordinates of the lander in x & y, its linear velocities in x & y, its angle, its angular velocity, and two booleans that represent whether each leg is in contact with the ground or not.\n"
   ]
  },
  {
   "cell_type": "code",
   "execution_count": 4,
   "metadata": {},
   "outputs": [
    {
     "name": "stdout",
     "output_type": "stream",
     "text": [
      "(8,)\n"
     ]
    },
    {
     "data": {
      "text/plain": [
       "Box([-1.5       -1.5       -5.        -5.        -3.1415927 -5.\n",
       " -0.        -0.       ], [1.5       1.5       5.        5.        3.1415927 5.        1.\n",
       " 1.       ], (8,), float32)"
      ]
     },
     "execution_count": 4,
     "metadata": {},
     "output_type": "execute_result"
    }
   ],
   "source": [
    "print(env.observation_space.shape)\n",
    "env.observation_space"
   ]
  },
  {
   "attachments": {},
   "cell_type": "markdown",
   "metadata": {},
   "source": [
    "## Rewards\n",
    "After every step a reward is granted. The total reward of an episode is the sum of the rewards for all the steps within that episode.\n",
    "\n",
    "For each step, the reward:\n",
    "\n",
    "- is increased/decreased the closer/further the lander is to the landing pad.\n",
    "- is increased/decreased the slower/faster the lander is moving.\n",
    "- is decreased the more the lander is tilted (angle not horizontal).\n",
    "- is increased by 10 points for each leg that is in contact with the ground.\n",
    "- is decreased by 0.03 points each frame a side engine is firing.\n",
    "- is decreased by 0.3 points each frame the main engine is firing.\n",
    "\n",
    "The episode receive an additional reward of -100 or +100 points for crashing or landing safely respectively.\n",
    "An episode is considered a solution if it scores at least 200 points."
   ]
  },
  {
   "attachments": {},
   "cell_type": "markdown",
   "metadata": {},
   "source": [
    "## Taking a step"
   ]
  },
  {
   "cell_type": "code",
   "execution_count": 16,
   "metadata": {},
   "outputs": [
    {
     "data": {
      "text/plain": [
       "0.004529931273083321"
      ]
     },
     "execution_count": 16,
     "metadata": {},
     "output_type": "execute_result"
    }
   ],
   "source": [
    "env.reset()\n",
    "observation, reward, terminated, truncated, info = env.step(0)\n",
    "reward"
   ]
  },
  {
   "attachments": {},
   "cell_type": "markdown",
   "metadata": {},
   "source": [
    "## Reinforcement Learning Objective\n",
    "\n",
    "Our performance measure: \n",
    "\n",
    "$$\n",
    "J(\\theta) = \\mathbb{E} \\left[ \\sum_{t=0}^{T-1}r_{t+1} \\right]\n",
    "$$\n",
    "\n",
    "and our update rule:\n",
    "\n",
    "$$\n",
    "\\theta \\leftarrow \\theta + \\frac{\\partial}{\\partial \\theta} J(\\theta)\n",
    "$$"
   ]
  },
  {
   "attachments": {},
   "cell_type": "markdown",
   "metadata": {},
   "source": [
    "The gradient\n",
    "$$\n",
    "\\nabla J (\\theta) = \\mathbb{E}_\\pi \\left[ \\sum_a q_\\pi(S_t, a) \\nabla \\pi (a | S_t, \\theta) \\right]\n",
    "$$\n",
    "$$\n",
    "\\nabla J (\\theta) = \\mathbb{E}_\\pi \\left[ \\sum_a \\pi (a | S_t, \\theta) q_\\pi(S_t, a) \\frac{\\nabla \\pi (a | S_t, \\theta)}{\\pi (a | S_t, \\theta)} \\right]\n",
    "$$\n",
    "\n",
    "If we sample $A_t \\sim \\pi$, then we just replace the expectation over $a$ with the sample $A_t$. So we're doing this swap from expectation to sample:\n",
    "$$\n",
    "\\sum_a \\pi (a | S_t, \\theta) q_\\pi(S_t, a) \\rightarrow q_\\pi(S_t, A_t)\n",
    "$$\n",
    "which then simplifies $\\nabla J(\\theta)$ to\n",
    "\n",
    "$$\n",
    "\\nabla J (\\theta) = \\mathbb{E}_\\pi \\left[ q_\\pi(S_t, A_t) \\frac{\\nabla \\pi (A_t | S_t, \\theta)}{\\pi (A_t | S_t, \\theta)} \\right]\n",
    "$$\n",
    "\n",
    "and by $\\mathbb{E}_\\pi [G_t | S_t, A_t] = q_\\pi (S_t, A_t)$,\n",
    "\n",
    "$$\n",
    "\\nabla J (\\theta) = \\mathbb{E}_\\pi \\left[ G_t \\frac{\\nabla \\pi (A_t | S_t, \\theta)}{\\pi (A_t | S_t, \\theta)} \\right]\n",
    "$$"
   ]
  },
  {
   "attachments": {},
   "cell_type": "markdown",
   "metadata": {},
   "source": [
    "We're going to make one more simplification: note that $\\nabla \\ln x = \\frac{\\nabla x}{x}$, so\n",
    "$$\n",
    "\\nabla J (\\theta) = \\mathbb{E}_\\pi \\left[ G_t \\nabla \\ln \\pi (A_t | S_t, \\theta) \\right]\n",
    "$$"
   ]
  },
  {
   "attachments": {},
   "cell_type": "markdown",
   "metadata": {},
   "source": [
    "Now, we can actually calculate the value in brackets at each time step, and can then use it to update $\\theta$:\n",
    "\n",
    "$$\n",
    "\\theta_{t+1} = \\theta_t + \\alpha G_t \\nabla \\ln \\pi(A_t | S_t, \\theta_t)\n",
    "$$"
   ]
  },
  {
   "attachments": {},
   "cell_type": "markdown",
   "metadata": {},
   "source": [
    "We're now going to generate an episode $S_0, A_0, R_1,...,S_{T-1}, A_{T-1}, R_T$."
   ]
  },
  {
   "cell_type": "code",
   "execution_count": 64,
   "metadata": {},
   "outputs": [],
   "source": [
    "import torch\n",
    "import torch.nn as nn\n",
    "import torch.nn.functional as F\n",
    "\n",
    "# initialize policy network\n",
    "# takes in a state, determines the next action\n",
    "class PolicyNetwork(nn.Module):\n",
    "    def __init__(self, obs_size, action_size):\n",
    "        super().__init__()\n",
    "        self.layer = nn.Sequential(\n",
    "            nn.Linear(obs_size, action_size, bias=False),\n",
    "            nn.ReLU()\n",
    "        )\n",
    "        self.optimizer = torch.optim.Adam(self.parameters(), lr=1e-3)\n",
    "\n",
    "    def forward(self, x):\n",
    "        logits = self.layer(x)\n",
    "        return torch.log(F.softmax(logits, dim=-1) + 1e-9)\n",
    "    \n",
    "    def act(self, state):\n",
    "        state = torch.from_numpy(state).float().unsqueeze(0)\n",
    "        log_probs = self.forward(state).squeeze(0)\n",
    "        probs = torch.exp(log_probs)\n",
    "        action = torch.multinomial(probs, 1)\n",
    "        return action.item(), log_probs[action]\n",
    "    \n",
    "model = PolicyNetwork(env.observation_space.shape[0], (env.action_space.n - env.action_space.start))"
   ]
  },
  {
   "attachments": {},
   "cell_type": "markdown",
   "metadata": {},
   "source": [
    "Here is a full episode of the moon landing."
   ]
  },
  {
   "cell_type": "code",
   "execution_count": 152,
   "metadata": {},
   "outputs": [
    {
     "name": "stdout",
     "output_type": "stream",
     "text": [
      "torch.Size([67])\n",
      "67\n",
      "[1, 2, 1, 3, 3, 1, 3, 3, 1, 1, 3, 3, 0, 2, 3, 0, 2, 3, 3, 3, 3, 0, 3, 1, 0, 1, 3, 3, 1, 3, 1, 2, 0, 1, 2, 1, 1, 0, 3, 1, 0, 3, 2, 1, 3, 3, 2, 1, 1, 3, 0, 0, 0, 3, 1, 3, 3, 0, 0, 3, 0, 3, 3, 2, 0, 0, 3]\n",
      "[[-1.14006046e-02  1.39670765e+00 -5.83566844e-01 -3.28631043e-01\n",
      "   1.53116537e-02  1.75096110e-01  0.00000000e+00  0.00000000e+00]\n",
      " [-1.70145985e-02  1.38956869e+00 -5.70938170e-01 -3.17412794e-01\n",
      "   2.47429274e-02  1.88642755e-01  0.00000000e+00  0.00000000e+00]\n",
      " [-2.26935390e-02  1.38183427e+00 -5.79069316e-01 -3.43972355e-01\n",
      "   3.57961953e-02  2.21085712e-01  0.00000000e+00  0.00000000e+00]\n",
      " [-2.82759666e-02  1.37351072e+00 -5.66940188e-01 -3.70166570e-01\n",
      "   4.44033630e-02  1.72159433e-01  0.00000000e+00  0.00000000e+00]\n",
      " [-3.37945931e-02  1.36458540e+00 -5.58941424e-01 -3.96915764e-01\n",
      "   5.14049008e-02  1.40043706e-01  0.00000000e+00  0.00000000e+00]\n",
      " [-3.94047722e-02  1.35505641e+00 -5.70414126e-01 -4.23847973e-01\n",
      "   6.07038438e-02  1.85996145e-01  0.00000000e+00  0.00000000e+00]\n",
      " [-4.49204445e-02  1.34493911e+00 -5.58525443e-01 -4.49954391e-01\n",
      "   6.76021799e-02  1.37979433e-01  0.00000000e+00  0.00000000e+00]\n",
      " [-5.03577217e-02  1.33422852e+00 -5.48686862e-01 -4.76264060e-01\n",
      "   7.25201294e-02  9.83678773e-02  0.00000000e+00  0.00000000e+00]\n",
      " [-5.58835976e-02  1.32290316e+00 -5.59802473e-01 -5.03718913e-01\n",
      "   7.96789825e-02  1.43190116e-01  0.00000000e+00  0.00000000e+00]\n",
      " [-6.15061745e-02  1.31095517e+00 -5.71947634e-01 -5.31557441e-01\n",
      "   8.92933756e-02  1.92305177e-01  0.00000000e+00  0.00000000e+00]\n",
      " [-6.70547485e-02  1.29842007e+00 -5.62638819e-01 -5.57595193e-01\n",
      "   9.70200226e-02  1.54547423e-01  0.00000000e+00  0.00000000e+00]\n",
      " [-7.25174919e-02  1.28530693e+00 -5.51833153e-01 -5.83178878e-01\n",
      "   1.02546744e-01  1.10544443e-01  0.00000000e+00  0.00000000e+00]\n",
      " [-7.79803246e-02  1.27159405e+00 -5.51847696e-01 -6.09850526e-01\n",
      "   1.08073145e-01  1.10538080e-01  0.00000000e+00  0.00000000e+00]\n",
      " [-8.36441070e-02  1.25858426e+00 -5.71435869e-01 -5.78587413e-01\n",
      "   1.13098688e-01  1.00520156e-01  0.00000000e+00  0.00000000e+00]\n",
      " [-8.92210007e-02  1.24498177e+00 -5.60542524e-01 -6.04782104e-01\n",
      "   1.15931749e-01  5.66662326e-02  0.00000000e+00  0.00000000e+00]\n",
      " [-9.47979912e-02  1.23077917e+00 -5.60550034e-01 -6.31446838e-01\n",
      "   1.18765064e-01  5.66714630e-02  0.00000000e+00  0.00000000e+00]\n",
      " [-1.00349046e-01  1.21747875e+00 -5.58625638e-01 -5.91414809e-01\n",
      "   1.22274473e-01  7.01947808e-02  0.00000000e+00  0.00000000e+00]\n",
      " [-1.05824664e-01  1.20359874e+00 -5.49138904e-01 -6.17012262e-01\n",
      "   1.23844482e-01  3.14028151e-02  0.00000000e+00  0.00000000e+00]\n",
      " [-1.11240484e-01  1.18912709e+00 -5.41637063e-01 -6.43192828e-01\n",
      "   1.23900533e-01  1.12100155e-03  0.00000000e+00  0.00000000e+00]\n",
      " [-1.16583630e-01  1.17406344e+00 -5.32523572e-01 -6.69349253e-01\n",
      "   1.22120932e-01 -3.55951115e-02  0.00000000e+00  0.00000000e+00]\n",
      " [-1.21831611e-01  1.15841913e+00 -5.20582795e-01 -6.94956839e-01\n",
      "   1.17919788e-01 -8.40306059e-02  0.00000000e+00  0.00000000e+00]\n",
      " [-1.27079487e-01  1.14217532e+00 -5.20569026e-01 -7.21626222e-01\n",
      "   1.13719873e-01 -8.40058774e-02  0.00000000e+00  0.00000000e+00]\n",
      " [-1.32266998e-01  1.12534177e+00 -5.12999415e-01 -7.47734606e-01\n",
      "   1.07991830e-01 -1.14570975e-01  0.00000000e+00  0.00000000e+00]\n",
      " [-1.37549594e-01  1.10789132e+00 -5.24927914e-01 -7.75331140e-01\n",
      "   1.04681998e-01 -6.62027523e-02  0.00000000e+00  0.00000000e+00]\n",
      " [-1.42830655e-01  1.08981991e+00 -5.24766505e-01 -8.02948654e-01\n",
      "   1.01371683e-01 -6.62063062e-02  0.00000000e+00  0.00000000e+00]\n",
      " [-1.48179531e-01  1.07114506e+00 -5.33265173e-01 -8.29878747e-01\n",
      "   9.97646227e-02 -3.21413837e-02  0.00000000e+00  0.00000000e+00]\n",
      " [-1.53450876e-01  1.05189204e+00 -5.23517728e-01 -8.55459213e-01\n",
      "   9.61742252e-02 -7.18079880e-02  0.00000000e+00  0.00000000e+00]\n",
      " [-1.58626944e-01  1.03204083e+00 -5.11565804e-01 -8.81896734e-01\n",
      "   9.01931301e-02 -1.19622186e-01  0.00000000e+00  0.00000000e+00]\n",
      " [-1.63897991e-01  1.01157629e+00 -5.23504078e-01 -9.09320295e-01\n",
      "   8.66188779e-02 -7.14848414e-02  0.00000000e+00  0.00000000e+00]\n",
      " [-1.69078916e-01  9.90519464e-01 -5.12188017e-01 -9.35531557e-01\n",
      "   8.07720721e-02 -1.16936326e-01  0.00000000e+00  0.00000000e+00]\n",
      " [-1.74346536e-01  9.68841255e-01 -5.23088276e-01 -9.63284731e-01\n",
      "   7.71343112e-02 -7.27554262e-02  0.00000000e+00  0.00000000e+00]\n",
      " [-1.79635331e-01  9.47153986e-01 -5.25241196e-01 -9.63691354e-01\n",
      "   7.35393092e-02 -7.19001889e-02  0.00000000e+00  0.00000000e+00]\n",
      " [-1.84924126e-01  9.24866855e-01 -5.25241017e-01 -9.90359187e-01\n",
      "   6.99443072e-02 -7.19000995e-02  0.00000000e+00  0.00000000e+00]\n",
      " [-1.90286919e-01  9.01979387e-01 -5.34522057e-01 -1.01714730e+00\n",
      "   6.82065785e-02 -3.47546302e-02  0.00000000e+00  0.00000000e+00]\n",
      " [-1.95613101e-01  8.79045904e-01 -5.31145632e-01 -1.01919925e+00\n",
      "   6.67541176e-02 -2.90493034e-02  0.00000000e+00  0.00000000e+00]\n",
      " [-2.01008469e-01  8.55493665e-01 -5.39853156e-01 -1.04678309e+00\n",
      "   6.70647472e-02  6.21282496e-03  0.00000000e+00  0.00000000e+00]\n",
      " [-2.06477359e-01  8.31323326e-01 -5.49089074e-01 -1.07433367e+00\n",
      "   6.92433268e-02  4.35715429e-02  0.00000000e+00  0.00000000e+00]\n",
      " [-2.11946204e-01  8.06553304e-01 -5.49089074e-01 -1.10100091e+00\n",
      "   7.14218915e-02  4.35714945e-02  0.00000000e+00  0.00000000e+00]\n",
      " [-2.17342898e-01  7.81192303e-01 -5.40027380e-01 -1.12716353e+00\n",
      "   7.17767626e-02  7.09726801e-03  0.00000000e+00  0.00000000e+00]\n",
      " [-2.22807497e-01  7.55229414e-01 -5.48545659e-01 -1.15400839e+00\n",
      "   7.38379285e-02  4.12235260e-02  0.00000000e+00  0.00000000e+00]\n",
      " [-2.28272110e-01  7.28666663e-01 -5.48545659e-01 -1.18067551e+00\n",
      "   7.58991167e-02  4.12238240e-02  0.00000000e+00  0.00000000e+00]\n",
      " [-2.33663991e-01  7.01504946e-01 -5.39428353e-01 -1.20719230e+00\n",
      "   7.61354193e-02  4.72616358e-03  0.00000000e+00  0.00000000e+00]\n",
      " [-2.38920256e-01  6.74662709e-01 -5.26715457e-01 -1.19304764e+00\n",
      "   7.72123486e-02  2.15386562e-02  0.00000000e+00  0.00000000e+00]\n",
      " [-2.44260401e-01  6.47222757e-01 -5.37224889e-01 -1.21972215e+00\n",
      "   8.03878084e-02  6.35091811e-02  0.00000000e+00  0.00000000e+00]\n",
      " [-2.49528840e-01  6.19195044e-01 -5.28212667e-01 -1.24574459e+00\n",
      "   8.17446932e-02  2.71377414e-02  0.00000000e+00  0.00000000e+00]\n",
      " [-2.54727423e-01  5.90582609e-01 -5.19434690e-01 -1.27164519e+00\n",
      "   8.13258439e-02 -8.37697182e-03  0.00000000e+00  0.00000000e+00]\n",
      " [-2.60014147e-01  5.62190354e-01 -5.28049350e-01 -1.26184237e+00\n",
      "   8.07054043e-02 -1.24085862e-02  0.00000000e+00  0.00000000e+00]\n",
      " [-2.65391290e-01  5.33180952e-01 -5.39402127e-01 -1.28940022e+00\n",
      "   8.23783353e-02  3.34585980e-02  0.00000000e+00  0.00000000e+00]\n",
      " [-2.70827442e-01  5.03560126e-01 -5.46812952e-01 -1.31665993e+00\n",
      "   8.55488479e-02  6.34100288e-02  0.00000000e+00  0.00000000e+00]\n",
      " [-2.76175588e-01  4.73340809e-01 -5.35795331e-01 -1.34314048e+00\n",
      "   8.65150243e-02  1.93235986e-02  0.00000000e+00  0.00000000e+00]\n",
      " [-2.81523794e-01  4.42521453e-01 -5.35795271e-01 -1.36980736e+00\n",
      "   8.74811783e-02  1.93232652e-02  0.00000000e+00  0.00000000e+00]\n",
      " [-2.86871970e-01  4.11102057e-01 -5.35795331e-01 -1.39647400e+00\n",
      "   8.84473324e-02  1.93230398e-02  0.00000000e+00  0.00000000e+00]\n",
      " [-2.92220175e-01  3.79082680e-01 -5.35795331e-01 -1.42314065e+00\n",
      "   8.94134790e-02  1.93227790e-02  0.00000000e+00  0.00000000e+00]\n",
      " [-2.97504187e-01  3.46480489e-01 -5.27727246e-01 -1.44894516e+00\n",
      "   8.87411386e-02 -1.34466114e-02  0.00000000e+00  0.00000000e+00]\n",
      " [-3.02855015e-01  3.13275307e-01 -5.36100745e-01 -1.47584462e+00\n",
      "   8.97468477e-02  2.01143883e-02  0.00000000e+00  0.00000000e+00]\n",
      " [-3.08131307e-01  2.79477537e-01 -5.26744485e-01 -1.50207281e+00\n",
      "   8.88715312e-02 -1.75063964e-02  0.00000000e+00  0.00000000e+00]\n",
      " [-3.13331455e-01  2.45086968e-01 -5.17197967e-01 -1.52830374e+00\n",
      "   8.60773399e-02 -5.58837838e-02  0.00000000e+00  0.00000000e+00]\n",
      " [-3.18531603e-01  2.10096508e-01 -5.17197907e-01 -1.55497098e+00\n",
      "   8.32831562e-02 -5.58837168e-02  0.00000000e+00  0.00000000e+00]\n",
      " [-3.23731810e-01  1.74506173e-01 -5.17197788e-01 -1.58163822e+00\n",
      "   8.04889724e-02 -5.58837280e-02  0.00000000e+00  0.00000000e+00]\n",
      " [-3.28840792e-01  1.38331756e-01 -5.05740225e-01 -1.60748422e+00\n",
      "   7.53826946e-02 -1.02125511e-01  0.00000000e+00  0.00000000e+00]\n",
      " [-3.33949745e-01  1.01557672e-01 -5.05740047e-01 -1.63415301e+00\n",
      "   7.02764168e-02 -1.02125406e-01  0.00000000e+00  0.00000000e+00]\n",
      " [-3.38963896e-01  6.41983598e-02 -4.93825763e-01 -1.66007626e+00\n",
      "   6.27702847e-02 -1.50122732e-01  0.00000000e+00  0.00000000e+00]\n",
      " [-3.43912542e-01  2.62486786e-02 -4.85601962e-01 -1.68628907e+00\n",
      "   5.36096767e-02 -1.83211982e-01  0.00000000e+00  0.00000000e+00]\n",
      " [-3.49041373e-01 -1.13949804e-02 -5.02918243e-01 -1.67272460e+00\n",
      "   4.37663011e-02 -1.96867630e-01  0.00000000e+00  0.00000000e+00]\n",
      " [-3.54170144e-01 -4.96373810e-02 -5.02917647e-01 -1.69939935e+00\n",
      "   3.39229815e-02 -1.96866289e-01  1.00000000e+00  0.00000000e+00]\n",
      " [-3.59639227e-01 -8.73917937e-02 -5.59587181e-01 -1.67835152e+00\n",
      "   4.08972912e-02  1.32471055e-01  1.00000000e+00  1.00000000e+00]\n",
      " [-3.65261227e-01 -1.07476860e-01 -3.70960176e-01  5.42947054e-02\n",
      "   2.40739688e-01  2.41084341e-02  1.00000000e+00  1.00000000e+00]]\n"
     ]
    }
   ],
   "source": [
    "def run_episode(model, env=env):\n",
    "    observation, _ = env.reset()\n",
    "    step = 0\n",
    "\n",
    "    rewards = []\n",
    "    log_probs = []\n",
    "    actions = []\n",
    "    observations = []\n",
    "\n",
    "    while True:\n",
    "        action, _log_probs = model.act(observation)\n",
    "        observation, reward, terminated, truncated, info = env.step(action)\n",
    "\n",
    "        actions.append(action)\n",
    "        rewards.append(reward)\n",
    "        log_probs.append(_log_probs)\n",
    "        observations.append(observation)\n",
    "\n",
    "        if terminated:\n",
    "            break\n",
    "        step += 1\n",
    "\n",
    "    rewards = torch.tensor(rewards)\n",
    "    \n",
    "    return rewards, log_probs, actions, np.array(observations)\n",
    "\n",
    "model = PolicyNetwork(env.observation_space.shape[0], env.action_space.n)\n",
    "rewards, log_probs, actions, observations = run_episode(model)\n",
    "\n",
    "print(rewards.shape)\n",
    "print(len(log_probs))\n",
    "print(actions)\n",
    "print(observations)\n",
    "\n",
    "del model, rewards, log_probs, actions, observations"
   ]
  },
  {
   "attachments": {},
   "cell_type": "markdown",
   "metadata": {},
   "source": [
    "Now, at the end of the episode, we need to determine $G$, the rewards after the end of each episode."
   ]
  },
  {
   "cell_type": "code",
   "execution_count": 153,
   "metadata": {},
   "outputs": [],
   "source": [
    "def discount_rewards(rewards, gamma=.99):\n",
    "    G = []\n",
    "    R = 0\n",
    "    for i in reversed(range(len(rewards))):\n",
    "        R = rewards[i] + gamma * R\n",
    "        G.insert(0, R)\n",
    "    return G\n",
    "\n",
    "# test it\n",
    "r = np.array([1,1,1,1,1])\n",
    "g = np.array(discount_rewards(r))\n",
    "t = np.array([4.90099501, 3.940399, 2.9701, 1.99, 1])\n",
    "assert np.allclose(g, t), \"Incorrect sum of discounted rewards\"\n",
    "del r, g, t"
   ]
  },
  {
   "cell_type": "code",
   "execution_count": 233,
   "metadata": {},
   "outputs": [
    {
     "name": "stdout",
     "output_type": "stream",
     "text": [
      "tensor([[ 0.0073,  0.0014,  0.0032, -0.0092, -0.0078, -0.0074,  0.0000,  0.0000],\n",
      "        [-0.0023, -0.0060, -0.0038,  0.0021,  0.0046,  0.0044,  0.0023,  0.0000],\n",
      "        [ 0.0000,  0.0000,  0.0000,  0.0000,  0.0000,  0.0000,  0.0000,  0.0000],\n",
      "        [-0.0035,  0.0014, -0.0004,  0.0103, -0.0024, -0.0086,  0.0000,  0.0000]],\n",
      "       grad_fn=<SubBackward0>)\n",
      "True False\n"
     ]
    }
   ],
   "source": [
    "def update(model, log_probs, rewards, alpha=0.01, gamma=0.99):\n",
    "    # compute the discounted rewards\n",
    "    G = discount_rewards(rewards, gamma)\n",
    "    for t in range(len(G)):\n",
    "        log_prob = log_probs[t]\n",
    "        g = G[t]\n",
    "\n",
    "        model.optimizer.zero_grad() # reset the gradients\n",
    "        log_prob.backward() # compute the gradients for each log pi(A_t, S_t, theta)\n",
    "        for param in model.parameters():\n",
    "            if param.grad is not None:\n",
    "                param.grad = alpha * gamma**t * g * param.grad # scale the gradients by the reward\n",
    "                param.grad = param.grad * -1. # flip the gradients (maximize the reward)\n",
    "        model.optimizer.step() # update the weights using the gradients\n",
    "\n",
    "# testing the update function\n",
    "model = PolicyNetwork(env.observation_space.shape[0], env.action_space.n)\n",
    "\n",
    "rewards, log_probs, actions, observations = run_episode(model)\n",
    "\n",
    "old = list(model.parameters())[0].clone()\n",
    "update(model, log_probs, rewards, alpha=1., gamma=1.) # no discounting, no scaling\n",
    "new = list(model.parameters())[0].clone()\n",
    "\n",
    "delta = new - old\n",
    "print(delta)\n",
    "\n",
    "left_leg_contact = (observations[:, -2]).sum() > 0\n",
    "right_leg_contact = (observations[:, -1]).sum() > 0\n",
    "\n",
    "left_leg_delta = delta[:, -2].sum(axis=0)\n",
    "right_leg_delta = delta[:, -1].sum(axis=0)\n",
    "\n",
    "# if there was no right leg contact, the right leg should have 0 delta\n",
    "assert left_leg_contact == True or left_leg_delta == 0.\n",
    "assert right_leg_contact == True or right_leg_delta == 0.\n",
    "\n",
    "# del model, rewards, log_probs"
   ]
  },
  {
   "attachments": {},
   "cell_type": "markdown",
   "metadata": {},
   "source": [
    "So the thing that's confusing me about this is: how could we be getting no changes in some of the weights? If we analyze the weight matrix, what we're seeing is the following table of how much each weight is changing:\n",
    "\n",
    "|                      | x-coord | y-coord | x-vel | y-vel | angle | angular-vel | left-leg-contact | right-leg-contact |\n",
    "|----------------------|---------|---------|-------|-------|-------|-------------|------------------|-------------------|\n",
    "| action 0: no-op      |         |         |       |       |       |             |                  |                   |\n",
    "| action 1: fire left  |         |         |       |       |       |             |                  |                   |\n",
    "| action 2: fire main  |         |         |       |       |       |             |                  |                   |\n",
    "| action 3: fire right |         |         |       |       |       |             |                  |                   |\n"
   ]
  },
  {
   "attachments": {},
   "cell_type": "markdown",
   "metadata": {},
   "source": [
    "It makes sense as to why the policy gradient would be 0 for the left and right leg contact, if in the given episode it never made contact (the lander spun upside-down).\n",
    "\n",
    "Now a policy with no priors will draw from the actions equally, and with 20 steps it's basically certain that we'll choose each of the four actions at least once. So that's what's confusing to me about getting a change of 0 after an episode for an action."
   ]
  },
  {
   "attachments": {},
   "cell_type": "markdown",
   "metadata": {},
   "source": [
    "And now we'll try it for a bunch of episodes."
   ]
  },
  {
   "cell_type": "code",
   "execution_count": 10,
   "metadata": {},
   "outputs": [
    {
     "data": {
      "image/png": "[encoded data removed]",
      "text/plain": [
       "<Figure size 640x480 with 1 Axes>"
      ]
     },
     "metadata": {},
     "output_type": "display_data"
    }
   ],
   "source": [
    "from matplotlib import pyplot as plt\n",
    "from IPython.display import display, clear_output\n",
    "\n",
    "network_shape = env.observation_space.shape[0], (env.action_space.n - env.action_space.start)\n",
    "model = PolicyNetwork(*network_shape)\n",
    "\n",
    "rewards_track = []\n",
    "fig = plt.figure()\n",
    "ax = fig.add_subplot(1,1,1)\n",
    "\n",
    "for i in range(1000):\n",
    "    rewards, log_probs = run_episode(model)\n",
    "    d_rewards = discount_rewards(rewards, gamma)\n",
    "    update(model, log_probs, d_rewards)\n",
    "\n",
    "    rewards_track += [sum(rewards).detach().tolist()]\n",
    "\n",
    "    if i % 100 == 0:\n",
    "        ax.clear()\n",
    "        ax.plot(rewards_track)\n",
    "        ax.set_title(\"Reward\")\n",
    "\n",
    "        # add a smoothed version\n",
    "        if len(rewards_track) > 100:\n",
    "            smoothed = [np.mean(rewards_track[i:i+100]) for i in range(len(rewards_track) - 100)]\n",
    "            ax.plot(smoothed)\n",
    "\n",
    "        display(fig)\n",
    "        clear_output(wait=True)\n",
    "        plt.pause(0.001)\n",
    "\n",
    "        if sum(rewards_track[-100:]) / 100 > 195:\n",
    "            print(\"Solved!\")\n",
    "            break"
   ]
  },
  {
   "attachments": {},
   "cell_type": "markdown",
   "metadata": {},
   "source": [
    "It looks like the reward variances are very high, leading to unstable training. We can improve this by using a baseline, which will reduce the variance."
   ]
  },
  {
   "attachments": {},
   "cell_type": "markdown",
   "metadata": {},
   "source": [
    "Taking a step back here, how are we even getting a reward of -40000? It seems too low. Let's try to understand what's going on here."
   ]
  },
  {
   "cell_type": "code",
   "execution_count": null,
   "metadata": {},
   "outputs": [],
   "source": []
  },
  {
   "cell_type": "code",
   "execution_count": 11,
   "metadata": {},
   "outputs": [
    {
     "data": {
      "text/plain": [
       "tensor([-0.0150], grad_fn=<AddBackward0>)"
      ]
     },
     "execution_count": 11,
     "metadata": {},
     "output_type": "execute_result"
    }
   ],
   "source": [
    "import torch\n",
    "import torch.nn as nn\n",
    "\n",
    "# takes in a state, estimates the value of the state v(s)\n",
    "class StateValueNetwork(nn.Module):\n",
    "    def __init__(self, state_size, hidden_size=128):\n",
    "        super().__init__()\n",
    "        self.layer = nn.Sequential(\n",
    "            nn.Linear(state_size, hidden_size),\n",
    "            nn.ReLU(),\n",
    "            nn.Linear(hidden_size, 1)\n",
    "        )\n",
    "        self.optimizer = torch.optim.Adam(self.parameters(), lr=1e-3)\n",
    "\n",
    "    def forward(self, state):\n",
    "        return self.layer(torch.tensor(state))\n",
    "    \n",
    "model = StateValueNetwork(env.observation_space.shape[0])\n",
    "observation, _ = env.reset()\n",
    "model(observation)"
   ]
  },
  {
   "cell_type": "code",
   "execution_count": 12,
   "metadata": {},
   "outputs": [],
   "source": [
    "def run_episode(model, env=env):\n",
    "    observation, _ = env.reset()\n",
    "    step = 0\n",
    "\n",
    "    rewards = []\n",
    "    log_probs = []\n",
    "    states = [observation]\n",
    "\n",
    "    while True:\n",
    "        action, _log_probs = model.act(observation)\n",
    "        observation, reward, terminated, truncated, info = env.step(action)\n",
    "\n",
    "        rewards.append(reward)\n",
    "        log_probs.append(_log_probs)\n",
    "        states.append(observation)\n",
    "\n",
    "        if terminated:\n",
    "            observation = env.reset()\n",
    "            break\n",
    "        step += 1\n",
    "\n",
    "    rewards = torch.tensor(rewards)\n",
    "    \n",
    "    return rewards, log_probs, states\n",
    "\n",
    "model = PolicyNetwork(*network_shape)\n",
    "rewards, log_probs, states = run_episode(model)"
   ]
  },
  {
   "cell_type": "code",
   "execution_count": 13,
   "metadata": {},
   "outputs": [],
   "source": [
    "def update_with_baseline(policy_model, state_value_model, log_probs, discounted_rewards, states, alpha=0.01):\n",
    "    for (t,(log_prob, reward, state)) in enumerate(zip(log_probs, discounted_rewards, states)):\n",
    "        \n",
    "        # update for the state value model\n",
    "        baseline = state_value_model(state)\n",
    "        state_value_model.optimizer.zero_grad() # reset the gradients\n",
    "        baseline.backward()\n",
    "        for param in state_value_model.parameters():\n",
    "            if param.grad is not None:\n",
    "                alpha = .1 / torch.mean(param.grad**2)\n",
    "                param.grad = alpha * (reward - baseline) * param.grad\n",
    "                param.grad = param.grad * -1. # flip the gradients (maximize the reward)\n",
    "        state_value_model.optimizer.step() # update the weights using the gradients\n",
    "\n",
    "        # updates for the policy model\n",
    "        policy_model.optimizer.zero_grad() # reset the gradients\n",
    "        log_prob.backward() # compute the gradients for each log pi(A_t, S_t, theta)\n",
    "        for param in policy_model.parameters():\n",
    "            if param.grad is not None:\n",
    "                param.grad = alpha * (reward - baseline) * gamma**t * param.grad   # scale the gradients by the reward\n",
    "                param.grad = param.grad * -1. # flip the gradients (maximize the reward)\n",
    "        policy_model.optimizer.step() # update the weights using the gradients\n",
    "\n",
    "policy = PolicyNetwork(env.observation_space.shape[0], env.action_space.n)\n",
    "state_value = StateValueNetwork(env.observation_space.shape[0])\n",
    "update_with_baseline(policy, state_value, log_probs, discount_rewards(rewards, gamma), states)"
   ]
  },
  {
   "cell_type": "code",
   "execution_count": 14,
   "metadata": {},
   "outputs": [
    {
     "data": {
      "image/png": "[encoded data removed]",
      "text/plain": [
       "<Figure size 640x480 with 1 Axes>"
      ]
     },
     "metadata": {},
     "output_type": "display_data"
    }
   ],
   "source": [
    "from matplotlib import pyplot as plt\n",
    "from IPython.display import display, clear_output\n",
    "\n",
    "policy = PolicyNetwork(*network_shape)\n",
    "state = StateValueNetwork(env.observation_space.shape[0])\n",
    "\n",
    "rewards_track = []\n",
    "fig = plt.figure()\n",
    "ax = fig.add_subplot(1,1,1)\n",
    "\n",
    "for i in range(3000):\n",
    "    rewards, log_probs, states = run_episode(model)\n",
    "    d_rewards = discount_rewards(rewards, gamma)\n",
    "    update_with_baseline(policy, state, log_probs, d_rewards, states)\n",
    "\n",
    "    rewards_track += [sum(rewards).detach().tolist()]\n",
    "\n",
    "    if i % 100 == 0:\n",
    "\n",
    "        ax.clear()\n",
    "        ax.plot(rewards_track)\n",
    "        ax.set_title(\"Reward\")\n",
    "        # add a smoothed version\n",
    "        if len(rewards_track) > 100:\n",
    "            smoothed = [np.mean(rewards_track[i:i+100]) for i in range(len(rewards_track) - 100)]\n",
    "            ax.plot(smoothed)\n",
    "\n",
    "        display(fig)\n",
    "        clear_output(wait=True)\n",
    "        plt.pause(0.001)\n",
    "\n",
    "        if sum(rewards_track[-100:]) / 100 > 195:\n",
    "            print(\"Solved!\")\n",
    "            break"
   ]
  },
  {
   "attachments": {},
   "cell_type": "markdown",
   "metadata": {},
   "source": [
    "Alright, so something is broken in our implementation of the state value. Let's try to fix it. Good first check is on the gradients. Are they flowing?"
   ]
  },
  {
   "cell_type": "code",
   "execution_count": 47,
   "metadata": {},
   "outputs": [
    {
     "data": {
      "text/plain": [
       "[('layer.0.weight', '0.0%'),\n",
       " ('layer.0.bias', '0.0%'),\n",
       " ('layer.2.weight', '0.0%'),\n",
       " ('layer.2.bias', '0.0%')]"
      ]
     },
     "execution_count": 47,
     "metadata": {},
     "output_type": "execute_result"
    }
   ],
   "source": [
    "# print the percentage that are near 0\n",
    "def show_grads(model, tol=1e-2):\n",
    "    return sorted([(name, f\"{100.0 * float(torch.sum(torch.abs(param) <= tol)) / float(param.nelement())}%\") for name, param in model.named_parameters() if param.requires_grad], key=lambda t: t[1], reverse=True)\n",
    "\n",
    "show_grads(state)"
   ]
  },
  {
   "attachments": {},
   "cell_type": "markdown",
   "metadata": {},
   "source": [
    "So none of our gradients are at 0. That's good. Let's check how they're distributed. Ideally, we want them to be centered around 0 and have a small variance. This means that the gradients are neither too big nor too small, and that they're both positive and negative."
   ]
  },
  {
   "cell_type": "code",
   "execution_count": 74,
   "metadata": {},
   "outputs": [
    {
     "data": {
      "image/png": "[encoded data removed]",
      "text/plain": [
       "<Figure size 640x480 with 4 Axes>"
      ]
     },
     "metadata": {},
     "output_type": "display_data"
    }
   ],
   "source": [
    "\n",
    "fig, ax = plt.subplots(1, len(list(state.parameters())))\n",
    "for (i, (name, param)) in enumerate(state.named_parameters()):\n",
    "    # set the subplot title to be the parameter name\n",
    "    ax[i].set_title(name)\n",
    "    # plot the parameter values\n",
    "    ax[i].hist(param.flatten().detach().numpy(), bins=20)"
   ]
  },
  {
   "attachments": {},
   "cell_type": "markdown",
   "metadata": {},
   "source": [
    "I think we need to normalize the gradient values, much like batch RMS."
   ]
  },
  {
   "cell_type": "code",
   "execution_count": 54,
   "metadata": {},
   "outputs": [
    {
     "ename": "RuntimeError",
     "evalue": "Trying to backward through the graph a second time (or directly access saved tensors after they have already been freed). Saved intermediate values of the graph are freed when you call .backward() or autograd.grad(). Specify retain_graph=True if you need to backward through the graph a second time or if you need to access saved tensors after calling backward.",
     "output_type": "error",
     "traceback": [
      "\u001b[0;31m---------------------------------------------------------------------------\u001b[0m",
      "\u001b[0;31mRuntimeError\u001b[0m                              Traceback (most recent call last)",
      "Cell \u001b[0;32mIn[54], line 24\u001b[0m\n\u001b[1;32m     22\u001b[0m p \u001b[39m=\u001b[39m PolicyNetwork(env\u001b[39m.\u001b[39mobservation_space\u001b[39m.\u001b[39mshape[\u001b[39m0\u001b[39m], env\u001b[39m.\u001b[39maction_space\u001b[39m.\u001b[39mn)\n\u001b[1;32m     23\u001b[0m s \u001b[39m=\u001b[39m StateValueNetwork(env\u001b[39m.\u001b[39mobservation_space\u001b[39m.\u001b[39mshape[\u001b[39m0\u001b[39m])\n\u001b[0;32m---> 24\u001b[0m update_with_baseline(p, s, log_probs, discount_rewards(rewards, gamma), states)\n",
      "Cell \u001b[0;32mIn[54], line 15\u001b[0m, in \u001b[0;36mupdate_with_baseline\u001b[0;34m(pm, sm, log_probs, discounted_rewards, states, alpha)\u001b[0m\n\u001b[1;32m     13\u001b[0m \u001b[39m# updates for the policy model\u001b[39;00m\n\u001b[1;32m     14\u001b[0m pm\u001b[39m.\u001b[39moptimizer\u001b[39m.\u001b[39mzero_grad() \u001b[39m# reset the gradients\u001b[39;00m\n\u001b[0;32m---> 15\u001b[0m log_prob\u001b[39m.\u001b[39;49mbackward() \u001b[39m# compute the gradients for each log pi(A_t, S_t, theta)\u001b[39;00m\n\u001b[1;32m     16\u001b[0m \u001b[39mfor\u001b[39;00m param \u001b[39min\u001b[39;00m pm\u001b[39m.\u001b[39mparameters():\n\u001b[1;32m     17\u001b[0m     \u001b[39mif\u001b[39;00m param\u001b[39m.\u001b[39mgrad \u001b[39mis\u001b[39;00m \u001b[39mnot\u001b[39;00m \u001b[39mNone\u001b[39;00m:\n",
      "File \u001b[0;32m~/Desktop/projects/rl/.rl/lib/python3.11/site-packages/torch/_tensor.py:487\u001b[0m, in \u001b[0;36mTensor.backward\u001b[0;34m(self, gradient, retain_graph, create_graph, inputs)\u001b[0m\n\u001b[1;32m    477\u001b[0m \u001b[39mif\u001b[39;00m has_torch_function_unary(\u001b[39mself\u001b[39m):\n\u001b[1;32m    478\u001b[0m     \u001b[39mreturn\u001b[39;00m handle_torch_function(\n\u001b[1;32m    479\u001b[0m         Tensor\u001b[39m.\u001b[39mbackward,\n\u001b[1;32m    480\u001b[0m         (\u001b[39mself\u001b[39m,),\n\u001b[0;32m   (...)\u001b[0m\n\u001b[1;32m    485\u001b[0m         inputs\u001b[39m=\u001b[39minputs,\n\u001b[1;32m    486\u001b[0m     )\n\u001b[0;32m--> 487\u001b[0m torch\u001b[39m.\u001b[39;49mautograd\u001b[39m.\u001b[39;49mbackward(\n\u001b[1;32m    488\u001b[0m     \u001b[39mself\u001b[39;49m, gradient, retain_graph, create_graph, inputs\u001b[39m=\u001b[39;49minputs\n\u001b[1;32m    489\u001b[0m )\n",
      "File \u001b[0;32m~/Desktop/projects/rl/.rl/lib/python3.11/site-packages/torch/autograd/__init__.py:200\u001b[0m, in \u001b[0;36mbackward\u001b[0;34m(tensors, grad_tensors, retain_graph, create_graph, grad_variables, inputs)\u001b[0m\n\u001b[1;32m    195\u001b[0m     retain_graph \u001b[39m=\u001b[39m create_graph\n\u001b[1;32m    197\u001b[0m \u001b[39m# The reason we repeat same the comment below is that\u001b[39;00m\n\u001b[1;32m    198\u001b[0m \u001b[39m# some Python versions print out the first line of a multi-line function\u001b[39;00m\n\u001b[1;32m    199\u001b[0m \u001b[39m# calls in the traceback and some print out the last line\u001b[39;00m\n\u001b[0;32m--> 200\u001b[0m Variable\u001b[39m.\u001b[39;49m_execution_engine\u001b[39m.\u001b[39;49mrun_backward(  \u001b[39m# Calls into the C++ engine to run the backward pass\u001b[39;49;00m\n\u001b[1;32m    201\u001b[0m     tensors, grad_tensors_, retain_graph, create_graph, inputs,\n\u001b[1;32m    202\u001b[0m     allow_unreachable\u001b[39m=\u001b[39;49m\u001b[39mTrue\u001b[39;49;00m, accumulate_grad\u001b[39m=\u001b[39;49m\u001b[39mTrue\u001b[39;49;00m)\n",
      "\u001b[0;31mRuntimeError\u001b[0m: Trying to backward through the graph a second time (or directly access saved tensors after they have already been freed). Saved intermediate values of the graph are freed when you call .backward() or autograd.grad(). Specify retain_graph=True if you need to backward through the graph a second time or if you need to access saved tensors after calling backward."
     ]
    }
   ],
   "source": [
    "def update_with_baseline(pm, sm, log_probs, discounted_rewards, states, alpha=0.01):\n",
    "    for (t,(log_prob, reward, state)) in enumerate(zip(log_probs, discounted_rewards, states)):\n",
    "        # update for the state value model\n",
    "        baseline = sm(state)\n",
    "        sm.optimizer.zero_grad() # reset the gradients\n",
    "        baseline.backward()\n",
    "        for param in sm.parameters():\n",
    "            if param.grad is not None:\n",
    "                param.grad = alpha * (reward - baseline) * param.grad\n",
    "                param.grad = param.grad * -1. # flip the gradients (maximize the reward)\n",
    "        sm.optimizer.step() # update the weights using the gradients\n",
    "\n",
    "        # updates for the policy model\n",
    "        pm.optimizer.zero_grad() # reset the gradients\n",
    "        log_prob.backward() # compute the gradients for each log pi(A_t, S_t, theta)\n",
    "        for param in pm.parameters():\n",
    "            if param.grad is not None:\n",
    "                param.grad = alpha * (reward - baseline) * gamma**t * param.grad   # scale the gradients by the reward\n",
    "                param.grad = param.grad * -1. # flip the gradients (maximize the reward)\n",
    "        pm.optimizer.step() # update the weights using the gradients\n",
    "\n",
    "p = PolicyNetwork(env.observation_space.shape[0], env.action_space.n)\n",
    "s = StateValueNetwork(env.observation_space.shape[0])\n",
    "update_with_baseline(p, s, log_probs, discount_rewards(rewards, gamma), states)"
   ]
  },
  {
   "attachments": {},
   "cell_type": "markdown",
   "metadata": {},
   "source": [
    "The values network should be converging to the true values of the states. The way in which we can determine this is by looking at the difference between the reward for the state and the value for the state, and they should get closer."
   ]
  },
  {
   "cell_type": "code",
   "execution_count": 73,
   "metadata": {},
   "outputs": [
    {
     "data": {
      "image/png": "[encoded data removed]",
      "text/plain": [
       "<Figure size 640x480 with 2 Axes>"
      ]
     },
     "metadata": {},
     "output_type": "display_data"
    }
   ],
   "source": [
    "from matplotlib import pyplot as plt\n",
    "from IPython.display import display, clear_output\n",
    "\n",
    "policy = PolicyNetwork(*network_shape)\n",
    "state = StateValueNetwork(env.observation_space.shape[0])\n",
    "\n",
    "diffs = []\n",
    "rewards_track = []\n",
    "\n",
    "# fig = plt.figure()\n",
    "# ax1 = fig.add_subplot(1,1,1)\n",
    "# ax2 = fig.add_subplot(1,2,1)\n",
    "\n",
    "for i in range(2000):\n",
    "    rewards, log_probs, states = run_episode(model)\n",
    "    d_rewards = discount_rewards(rewards, gamma)\n",
    "    update_with_baseline(policy, state, log_probs, d_rewards, states)\n",
    "\n",
    "    rewards_track += [sum(rewards).detach().tolist()]\n",
    "\n",
    "    v_hat = state(states)[:-1]\n",
    "    diffs += [((d_rewards - v_hat)**2).mean().detach().tolist()]\n",
    "\n",
    "    if i % 100 == 0:\n",
    "        ax1.clear()\n",
    "        ax1.plot(rewards_track)\n",
    "        ax1.set_title(\"Reward\")\n",
    "        # add a smoothed version\n",
    "        if len(rewards_track) > 100:\n",
    "            smoothed = [np.mean(rewards_track[i:i+100]) for i in range(len(rewards_track) - 100)]\n",
    "            ax1.plot(smoothed)\n",
    "        \n",
    "        ax2.clear()\n",
    "        ax2.plot(diffs)\n",
    "\n",
    "        display(fig)\n",
    "        clear_output(wait=True)\n",
    "        plt.pause(0.001)\n",
    "\n",
    "        if sum(rewards_track[-100:]) / 100 > 195:\n",
    "            print(\"Solved!\")\n",
    "            break"
   ]
  },
  {
   "cell_type": "code",
   "execution_count": null,
   "metadata": {},
   "outputs": [],
   "source": []
  }
 ],
 "metadata": {
  "kernelspec": {
   "display_name": ".rl",
   "language": "python",
   "name": "python3"
  },
  "language_info": {
   "codemirror_mode": {
    "name": "ipython",
    "version": 3
   },
   "file_extension": ".py",
   "mimetype": "text/x-python",
   "name": "python",
   "nbconvert_exporter": "python",
   "pygments_lexer": "ipython3",
   "version": "3.11.4"
  },
  "orig_nbformat": 4
 },
 "nbformat": 4,
 "nbformat_minor": 2
}
