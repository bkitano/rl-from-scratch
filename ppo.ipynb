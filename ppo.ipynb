{
 "cells": [
  {
   "cell_type": "code",
   "execution_count": 2,
   "metadata": {},
   "outputs": [
    {
     "data": {
      "text/plain": [
       "'0.29.0'"
      ]
     },
     "execution_count": 2,
     "metadata": {},
     "output_type": "execute_result"
    }
   ],
   "source": [
    "import gymnasium as gym\n",
    "gym.__version__"
   ]
  },
  {
   "cell_type": "code",
   "execution_count": 58,
   "metadata": {},
   "outputs": [],
   "source": [
    "env = gym.make(\"LunarLander-v2\")"
   ]
  },
  {
   "attachments": {},
   "cell_type": "markdown",
   "metadata": {},
   "source": [
    "From [docs](https://gymnasium.farama.org/environments/box2d/lunar_lander/)\n",
    "\n",
    "## Action Space\n",
    "There are four discrete actions available:\n",
    "\n",
    "0: do nothing\n",
    "\n",
    "1: fire left orientation engine\n",
    "\n",
    "2: fire main engine\n",
    "\n",
    "3: fire right orientation engine\n"
   ]
  },
  {
   "cell_type": "code",
   "execution_count": 4,
   "metadata": {},
   "outputs": [
    {
     "data": {
      "text/plain": [
       "Discrete(4)"
      ]
     },
     "execution_count": 4,
     "metadata": {},
     "output_type": "execute_result"
    }
   ],
   "source": [
    "env.action_space"
   ]
  },
  {
   "attachments": {},
   "cell_type": "markdown",
   "metadata": {},
   "source": [
    "\n",
    "## Observation Space\n",
    "The state is an 8-dimensional vector: the coordinates of the lander in x & y, its linear velocities in x & y, its angle, its angular velocity, and two booleans that represent whether each leg is in contact with the ground or not.\n"
   ]
  },
  {
   "cell_type": "code",
   "execution_count": 5,
   "metadata": {},
   "outputs": [
    {
     "name": "stdout",
     "output_type": "stream",
     "text": [
      "(8,)\n"
     ]
    },
    {
     "data": {
      "text/plain": [
       "Box([-1.5       -1.5       -5.        -5.        -3.1415927 -5.\n",
       " -0.        -0.       ], [1.5       1.5       5.        5.        3.1415927 5.        1.\n",
       " 1.       ], (8,), float32)"
      ]
     },
     "execution_count": 5,
     "metadata": {},
     "output_type": "execute_result"
    }
   ],
   "source": [
    "print(env.observation_space.shape)\n",
    "env.observation_space"
   ]
  },
  {
   "attachments": {},
   "cell_type": "markdown",
   "metadata": {},
   "source": [
    "## Taking a step"
   ]
  },
  {
   "cell_type": "code",
   "execution_count": 6,
   "metadata": {},
   "outputs": [],
   "source": [
    "env.reset()\n",
    "observation, reward, terminated, truncated, info = env.step(0)"
   ]
  },
  {
   "attachments": {},
   "cell_type": "markdown",
   "metadata": {},
   "source": [
    "## Reinforcement Learning Objective\n",
    "\n",
    "Our performance measure: \n",
    "\n",
    "$$\n",
    "J(\\theta) = \\mathbb{E} \\left[ \\sum_{t=0}^{T-1}r_{t+1} \\right]\n",
    "$$\n",
    "\n",
    "and our update rule:\n",
    "\n",
    "$$\n",
    "\\theta \\leftarrow \\theta + \\frac{\\partial}{\\partial \\theta} J(\\theta)\n",
    "$$"
   ]
  },
  {
   "attachments": {},
   "cell_type": "markdown",
   "metadata": {},
   "source": [
    "The gradient\n",
    "$$\n",
    "\\nabla J (\\theta) = \\mathbb{E}_\\pi \\left[ \\sum_a q_\\pi(S_t, a) \\nabla \\pi (a | S_t, \\theta) \\right]\n",
    "$$\n",
    "$$\n",
    "\\nabla J (\\theta) = \\mathbb{E}_\\pi \\left[ \\sum_a \\pi (a | S_t, \\theta) q_\\pi(S_t, a) \\frac{\\nabla \\pi (a | S_t, \\theta)}{\\pi (a | S_t, \\theta)} \\right]\n",
    "$$\n",
    "\n",
    "If we sample $A_t \\sim \\pi$, then we just replace the expectation over $a$ with the sample $A_t$. So we're doing this swap from expectation to sample:\n",
    "$$\n",
    "\\sum_a \\pi (a | S_t, \\theta) q_\\pi(S_t, a) \\rightarrow q_\\pi(S_t, A_t)\n",
    "$$\n",
    "which then simplifies $\\nabla J(\\theta)$ to\n",
    "\n",
    "$$\n",
    "\\nabla J (\\theta) = \\mathbb{E}_\\pi \\left[ q_\\pi(S_t, A_t) \\frac{\\nabla \\pi (A_t | S_t, \\theta)}{\\pi (A_t | S_t, \\theta)} \\right]\n",
    "$$\n",
    "\n",
    "and by $\\mathbb{E}_\\pi [G_t | S_t, A_t] = q_\\pi (S_t, A_t)$,\n",
    "\n",
    "$$\n",
    "\\nabla J (\\theta) = \\mathbb{E}_\\pi \\left[ G_t \\frac{\\nabla \\pi (a | S_t, \\theta)}{\\pi (a | S_t, \\theta)} \\right]\n",
    "$$"
   ]
  },
  {
   "attachments": {},
   "cell_type": "markdown",
   "metadata": {},
   "source": [
    "We're going to make one more simplification: note that $\\nabla \\ln x = \\frac{\\nabla x}{x}$, so\n",
    "$$\n",
    "\\nabla J (\\theta) = \\mathbb{E}_\\pi \\left[ G_t \\nabla \\ln \\pi (a | S_t, \\theta) \\right]\n",
    "$$"
   ]
  },
  {
   "attachments": {},
   "cell_type": "markdown",
   "metadata": {},
   "source": [
    "Now, we can actually calculate the value in brackets at each time step, and can then use it to update $\\theta$:\n",
    "\n",
    "$$\n",
    "\\theta_{t+1} = \\theta_t + \\alpha G_t \\nabla \\ln \\pi(A_t | S_t, \\theta_t)\n",
    "$$"
   ]
  },
  {
   "attachments": {},
   "cell_type": "markdown",
   "metadata": {},
   "source": [
    "We're now going to generate an episode $S_0, A_0, R_1,...,S_{T-1}, A_{T-1}, R_T$."
   ]
  },
  {
   "cell_type": "code",
   "execution_count": 86,
   "metadata": {},
   "outputs": [],
   "source": [
    "import torch\n",
    "import torch.nn as nn\n",
    "import torch.nn.functional as F\n",
    "\n",
    "# initialize policy network\n",
    "# takes in a state, determines the next action\n",
    "class PolicyNetwork(nn.Module):\n",
    "    def __init__(self, shape):\n",
    "        super().__init__()\n",
    "        self.w = nn.Linear(shape[0], shape[1])\n",
    "        self.layer = nn.Sequential(\n",
    "            self.w,\n",
    "            nn.ReLU()\n",
    "        )\n",
    "        self.optimizer = torch.optim.Adam(self.parameters(), lr=1e-3)\n",
    "\n",
    "    def forward(self, x):\n",
    "        logits = self.layer(x)\n",
    "        return logits\n",
    "    \n",
    "    def act(self, state):\n",
    "        state = torch.from_numpy(state).float().unsqueeze(0)\n",
    "        logits = self.forward(state).squeeze(0)\n",
    "        probs = F.softmax(logits, dim=-1)\n",
    "        action = torch.multinomial(probs, 1)\n",
    "        return action.item(), logits\n",
    "    \n",
    "network_shape = env.observation_space.shape[0], (env.action_space.n - env.action_space.start)\n",
    "model = PolicyNetwork(network_shape)"
   ]
  },
  {
   "attachments": {},
   "cell_type": "markdown",
   "metadata": {},
   "source": [
    "Here is a full episode of the moon landing."
   ]
  },
  {
   "cell_type": "code",
   "execution_count": 89,
   "metadata": {},
   "outputs": [
    {
     "name": "stdout",
     "output_type": "stream",
     "text": [
      "Total steps: 89\n"
     ]
    }
   ],
   "source": [
    "import numpy as np\n",
    "\n",
    "observation, _ = env.reset()\n",
    "step = 0\n",
    "\n",
    "observations = []\n",
    "actions = []\n",
    "rewards = []\n",
    "logits = []\n",
    "\n",
    "while True:\n",
    "    action, _logits = model.act(observation)\n",
    "    observation, reward, terminated, truncated, info = env.step(action)\n",
    "\n",
    "    observations.append(observation)\n",
    "    actions.append(action)\n",
    "    rewards.append(reward)\n",
    "    logits.append(_logits.detach().numpy())\n",
    "\n",
    "    if terminated:\n",
    "        observation = env.reset()\n",
    "        break\n",
    "    step += 1\n",
    "\n",
    "observations = torch.tensor(observations, dtype=torch.float)\n",
    "actions = torch.tensor(actions, dtype=torch.float)\n",
    "rewards = torch.tensor(rewards, dtype=torch.float)\n",
    "probs = torch.tensor(np.array(probs).flatten(), dtype=torch.float).reshape(-1, env.action_space.n)\n",
    "\n",
    "print(\"Total steps: {}\".format(step))"
   ]
  },
  {
   "attachments": {},
   "cell_type": "markdown",
   "metadata": {},
   "source": [
    "Now, at the end of the episode, we need to determine $G$, the rewards after the end of each episode."
   ]
  },
  {
   "cell_type": "code",
   "execution_count": 101,
   "metadata": {},
   "outputs": [
    {
     "ename": "RuntimeError",
     "evalue": "a view of a leaf Variable that requires grad is being used in an in-place operation.",
     "output_type": "error",
     "traceback": [
      "\u001b[0;31m---------------------------------------------------------------------------\u001b[0m",
      "\u001b[0;31mRuntimeError\u001b[0m                              Traceback (most recent call last)",
      "Cell \u001b[0;32mIn[101], line 10\u001b[0m\n\u001b[1;32m      7\u001b[0m     \u001b[39mreturn\u001b[39;00m discounted_rewards\n\u001b[1;32m      9\u001b[0m gamma \u001b[39m=\u001b[39m \u001b[39m0.99\u001b[39m\n\u001b[0;32m---> 10\u001b[0m discounted_rewards \u001b[39m=\u001b[39m discount_rewards(rewards, gamma)\n",
      "Cell \u001b[0;32mIn[101], line 6\u001b[0m, in \u001b[0;36mdiscount_rewards\u001b[0;34m(rewards, gamma)\u001b[0m\n\u001b[1;32m      4\u001b[0m \u001b[39mfor\u001b[39;00m t \u001b[39min\u001b[39;00m \u001b[39mreversed\u001b[39m(\u001b[39mrange\u001b[39m(\u001b[39mlen\u001b[39m(rewards))):\n\u001b[1;32m      5\u001b[0m     R \u001b[39m=\u001b[39m R \u001b[39m*\u001b[39m gamma \u001b[39m+\u001b[39m rewards[t]\n\u001b[0;32m----> 6\u001b[0m     discounted_rewards[t] \u001b[39m=\u001b[39m R\n\u001b[1;32m      7\u001b[0m \u001b[39mreturn\u001b[39;00m discounted_rewards\n",
      "\u001b[0;31mRuntimeError\u001b[0m: a view of a leaf Variable that requires grad is being used in an in-place operation."
     ]
    }
   ],
   "source": [
    "def discount_rewards(rewards, gamma):\n",
    "    discounted_rewards = torch.zeros_like(rewards, requires_grad=True)\n",
    "    R = 0\n",
    "    for t in reversed(range(len(rewards))):\n",
    "        R = R * gamma + rewards[t]\n",
    "        discounted_rewards[t] = R\n",
    "    return discounted_rewards\n",
    "\n",
    "gamma = 0.99\n",
    "discounted_rewards = discount_rewards(rewards, gamma)"
   ]
  },
  {
   "cell_type": "code",
   "execution_count": 100,
   "metadata": {},
   "outputs": [
    {
     "ename": "RuntimeError",
     "evalue": "element 0 of tensors does not require grad and does not have a grad_fn",
     "output_type": "error",
     "traceback": [
      "\u001b[0;31m---------------------------------------------------------------------------\u001b[0m",
      "\u001b[0;31mRuntimeError\u001b[0m                              Traceback (most recent call last)",
      "Cell \u001b[0;32mIn[100], line 1\u001b[0m\n\u001b[0;32m----> 1\u001b[0m discounted_rewards\u001b[39m.\u001b[39;49mbackward()\n",
      "File \u001b[0;32m~/Desktop/projects/rl/.rl/lib/python3.11/site-packages/torch/_tensor.py:487\u001b[0m, in \u001b[0;36mTensor.backward\u001b[0;34m(self, gradient, retain_graph, create_graph, inputs)\u001b[0m\n\u001b[1;32m    477\u001b[0m \u001b[39mif\u001b[39;00m has_torch_function_unary(\u001b[39mself\u001b[39m):\n\u001b[1;32m    478\u001b[0m     \u001b[39mreturn\u001b[39;00m handle_torch_function(\n\u001b[1;32m    479\u001b[0m         Tensor\u001b[39m.\u001b[39mbackward,\n\u001b[1;32m    480\u001b[0m         (\u001b[39mself\u001b[39m,),\n\u001b[0;32m   (...)\u001b[0m\n\u001b[1;32m    485\u001b[0m         inputs\u001b[39m=\u001b[39minputs,\n\u001b[1;32m    486\u001b[0m     )\n\u001b[0;32m--> 487\u001b[0m torch\u001b[39m.\u001b[39;49mautograd\u001b[39m.\u001b[39;49mbackward(\n\u001b[1;32m    488\u001b[0m     \u001b[39mself\u001b[39;49m, gradient, retain_graph, create_graph, inputs\u001b[39m=\u001b[39;49minputs\n\u001b[1;32m    489\u001b[0m )\n",
      "File \u001b[0;32m~/Desktop/projects/rl/.rl/lib/python3.11/site-packages/torch/autograd/__init__.py:200\u001b[0m, in \u001b[0;36mbackward\u001b[0;34m(tensors, grad_tensors, retain_graph, create_graph, grad_variables, inputs)\u001b[0m\n\u001b[1;32m    195\u001b[0m     retain_graph \u001b[39m=\u001b[39m create_graph\n\u001b[1;32m    197\u001b[0m \u001b[39m# The reason we repeat same the comment below is that\u001b[39;00m\n\u001b[1;32m    198\u001b[0m \u001b[39m# some Python versions print out the first line of a multi-line function\u001b[39;00m\n\u001b[1;32m    199\u001b[0m \u001b[39m# calls in the traceback and some print out the last line\u001b[39;00m\n\u001b[0;32m--> 200\u001b[0m Variable\u001b[39m.\u001b[39;49m_execution_engine\u001b[39m.\u001b[39;49mrun_backward(  \u001b[39m# Calls into the C++ engine to run the backward pass\u001b[39;49;00m\n\u001b[1;32m    201\u001b[0m     tensors, grad_tensors_, retain_graph, create_graph, inputs,\n\u001b[1;32m    202\u001b[0m     allow_unreachable\u001b[39m=\u001b[39;49m\u001b[39mTrue\u001b[39;49;00m, accumulate_grad\u001b[39m=\u001b[39;49m\u001b[39mTrue\u001b[39;49;00m)\n",
      "\u001b[0;31mRuntimeError\u001b[0m: element 0 of tensors does not require grad and does not have a grad_fn"
     ]
    }
   ],
   "source": [
    "discounted_rewards.backward()"
   ]
  },
  {
   "cell_type": "code",
   "execution_count": null,
   "metadata": {},
   "outputs": [],
   "source": []
  }
 ],
 "metadata": {
  "kernelspec": {
   "display_name": ".rl",
   "language": "python",
   "name": "python3"
  },
  "language_info": {
   "codemirror_mode": {
    "name": "ipython",
    "version": 3
   },
   "file_extension": ".py",
   "mimetype": "text/x-python",
   "name": "python",
   "nbconvert_exporter": "python",
   "pygments_lexer": "ipython3",
   "version": "3.11.4"
  },
  "orig_nbformat": 4
 },
 "nbformat": 4,
 "nbformat_minor": 2
}
